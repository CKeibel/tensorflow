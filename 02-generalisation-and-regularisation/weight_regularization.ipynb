{
  "nbformat": 4,
  "nbformat_minor": 0,
  "metadata": {
    "colab": {
      "name": "weight_regularization.ipynb",
      "provenance": [],
      "authorship_tag": "ABX9TyOwpJxgRskJ1aqA0z/IpkJ4"
    },
    "kernelspec": {
      "name": "python3",
      "display_name": "Python 3"
    },
    "language_info": {
      "name": "python"
    },
    "accelerator": "GPU"
  },
  "cells": [
    {
      "cell_type": "code",
      "execution_count": 1,
      "metadata": {
        "colab": {
          "base_uri": "https://localhost:8080/"
        },
        "id": "GkPPNQZfF6V9",
        "outputId": "6bf67706-cf35-4bd0-86e9-a8a673efa61a"
      },
      "outputs": [
        {
          "output_type": "stream",
          "name": "stdout",
          "text": [
            "Downloading data from https://storage.googleapis.com/tensorflow/tf-keras-datasets/imdb.npz\n",
            "17465344/17464789 [==============================] - 0s 0us/step\n",
            "17473536/17464789 [==============================] - 0s 0us/step\n",
            "x-shape: (25000,)\n",
            "y-shape: (25000,)\n"
          ]
        }
      ],
      "source": [
        "from tensorflow.keras.datasets import imdb\n",
        "(x_train, y_train), (x_test, y_test) = imdb.load_data(num_words=10_000)\n",
        "\n",
        "print(f\"x-shape: {x_train.shape}\")\n",
        "print(f\"y-shape: {y_train.shape}\")"
      ]
    },
    {
      "cell_type": "code",
      "source": [
        "from typing import Sequence\n",
        "import numpy as np\n",
        "\n",
        "def vectorize_seq(sequences, dimensions=10_000):\n",
        "    results = np.zeros(shape=(len(sequences), dimensions))\n",
        "    for i, sequence in enumerate(sequences):\n",
        "        results[i, sequence] = 1.\n",
        "    return results"
      ],
      "metadata": {
        "id": "i6rb0VnrGcGW"
      },
      "execution_count": 2,
      "outputs": []
    },
    {
      "cell_type": "code",
      "source": [
        "x_train = vectorize_seq(x_train)\n",
        "x_test = vectorize_seq(x_test)\n",
        "\n",
        "print(f\"train shape: {x_train.shape}\")\n",
        "print(f\"datapoint: {x_train[0]}\")"
      ],
      "metadata": {
        "colab": {
          "base_uri": "https://localhost:8080/"
        },
        "id": "x9fzuhYAHz-L",
        "outputId": "f16f867a-c629-41f7-d470-5b9722925580"
      },
      "execution_count": 3,
      "outputs": [
        {
          "output_type": "stream",
          "name": "stdout",
          "text": [
            "train shape: (25000, 10000)\n",
            "datapoint: [0. 1. 1. ... 0. 0. 0.]\n"
          ]
        }
      ]
    },
    {
      "cell_type": "code",
      "source": [
        "# model without weight regularization\n",
        "from tensorflow.keras.layers import Dense\n",
        "from tensorflow.keras.models import Sequential\n",
        "\n",
        "model = Sequential([\n",
        "    Dense(16, activation=\"relu\"),\n",
        "    Dense(16, activation=\"relu\"),\n",
        "    Dense(1, activation=\"sigmoid\")\n",
        "])\n",
        "\n",
        "model.compile(optimizer=\"rmsprop\",\n",
        "              loss=\"binary_crossentropy\",\n",
        "              metrics=[\"accuracy\"])"
      ],
      "metadata": {
        "id": "Y8vBeSZ7IIqN"
      },
      "execution_count": 5,
      "outputs": []
    },
    {
      "cell_type": "code",
      "source": [
        "res = model.fit(x_train,\n",
        "                y_train,\n",
        "                epochs=20,\n",
        "                batch_size=512,\n",
        "                validation_data=[x_test, y_test])"
      ],
      "metadata": {
        "colab": {
          "base_uri": "https://localhost:8080/"
        },
        "id": "JgLj4iq9Kef1",
        "outputId": "60ae79af-243c-4c4d-9423-c346a02cb091"
      },
      "execution_count": 6,
      "outputs": [
        {
          "output_type": "stream",
          "name": "stdout",
          "text": [
            "Epoch 1/20\n",
            "49/49 [==============================] - 7s 57ms/step - loss: 0.4661 - accuracy: 0.8256 - val_loss: 0.3525 - val_accuracy: 0.8788\n",
            "Epoch 2/20\n",
            "49/49 [==============================] - 1s 28ms/step - loss: 0.2707 - accuracy: 0.9078 - val_loss: 0.2900 - val_accuracy: 0.8891\n",
            "Epoch 3/20\n",
            "49/49 [==============================] - 1s 26ms/step - loss: 0.2045 - accuracy: 0.9274 - val_loss: 0.2819 - val_accuracy: 0.8884\n",
            "Epoch 4/20\n",
            "49/49 [==============================] - 1s 26ms/step - loss: 0.1708 - accuracy: 0.9398 - val_loss: 0.3204 - val_accuracy: 0.8725\n",
            "Epoch 5/20\n",
            "49/49 [==============================] - 1s 27ms/step - loss: 0.1457 - accuracy: 0.9497 - val_loss: 0.3075 - val_accuracy: 0.8810\n",
            "Epoch 6/20\n",
            "49/49 [==============================] - 1s 29ms/step - loss: 0.1292 - accuracy: 0.9545 - val_loss: 0.3573 - val_accuracy: 0.8658\n",
            "Epoch 7/20\n",
            "49/49 [==============================] - 1s 29ms/step - loss: 0.1129 - accuracy: 0.9622 - val_loss: 0.3568 - val_accuracy: 0.8729\n",
            "Epoch 8/20\n",
            "49/49 [==============================] - 1s 27ms/step - loss: 0.0987 - accuracy: 0.9678 - val_loss: 0.3816 - val_accuracy: 0.8711\n",
            "Epoch 9/20\n",
            "49/49 [==============================] - 1s 26ms/step - loss: 0.0880 - accuracy: 0.9722 - val_loss: 0.3993 - val_accuracy: 0.8693\n",
            "Epoch 10/20\n",
            "49/49 [==============================] - 1s 26ms/step - loss: 0.0762 - accuracy: 0.9755 - val_loss: 0.4345 - val_accuracy: 0.8661\n",
            "Epoch 11/20\n",
            "49/49 [==============================] - 1s 26ms/step - loss: 0.0688 - accuracy: 0.9795 - val_loss: 0.4649 - val_accuracy: 0.8613\n",
            "Epoch 12/20\n",
            "49/49 [==============================] - 1s 26ms/step - loss: 0.0584 - accuracy: 0.9832 - val_loss: 0.4946 - val_accuracy: 0.8592\n",
            "Epoch 13/20\n",
            "49/49 [==============================] - 1s 26ms/step - loss: 0.0520 - accuracy: 0.9846 - val_loss: 0.5164 - val_accuracy: 0.8597\n",
            "Epoch 14/20\n",
            "49/49 [==============================] - 1s 26ms/step - loss: 0.0448 - accuracy: 0.9880 - val_loss: 0.6087 - val_accuracy: 0.8538\n",
            "Epoch 15/20\n",
            "49/49 [==============================] - 1s 26ms/step - loss: 0.0366 - accuracy: 0.9905 - val_loss: 0.5815 - val_accuracy: 0.8559\n",
            "Epoch 16/20\n",
            "49/49 [==============================] - 1s 27ms/step - loss: 0.0341 - accuracy: 0.9911 - val_loss: 0.6491 - val_accuracy: 0.8549\n",
            "Epoch 17/20\n",
            "49/49 [==============================] - 1s 27ms/step - loss: 0.0279 - accuracy: 0.9935 - val_loss: 0.6652 - val_accuracy: 0.8493\n",
            "Epoch 18/20\n",
            "49/49 [==============================] - 1s 26ms/step - loss: 0.0234 - accuracy: 0.9944 - val_loss: 0.6929 - val_accuracy: 0.8505\n",
            "Epoch 19/20\n",
            "49/49 [==============================] - 1s 26ms/step - loss: 0.0199 - accuracy: 0.9952 - val_loss: 0.7257 - val_accuracy: 0.8525\n",
            "Epoch 20/20\n",
            "49/49 [==============================] - 1s 26ms/step - loss: 0.0159 - accuracy: 0.9962 - val_loss: 0.7816 - val_accuracy: 0.8472\n"
          ]
        }
      ]
    },
    {
      "cell_type": "code",
      "source": [
        "val_loss = res.history[\"val_loss\"]\n",
        "x_range = range(1, len(val_loss) +1)\n",
        "\n",
        "import matplotlib.pyplot as plt\n",
        "plt.plot(x_range, val_loss, \"b\", label=\"Validation loss\")\n",
        "plt.xlabel(\"Epochs\")\n",
        "plt.ylabel(\"Loss\")\n",
        "plt.legend()\n",
        "plt.show()"
      ],
      "metadata": {
        "colab": {
          "base_uri": "https://localhost:8080/",
          "height": 281
        },
        "id": "KBg2qe8-K47B",
        "outputId": "02972d38-fba5-4507-bb1b-f160c4c75cb7"
      },
      "execution_count": 7,
      "outputs": [
        {
          "output_type": "display_data",
          "data": {
            "text/plain": [
              "<Figure size 432x288 with 1 Axes>"
            ],
            "image/png": "[encoded data removed]"
          },
          "metadata": {
            "needs_background": "light"
          }
        }
      ]
    },
    {
      "cell_type": "code",
      "source": [
        "# train model with l2 weight decay\n",
        "from tensorflow.keras.regularizers import l2\n",
        "\n",
        "model = Sequential([\n",
        "    Dense(16, kernel_regularizer=l2(0.002), activation=\"relu\"),\n",
        "    Dense(16, kernel_regularizer=l2(0.002), activation=\"relu\"),\n",
        "    Dense(1, activation=\"sigmoid\")\n",
        "])\n",
        "\n",
        "model.compile(optimizer=\"rmsprop\",\n",
        "              loss=\"binary_crossentropy\",\n",
        "              metrics=[\"accuracy\"])"
      ],
      "metadata": {
        "id": "8Awt1EmgLnCQ"
      },
      "execution_count": 10,
      "outputs": []
    },
    {
      "cell_type": "code",
      "source": [
        "res_l2 = model.fit(x_train,\n",
        "                   y_train,\n",
        "                   epochs=20,\n",
        "                   batch_size=512,\n",
        "                   validation_data=(x_test, y_test))"
      ],
      "metadata": {
        "colab": {
          "base_uri": "https://localhost:8080/"
        },
        "id": "cv9Lbg8NMm_M",
        "outputId": "60b116c4-68dd-4e4d-f844-6fcd359329d9"
      },
      "execution_count": 12,
      "outputs": [
        {
          "output_type": "stream",
          "name": "stdout",
          "text": [
            "Epoch 1/20\n",
            "49/49 [==============================] - 3s 56ms/step - loss: 0.6152 - accuracy: 0.7898 - val_loss: 0.5117 - val_accuracy: 0.8474\n",
            "Epoch 2/20\n",
            "49/49 [==============================] - 1s 27ms/step - loss: 0.4324 - accuracy: 0.8821 - val_loss: 0.4087 - val_accuracy: 0.8822\n",
            "Epoch 3/20\n",
            "49/49 [==============================] - 1s 27ms/step - loss: 0.3589 - accuracy: 0.8986 - val_loss: 0.3809 - val_accuracy: 0.8825\n",
            "Epoch 4/20\n",
            "49/49 [==============================] - 1s 27ms/step - loss: 0.3281 - accuracy: 0.9082 - val_loss: 0.3689 - val_accuracy: 0.8832\n",
            "Epoch 5/20\n",
            "49/49 [==============================] - 1s 27ms/step - loss: 0.3096 - accuracy: 0.9125 - val_loss: 0.3790 - val_accuracy: 0.8778\n",
            "Epoch 6/20\n",
            "49/49 [==============================] - 2s 32ms/step - loss: 0.2977 - accuracy: 0.9195 - val_loss: 0.3649 - val_accuracy: 0.8821\n",
            "Epoch 7/20\n",
            "49/49 [==============================] - 1s 27ms/step - loss: 0.2923 - accuracy: 0.9204 - val_loss: 0.3703 - val_accuracy: 0.8812\n",
            "Epoch 8/20\n",
            "49/49 [==============================] - 1s 27ms/step - loss: 0.2818 - accuracy: 0.9241 - val_loss: 0.3701 - val_accuracy: 0.8805\n",
            "Epoch 9/20\n",
            "49/49 [==============================] - 1s 27ms/step - loss: 0.2789 - accuracy: 0.9238 - val_loss: 0.3667 - val_accuracy: 0.8824\n",
            "Epoch 10/20\n",
            "49/49 [==============================] - 1s 27ms/step - loss: 0.2741 - accuracy: 0.9274 - val_loss: 0.3687 - val_accuracy: 0.8816\n",
            "Epoch 11/20\n",
            "49/49 [==============================] - 1s 28ms/step - loss: 0.2720 - accuracy: 0.9274 - val_loss: 0.3908 - val_accuracy: 0.8742\n",
            "Epoch 12/20\n",
            "49/49 [==============================] - 1s 27ms/step - loss: 0.2624 - accuracy: 0.9312 - val_loss: 0.3780 - val_accuracy: 0.8778\n",
            "Epoch 13/20\n",
            "49/49 [==============================] - 1s 27ms/step - loss: 0.2614 - accuracy: 0.9303 - val_loss: 0.4008 - val_accuracy: 0.8682\n",
            "Epoch 14/20\n",
            "49/49 [==============================] - 1s 27ms/step - loss: 0.2597 - accuracy: 0.9318 - val_loss: 0.3777 - val_accuracy: 0.8792\n",
            "Epoch 15/20\n",
            "49/49 [==============================] - 1s 27ms/step - loss: 0.2602 - accuracy: 0.9300 - val_loss: 0.3838 - val_accuracy: 0.8758\n",
            "Epoch 16/20\n",
            "49/49 [==============================] - 1s 27ms/step - loss: 0.2539 - accuracy: 0.9330 - val_loss: 0.3905 - val_accuracy: 0.8754\n",
            "Epoch 17/20\n",
            "49/49 [==============================] - 1s 27ms/step - loss: 0.2547 - accuracy: 0.9326 - val_loss: 0.3816 - val_accuracy: 0.8764\n",
            "Epoch 18/20\n",
            "49/49 [==============================] - 1s 27ms/step - loss: 0.2471 - accuracy: 0.9364 - val_loss: 0.4019 - val_accuracy: 0.8694\n",
            "Epoch 19/20\n",
            "49/49 [==============================] - 1s 27ms/step - loss: 0.2502 - accuracy: 0.9339 - val_loss: 0.3934 - val_accuracy: 0.8725\n",
            "Epoch 20/20\n",
            "49/49 [==============================] - 1s 27ms/step - loss: 0.2436 - accuracy: 0.9366 - val_loss: 0.3813 - val_accuracy: 0.8765\n"
          ]
        }
      ]
    },
    {
      "cell_type": "code",
      "source": [
        "val_loss_l2 = res_l2.history[\"val_loss\"]\n",
        "\n",
        "plt.plot(x_range, val_loss, \"b\", label=\"Without l2\")\n",
        "plt.plot(x_range, val_loss_l2, \"r\", label=\"l2\")\n",
        "plt.xlabel(\"Epochs\")\n",
        "plt.ylabel(\"Loss\")\n",
        "plt.title(\"Comparision between losses on overfitting model\")\n",
        "plt.legend()\n",
        "plt.show()"
      ],
      "metadata": {
        "colab": {
          "base_uri": "https://localhost:8080/",
          "height": 295
        },
        "id": "wl4_U55LNDfg",
        "outputId": "26a22f9d-25d0-4ad9-f0f9-284929c50e01"
      },
      "execution_count": 13,
      "outputs": [
        {
          "output_type": "display_data",
          "data": {
            "text/plain": [
              "<Figure size 432x288 with 1 Axes>"
            ],
            "image/png": "[encoded data removed]"
          },
          "metadata": {
            "needs_background": "light"
          }
        }
      ]
    },
    {
      "cell_type": "code",
      "source": [
        ""
      ],
      "metadata": {
        "id": "ene4aU5eOCUt"
      },
      "execution_count": null,
      "outputs": []
    }
  ]
}
{
  "nbformat": 4,
  "nbformat_minor": 0,
  "metadata": {
    "colab": {
      "name": "EXERCISE__K-fold-mnist.ipynb",
      "provenance": [],
      "collapsed_sections": [],
      "authorship_tag": "ABX9TyNbpELHWiLR56/iLkYP5Byi"
    },
    "kernelspec": {
      "name": "python3",
      "display_name": "Python 3"
    },
    "language_info": {
      "name": "python"
    },
    "accelerator": "GPU",
    "gpuClass": "standard"
  },
  "cells": [
    {
      "cell_type": "code",
      "execution_count": 1,
      "metadata": {
        "id": "SS6AmVGzf4HJ"
      },
      "outputs": [],
      "source": [
        "from tensorflow.keras.datasets import mnist\n",
        "\n",
        "(x_train, y_train), _ = mnist.load_data()"
      ]
    },
    {
      "cell_type": "code",
      "source": [
        "import numpy as np\n",
        "x_train = np.reshape(x_train, (x_train.shape[0], x_train.shape[1]**2))\n",
        "x_train = x_train.astype(\"float32\") / 255\n",
        "\n",
        "print(f\"shape: {x_train.shape}\")\n",
        "print(f\"max: {np.max(x_train)} - min: {np.min(x_train)}\")"
      ],
      "metadata": {
        "colab": {
          "base_uri": "https://localhost:8080/"
        },
        "id": "fLwDV7hwgP0x",
        "outputId": "22d1cb3d-955c-49c5-c519-c017e7ae5497"
      },
      "execution_count": 2,
      "outputs": [
        {
          "output_type": "stream",
          "name": "stdout",
          "text": [
            "shape: (60000, 784)\n",
            "max: 1.0 - min: 0.0\n"
          ]
        }
      ]
    },
    {
      "cell_type": "code",
      "source": [
        "from tensorflow.keras.models import Sequential\n",
        "from tensorflow.keras.layers import Dense\n",
        "def build_model():\n",
        "    model = Sequential([\n",
        "        Dense(128, activation=\"relu\"),\n",
        "        Dense(64, activation=\"relu\"),\n",
        "        Dense(32, activation=\"relu\"),\n",
        "        Dense(10, activation=\"softmax\")\n",
        "    ])\n",
        "\n",
        "    model.compile(optimizer=\"rmsprop\",\n",
        "                loss=\"sparse_categorical_crossentropy\",\n",
        "                metrics=[\"accuracy\"])\n",
        "    return model"
      ],
      "metadata": {
        "id": "AOqSQ_s4hRFY"
      },
      "execution_count": 3,
      "outputs": []
    },
    {
      "cell_type": "code",
      "source": [
        "K = 4\n",
        "num_samples = len(x_train) // K\n",
        "history_acc = []\n",
        "history_loss = []\n",
        "\n",
        "for i in range(K):\n",
        "    print(f\"processing fold #{i+1}\")\n",
        "    x_val = x_train[i*num_samples: (i+1)*num_samples]\n",
        "    y_val = y_train[i*num_samples: (i+1)*num_samples]\n",
        "    x = np.concatenate([x_train[:i*num_samples], x_train[(i+1)*num_samples:]])\n",
        "    y = np.concatenate([y_train[:i*num_samples], y_train[(i+1)*num_samples:]])\n",
        "\n",
        "    model = build_model()\n",
        "    res = model.fit(x, y,\n",
        "                    epochs=10,\n",
        "                    batch_size=32,\n",
        "                    verbose=0,\n",
        "                    validation_data=(x_val, y_val)\n",
        "                    )\n",
        "    history_acc.append(res.history[\"val_accuracy\"])\n",
        "    history_loss.append(res.history[\"val_loss\"])"
      ],
      "metadata": {
        "colab": {
          "base_uri": "https://localhost:8080/"
        },
        "id": "wd4EhQCGg_wJ",
        "outputId": "02a4b677-dbe2-4e01-86ed-77981fafe86b"
      },
      "execution_count": 4,
      "outputs": [
        {
          "output_type": "stream",
          "name": "stdout",
          "text": [
            "processing fold #1\n",
            "processing fold #2\n",
            "processing fold #3\n",
            "processing fold #4\n"
          ]
        }
      ]
    },
    {
      "cell_type": "code",
      "source": [
        "mean_acc = [np.mean([acc[epoch] for acc in history_acc]) for epoch in range(10)]\n",
        "mean_loss = [np.mean([loss[epoch] for loss in history_loss]) for epoch in range(10)]"
      ],
      "metadata": {
        "id": "wJgOYTtnmkYi"
      },
      "execution_count": 5,
      "outputs": []
    },
    {
      "cell_type": "code",
      "source": [
        "import matplotlib.pyplot as plt\n",
        "x_range = range (1, 11)\n",
        "plt.plot(x_range, mean_acc, \"b\")\n",
        "plt.xlabel(\"Epochs\")\n",
        "plt.ylabel(\"Accuracy\")\n",
        "plt.title(\"Mean accuracy\")\n",
        "plt.show()"
      ],
      "metadata": {
        "colab": {
          "base_uri": "https://localhost:8080/",
          "height": 295
        },
        "id": "7yZS8FVOoWK2",
        "outputId": "b8eae911-1cc0-4d43-812e-851dc061d4ba"
      },
      "execution_count": 6,
      "outputs": [
        {
          "output_type": "display_data",
          "data": {
            "text/plain": [
              "<Figure size 432x288 with 1 Axes>"
            ],
            "image/png": "[encoded data removed]"
          },
          "metadata": {
            "needs_background": "light"
          }
        }
      ]
    },
    {
      "cell_type": "code",
      "source": [
        "plt.plot(x_range, mean_loss, \"r\")\n",
        "plt.xlabel(\"Epochs\")\n",
        "plt.ylabel(\"Loss\")\n",
        "plt.title(\"Mean loss\")\n",
        "plt.show()"
      ],
      "metadata": {
        "colab": {
          "base_uri": "https://localhost:8080/",
          "height": 295
        },
        "id": "IVl7BONIoyiK",
        "outputId": "5d66d51d-67ed-423c-a0ec-68680fb1dbcf"
      },
      "execution_count": 7,
      "outputs": [
        {
          "output_type": "display_data",
          "data": {
            "text/plain": [
              "<Figure size 432x288 with 1 Axes>"
            ],
            "image/png": "[encoded data removed]"
          },
          "metadata": {
            "needs_background": "light"
          }
        }
      ]
    },
    {
      "cell_type": "code",
      "source": [
        ""
      ],
      "metadata": {
        "id": "lWtcdJUypY3P"
      },
      "execution_count": 7,
      "outputs": []
    }
  ]
}
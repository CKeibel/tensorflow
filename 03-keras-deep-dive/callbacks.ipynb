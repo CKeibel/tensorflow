{
  "nbformat": 4,
  "nbformat_minor": 0,
  "metadata": {
    "colab": {
      "name": "callbacks.ipynb",
      "provenance": [],
      "authorship_tag": "ABX9TyOy/hVyhS368GfBrkXZ2dyb"
    },
    "kernelspec": {
      "name": "python3",
      "display_name": "Python 3"
    },
    "language_info": {
      "name": "python"
    },
    "accelerator": "GPU",
    "gpuClass": "standard"
  },
  "cells": [
    {
      "cell_type": "code",
      "execution_count": 1,
      "metadata": {
        "id": "XtLCxH06woEc"
      },
      "outputs": [],
      "source": [
        "from tensorflow.keras.datasets import mnist\n",
        "import numpy as np\n",
        "\n",
        "(x_train, y_train), _ = mnist.load_data()\n",
        "x_train = np.reshape(x_train, (x_train.shape[0], x_train.shape[1]**2))\n",
        "x_train = x_train.astype(\"float32\") / 255"
      ]
    },
    {
      "cell_type": "code",
      "source": [
        "from tensorflow.keras.models import Model\n",
        "from tensorflow.keras.layers import Dense, Dropout, Input\n",
        "\n",
        "inputs = Input(x_train.shape[1:])\n",
        "features = Dense(512, activation=\"relu\")(inputs)\n",
        "features = Dropout(0.5)(features)\n",
        "outputs = Dense(10, activation=\"softmax\")(features)\n",
        "\n",
        "model = Model(inputs=inputs, outputs=outputs)\n",
        "\n",
        "model.compile(optimizer=\"rmsprop\",\n",
        "              loss=\"sparse_categorical_crossentropy\",\n",
        "              metrics=[\"accuracy\"])"
      ],
      "metadata": {
        "id": "04uo84ozxdFd"
      },
      "execution_count": 2,
      "outputs": []
    },
    {
      "cell_type": "code",
      "source": [
        "from tensorflow.keras.callbacks import EarlyStopping, ModelCheckpoint\n",
        "\n",
        "callback_list = [\n",
        "    EarlyStopping(\n",
        "        monitor=\"val_accuracy\", \n",
        "        patience=3\n",
        "    ),\n",
        "    ModelCheckpoint(\n",
        "        filepath=\"checkpoint.keras\",\n",
        "        monitor=\"val_loss\",\n",
        "        save_best_only=True\n",
        "    )\n",
        "]"
      ],
      "metadata": {
        "id": "bcBBzc9byr7c"
      },
      "execution_count": 3,
      "outputs": []
    },
    {
      "cell_type": "code",
      "source": [
        "model.fit(x_train,\n",
        "          y_train,\n",
        "          epochs=30,\n",
        "          validation_split=0.3,\n",
        "          callbacks=callback_list)"
      ],
      "metadata": {
        "colab": {
          "base_uri": "https://localhost:8080/"
        },
        "id": "PQD3eVKozugD",
        "outputId": "ef9879ab-6c4f-434f-8997-0ac6e518af41"
      },
      "execution_count": 4,
      "outputs": [
        {
          "output_type": "stream",
          "name": "stdout",
          "text": [
            "Epoch 1/30\n",
            "1313/1313 [==============================] - 6s 4ms/step - loss: 0.3142 - accuracy: 0.9081 - val_loss: 0.1630 - val_accuracy: 0.9532\n",
            "Epoch 2/30\n",
            "1313/1313 [==============================] - 5s 4ms/step - loss: 0.1705 - accuracy: 0.9511 - val_loss: 0.1400 - val_accuracy: 0.9611\n",
            "Epoch 3/30\n",
            "1313/1313 [==============================] - 4s 3ms/step - loss: 0.1427 - accuracy: 0.9609 - val_loss: 0.1303 - val_accuracy: 0.9667\n",
            "Epoch 4/30\n",
            "1313/1313 [==============================] - 5s 4ms/step - loss: 0.1270 - accuracy: 0.9658 - val_loss: 0.1254 - val_accuracy: 0.9679\n",
            "Epoch 5/30\n",
            "1313/1313 [==============================] - 5s 4ms/step - loss: 0.1138 - accuracy: 0.9707 - val_loss: 0.1242 - val_accuracy: 0.9706\n",
            "Epoch 6/30\n",
            "1313/1313 [==============================] - 4s 3ms/step - loss: 0.1108 - accuracy: 0.9723 - val_loss: 0.1222 - val_accuracy: 0.9734\n",
            "Epoch 7/30\n",
            "1313/1313 [==============================] - 4s 3ms/step - loss: 0.1010 - accuracy: 0.9755 - val_loss: 0.1292 - val_accuracy: 0.9732\n",
            "Epoch 8/30\n",
            "1313/1313 [==============================] - 5s 4ms/step - loss: 0.1041 - accuracy: 0.9767 - val_loss: 0.1305 - val_accuracy: 0.9737\n",
            "Epoch 9/30\n",
            "1313/1313 [==============================] - 5s 4ms/step - loss: 0.0910 - accuracy: 0.9785 - val_loss: 0.1347 - val_accuracy: 0.9743\n",
            "Epoch 10/30\n",
            "1313/1313 [==============================] - 5s 4ms/step - loss: 0.0910 - accuracy: 0.9790 - val_loss: 0.1436 - val_accuracy: 0.9753\n",
            "Epoch 11/30\n",
            "1313/1313 [==============================] - 5s 4ms/step - loss: 0.0912 - accuracy: 0.9792 - val_loss: 0.1404 - val_accuracy: 0.9744\n",
            "Epoch 12/30\n",
            "1313/1313 [==============================] - 5s 4ms/step - loss: 0.0826 - accuracy: 0.9809 - val_loss: 0.1498 - val_accuracy: 0.9744\n",
            "Epoch 13/30\n",
            "1313/1313 [==============================] - 5s 4ms/step - loss: 0.0825 - accuracy: 0.9810 - val_loss: 0.1424 - val_accuracy: 0.9768\n",
            "Epoch 14/30\n",
            "1313/1313 [==============================] - 5s 4ms/step - loss: 0.0774 - accuracy: 0.9817 - val_loss: 0.1490 - val_accuracy: 0.9763\n",
            "Epoch 15/30\n",
            "1313/1313 [==============================] - 5s 4ms/step - loss: 0.0790 - accuracy: 0.9823 - val_loss: 0.1538 - val_accuracy: 0.9754\n",
            "Epoch 16/30\n",
            "1313/1313 [==============================] - 5s 4ms/step - loss: 0.0774 - accuracy: 0.9820 - val_loss: 0.1599 - val_accuracy: 0.9757\n"
          ]
        },
        {
          "output_type": "execute_result",
          "data": {
            "text/plain": [
              "<keras.callbacks.History at 0x7f5c3029bb10>"
            ]
          },
          "metadata": {},
          "execution_count": 4
        }
      ]
    },
    {
      "cell_type": "code",
      "source": [
        ""
      ],
      "metadata": {
        "id": "8GyjqJfkz_0H"
      },
      "execution_count": 4,
      "outputs": []
    }
  ]
}
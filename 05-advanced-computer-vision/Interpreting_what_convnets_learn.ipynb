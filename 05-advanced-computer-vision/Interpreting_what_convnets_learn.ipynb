{
  "nbformat": 4,
  "nbformat_minor": 0,
  "metadata": {
    "colab": {
      "name": "Interpreting what convnets learn.ipynb",
      "provenance": [],
      "authorship_tag": "ABX9TyNdAwEaNR8+8qpe9eHzrGCN"
    },
    "kernelspec": {
      "name": "python3",
      "display_name": "Python 3"
    },
    "language_info": {
      "name": "python"
    },
    "accelerator": "GPU",
    "gpuClass": "standard"
  },
  "cells": [
    {
      "cell_type": "code",
      "execution_count": null,
      "metadata": {
        "id": "-TAPgSFEGinV"
      },
      "outputs": [],
      "source": [
        "from google.colab import files\n",
        "files.upload()"
      ]
    },
    {
      "cell_type": "code",
      "source": [
        "!mkdir ~/.kaggle\n",
        "!cp kaggle.json ~/.kaggle/\n",
        "!chmod 600 ~/.kaggle/kaggle.json"
      ],
      "metadata": {
        "id": "BMjSGlEjG3XD"
      },
      "execution_count": 2,
      "outputs": []
    },
    {
      "cell_type": "code",
      "source": [
        "!kaggle competitions download -c dogs-vs-cats"
      ],
      "metadata": {
        "colab": {
          "base_uri": "https://localhost:8080/"
        },
        "id": "kcHRyNQRHDZj",
        "outputId": "ed55c73c-ec23-443e-f2df-febd5cbfe693"
      },
      "execution_count": 3,
      "outputs": [
        {
          "output_type": "stream",
          "name": "stdout",
          "text": [
            "Downloading dogs-vs-cats.zip to /content\n",
            " 99% 801M/812M [00:03<00:00, 223MB/s]\n",
            "100% 812M/812M [00:04<00:00, 212MB/s]\n"
          ]
        }
      ]
    },
    {
      "cell_type": "code",
      "source": [
        "!unzip -qq dogs-vs-cats.zip\n",
        "!unzip -qq train.zip"
      ],
      "metadata": {
        "id": "Drcj0COOHDuo"
      },
      "execution_count": 4,
      "outputs": []
    },
    {
      "cell_type": "code",
      "source": [
        "import os, shutil, pathlib\n",
        "\n",
        "o_dir = pathlib.Path(\"train\")\n",
        "n_dir = pathlib.Path(\"dogs_vs_cats_small\")\n",
        "\n",
        "def make_subsets(name, start, end):\n",
        "    for category in (\"dog\", \"cat\"):\n",
        "        dir = n_dir / name / category\n",
        "        os.makedirs(dir)\n",
        "    \n",
        "        fnames = [f\"{category}.{i}.jpg\" for i in range(start, end)]\n",
        "\n",
        "        for fname in fnames:\n",
        "            shutil.copyfile(src=o_dir / fname, dst=dir / fname)\n",
        "\n",
        "make_subsets(\"train\", start=0, end=1_000)\n",
        "make_subsets(\"validation\", start=1_000, end=1_500)\n",
        "make_subsets(\"test\", start=1_500, end=2_500)"
      ],
      "metadata": {
        "id": "IBkVcqwdHG21"
      },
      "execution_count": 5,
      "outputs": []
    },
    {
      "cell_type": "code",
      "source": [
        "from tensorflow.keras.utils import image_dataset_from_directory\n",
        "\n",
        "train_data = image_dataset_from_directory(\n",
        "    n_dir / \"train\",\n",
        "    image_size=(180, 180),\n",
        "    batch_size=32\n",
        ")\n",
        "\n",
        "val_data = image_dataset_from_directory(\n",
        "    n_dir / \"validation\",\n",
        "    image_size=(180, 180),\n",
        "    batch_size=32\n",
        ")\n",
        "\n",
        "test_data = image_dataset_from_directory(\n",
        "    n_dir / \"test\",\n",
        "    image_size=(180, 180),\n",
        "    batch_size=32\n",
        ")"
      ],
      "metadata": {
        "colab": {
          "base_uri": "https://localhost:8080/"
        },
        "id": "SxYXaHjKIZsB",
        "outputId": "545a2cf1-d378-44ab-8de6-cfe99a43c693"
      },
      "execution_count": 6,
      "outputs": [
        {
          "output_type": "stream",
          "name": "stdout",
          "text": [
            "Found 2000 files belonging to 2 classes.\n",
            "Found 1000 files belonging to 2 classes.\n",
            "Found 2000 files belonging to 2 classes.\n"
          ]
        }
      ]
    },
    {
      "cell_type": "code",
      "source": [
        "from tensorflow.keras.models import Model, Sequential\n",
        "from tensorflow.keras.optimizers import RMSprop\n",
        "from tensorflow.keras.layers import (\n",
        "    Conv2D, \n",
        "    Dense, \n",
        "    Input, \n",
        "    MaxPooling2D,\n",
        "    Flatten,\n",
        "    Rescaling,\n",
        "    BatchNormalization,\n",
        "    Activation,\n",
        "    RandomRotation,\n",
        "    RandomFlip,\n",
        "    RandomZoom,\n",
        "    Dropout\n",
        ")\n",
        "\n",
        "data_aug = Sequential([\n",
        "    RandomFlip(\"horizontal\"),\n",
        "    RandomRotation(0.1),\n",
        "    RandomZoom(0.2)\n",
        "])\n",
        "\n",
        "inputs = Input(shape=(180, 180, 3))\n",
        "x = data_aug(inputs)\n",
        "x = Rescaling(1. /255)(x)\n",
        "\n",
        "x = Conv2D(32, 3)(x)\n",
        "x = BatchNormalization()(x)\n",
        "x = Activation(\"relu\")(x)\n",
        "x = MaxPooling2D(pool_size=2)(x)\n",
        "\n",
        "x = Conv2D(64, 3)(x)\n",
        "x = BatchNormalization()(x)\n",
        "x = Activation(\"relu\")(x)\n",
        "x = MaxPooling2D(pool_size=2)(x)\n",
        "\n",
        "x = Conv2D(128, 3)(x)\n",
        "x = BatchNormalization()(x)\n",
        "x = Activation(\"relu\")(x)\n",
        "x = MaxPooling2D(pool_size=2)(x)\n",
        "\n",
        "x = Conv2D(256, 3)(x)\n",
        "x = BatchNormalization()(x)\n",
        "x = Activation(\"relu\")(x)\n",
        "x = MaxPooling2D(pool_size=2)(x)\n",
        "\n",
        "x = Conv2D(256, 3)(x)\n",
        "x = BatchNormalization()(x)\n",
        "x = Activation(\"relu\")(x)\n",
        "x = MaxPooling2D(pool_size=2)(x)\n",
        "\n",
        "x = Flatten()(x)\n",
        "x = Dropout(0.5)(x)\n",
        "outputs = Dense(1, activation=\"sigmoid\")(x)\n",
        "\n",
        "model = Model(inputs=inputs, outputs=outputs)\n",
        "model.compile(optimizer=RMSprop(learning_rate=1e-5),\n",
        "              loss=\"binary_crossentropy\",\n",
        "              metrics=[\"accuracy\"])\n",
        "\n",
        "model.summary()"
      ],
      "metadata": {
        "colab": {
          "base_uri": "https://localhost:8080/"
        },
        "id": "0SROLc11JJBs",
        "outputId": "7211fd7f-ae5b-42e2-f8a9-d23ef1a8394b"
      },
      "execution_count": 19,
      "outputs": [
        {
          "output_type": "stream",
          "name": "stdout",
          "text": [
            "Model: \"model_5\"\n",
            "_________________________________________________________________\n",
            " Layer (type)                Output Shape              Param #   \n",
            "=================================================================\n",
            " input_6 (InputLayer)        [(None, 180, 180, 3)]     0         \n",
            "                                                                 \n",
            " sequential_5 (Sequential)   (None, 180, 180, 3)       0         \n",
            "                                                                 \n",
            " rescaling_5 (Rescaling)     (None, 180, 180, 3)       0         \n",
            "                                                                 \n",
            " conv2d_25 (Conv2D)          (None, 178, 178, 32)      896       \n",
            "                                                                 \n",
            " batch_normalization_20 (Bat  (None, 178, 178, 32)     128       \n",
            " chNormalization)                                                \n",
            "                                                                 \n",
            " activation_25 (Activation)  (None, 178, 178, 32)      0         \n",
            "                                                                 \n",
            " max_pooling2d_5 (MaxPooling  (None, 89, 89, 32)       0         \n",
            " 2D)                                                             \n",
            "                                                                 \n",
            " conv2d_26 (Conv2D)          (None, 87, 87, 64)        18496     \n",
            "                                                                 \n",
            " batch_normalization_21 (Bat  (None, 87, 87, 64)       256       \n",
            " chNormalization)                                                \n",
            "                                                                 \n",
            " activation_26 (Activation)  (None, 87, 87, 64)        0         \n",
            "                                                                 \n",
            " max_pooling2d_6 (MaxPooling  (None, 43, 43, 64)       0         \n",
            " 2D)                                                             \n",
            "                                                                 \n",
            " conv2d_27 (Conv2D)          (None, 41, 41, 128)       73856     \n",
            "                                                                 \n",
            " batch_normalization_22 (Bat  (None, 41, 41, 128)      512       \n",
            " chNormalization)                                                \n",
            "                                                                 \n",
            " activation_27 (Activation)  (None, 41, 41, 128)       0         \n",
            "                                                                 \n",
            " max_pooling2d_7 (MaxPooling  (None, 20, 20, 128)      0         \n",
            " 2D)                                                             \n",
            "                                                                 \n",
            " conv2d_28 (Conv2D)          (None, 18, 18, 256)       295168    \n",
            "                                                                 \n",
            " batch_normalization_23 (Bat  (None, 18, 18, 256)      1024      \n",
            " chNormalization)                                                \n",
            "                                                                 \n",
            " activation_28 (Activation)  (None, 18, 18, 256)       0         \n",
            "                                                                 \n",
            " max_pooling2d_8 (MaxPooling  (None, 9, 9, 256)        0         \n",
            " 2D)                                                             \n",
            "                                                                 \n",
            " conv2d_29 (Conv2D)          (None, 7, 7, 256)         590080    \n",
            "                                                                 \n",
            " batch_normalization_24 (Bat  (None, 7, 7, 256)        1024      \n",
            " chNormalization)                                                \n",
            "                                                                 \n",
            " activation_29 (Activation)  (None, 7, 7, 256)         0         \n",
            "                                                                 \n",
            " max_pooling2d_9 (MaxPooling  (None, 3, 3, 256)        0         \n",
            " 2D)                                                             \n",
            "                                                                 \n",
            " flatten_4 (Flatten)         (None, 2304)              0         \n",
            "                                                                 \n",
            " dropout_5 (Dropout)         (None, 2304)              0         \n",
            "                                                                 \n",
            " dense_5 (Dense)             (None, 1)                 2305      \n",
            "                                                                 \n",
            "=================================================================\n",
            "Total params: 983,745\n",
            "Trainable params: 982,273\n",
            "Non-trainable params: 1,472\n",
            "_________________________________________________________________\n"
          ]
        }
      ]
    },
    {
      "cell_type": "code",
      "source": [
        "from tensorflow.keras.callbacks import ModelCheckpoint\n",
        "\n",
        "callbacks = [\n",
        "    ModelCheckpoint(\n",
        "        montior=\"validation_loss\",\n",
        "        save_best_only=True,\n",
        "        filepath=\"cnn.keras\"\n",
        "    )\n",
        "]"
      ],
      "metadata": {
        "id": "0q4KiKO7LXC8"
      },
      "execution_count": 20,
      "outputs": []
    },
    {
      "cell_type": "code",
      "source": [
        "model.fit(train_data,\n",
        "          epochs=50,\n",
        "          validation_data=val_data,\n",
        "          callbacks=callbacks)"
      ],
      "metadata": {
        "colab": {
          "base_uri": "https://localhost:8080/"
        },
        "id": "-CAyg0EqL055",
        "outputId": "32d2b2bd-651e-47aa-a904-91775b9784ac"
      },
      "execution_count": 21,
      "outputs": [
        {
          "output_type": "stream",
          "name": "stdout",
          "text": [
            "Epoch 1/50\n",
            "63/63 [==============================] - 8s 91ms/step - loss: 0.9650 - accuracy: 0.5190 - val_loss: 0.6941 - val_accuracy: 0.5000\n",
            "Epoch 2/50\n",
            "63/63 [==============================] - 5s 79ms/step - loss: 0.8962 - accuracy: 0.5555 - val_loss: 0.7070 - val_accuracy: 0.5000\n",
            "Epoch 3/50\n",
            "63/63 [==============================] - 5s 79ms/step - loss: 0.8963 - accuracy: 0.5625 - val_loss: 0.7348 - val_accuracy: 0.5000\n",
            "Epoch 4/50\n",
            "63/63 [==============================] - 5s 80ms/step - loss: 0.8461 - accuracy: 0.5795 - val_loss: 0.7701 - val_accuracy: 0.5010\n",
            "Epoch 5/50\n",
            "63/63 [==============================] - 5s 80ms/step - loss: 0.8179 - accuracy: 0.5845 - val_loss: 0.7904 - val_accuracy: 0.5000\n",
            "Epoch 6/50\n",
            "63/63 [==============================] - 5s 78ms/step - loss: 0.8162 - accuracy: 0.5970 - val_loss: 0.7473 - val_accuracy: 0.5180\n",
            "Epoch 7/50\n",
            "63/63 [==============================] - 5s 80ms/step - loss: 0.8120 - accuracy: 0.6060 - val_loss: 0.6720 - val_accuracy: 0.5970\n",
            "Epoch 8/50\n",
            "63/63 [==============================] - 5s 80ms/step - loss: 0.7731 - accuracy: 0.6210 - val_loss: 0.6279 - val_accuracy: 0.6390\n",
            "Epoch 9/50\n",
            "63/63 [==============================] - 5s 79ms/step - loss: 0.7928 - accuracy: 0.6250 - val_loss: 0.5797 - val_accuracy: 0.6900\n",
            "Epoch 10/50\n",
            "63/63 [==============================] - 5s 80ms/step - loss: 0.7690 - accuracy: 0.6155 - val_loss: 0.5776 - val_accuracy: 0.6910\n",
            "Epoch 11/50\n",
            "63/63 [==============================] - 5s 80ms/step - loss: 0.7390 - accuracy: 0.6465 - val_loss: 0.5718 - val_accuracy: 0.7010\n",
            "Epoch 12/50\n",
            "63/63 [==============================] - 5s 79ms/step - loss: 0.7509 - accuracy: 0.6300 - val_loss: 0.5728 - val_accuracy: 0.6960\n",
            "Epoch 13/50\n",
            "63/63 [==============================] - 5s 79ms/step - loss: 0.7439 - accuracy: 0.6435 - val_loss: 0.5703 - val_accuracy: 0.7010\n",
            "Epoch 14/50\n",
            "63/63 [==============================] - 5s 79ms/step - loss: 0.7463 - accuracy: 0.6345 - val_loss: 0.5737 - val_accuracy: 0.7030\n",
            "Epoch 15/50\n",
            "63/63 [==============================] - 5s 78ms/step - loss: 0.7161 - accuracy: 0.6605 - val_loss: 0.5762 - val_accuracy: 0.6990\n",
            "Epoch 16/50\n",
            "63/63 [==============================] - 5s 79ms/step - loss: 0.7088 - accuracy: 0.6580 - val_loss: 0.5544 - val_accuracy: 0.7180\n",
            "Epoch 17/50\n",
            "63/63 [==============================] - 5s 78ms/step - loss: 0.6722 - accuracy: 0.6755 - val_loss: 0.5714 - val_accuracy: 0.7160\n",
            "Epoch 18/50\n",
            "63/63 [==============================] - 5s 80ms/step - loss: 0.6915 - accuracy: 0.6770 - val_loss: 0.5543 - val_accuracy: 0.7160\n",
            "Epoch 19/50\n",
            "63/63 [==============================] - 5s 79ms/step - loss: 0.6915 - accuracy: 0.6730 - val_loss: 0.5392 - val_accuracy: 0.7250\n",
            "Epoch 20/50\n",
            "63/63 [==============================] - 6s 87ms/step - loss: 0.6435 - accuracy: 0.6850 - val_loss: 0.5446 - val_accuracy: 0.7260\n",
            "Epoch 21/50\n",
            "63/63 [==============================] - 5s 78ms/step - loss: 0.6726 - accuracy: 0.6750 - val_loss: 0.5445 - val_accuracy: 0.7250\n",
            "Epoch 22/50\n",
            "63/63 [==============================] - 5s 80ms/step - loss: 0.6673 - accuracy: 0.6865 - val_loss: 0.5328 - val_accuracy: 0.7320\n",
            "Epoch 23/50\n",
            "63/63 [==============================] - 5s 77ms/step - loss: 0.6848 - accuracy: 0.6765 - val_loss: 0.5620 - val_accuracy: 0.7260\n",
            "Epoch 24/50\n",
            "63/63 [==============================] - 5s 79ms/step - loss: 0.6568 - accuracy: 0.6810 - val_loss: 0.5315 - val_accuracy: 0.7360\n",
            "Epoch 25/50\n",
            "63/63 [==============================] - 5s 79ms/step - loss: 0.6675 - accuracy: 0.6785 - val_loss: 0.5216 - val_accuracy: 0.7450\n",
            "Epoch 26/50\n",
            "63/63 [==============================] - 5s 79ms/step - loss: 0.6510 - accuracy: 0.6900 - val_loss: 0.5213 - val_accuracy: 0.7490\n",
            "Epoch 27/50\n",
            "63/63 [==============================] - 5s 79ms/step - loss: 0.6415 - accuracy: 0.6920 - val_loss: 0.5342 - val_accuracy: 0.7460\n",
            "Epoch 28/50\n",
            "63/63 [==============================] - 5s 78ms/step - loss: 0.6534 - accuracy: 0.6835 - val_loss: 0.5374 - val_accuracy: 0.7360\n",
            "Epoch 29/50\n",
            "63/63 [==============================] - 5s 78ms/step - loss: 0.6400 - accuracy: 0.6870 - val_loss: 0.5337 - val_accuracy: 0.7360\n",
            "Epoch 30/50\n",
            "63/63 [==============================] - 5s 79ms/step - loss: 0.6396 - accuracy: 0.6935 - val_loss: 0.5192 - val_accuracy: 0.7490\n",
            "Epoch 31/50\n",
            "63/63 [==============================] - 5s 80ms/step - loss: 0.6197 - accuracy: 0.6975 - val_loss: 0.5158 - val_accuracy: 0.7510\n",
            "Epoch 32/50\n",
            "63/63 [==============================] - 5s 78ms/step - loss: 0.6510 - accuracy: 0.7025 - val_loss: 0.5197 - val_accuracy: 0.7410\n",
            "Epoch 33/50\n",
            "63/63 [==============================] - 5s 80ms/step - loss: 0.6326 - accuracy: 0.7170 - val_loss: 0.5108 - val_accuracy: 0.7470\n",
            "Epoch 34/50\n",
            "63/63 [==============================] - 5s 79ms/step - loss: 0.6063 - accuracy: 0.7130 - val_loss: 0.5109 - val_accuracy: 0.7520\n",
            "Epoch 35/50\n",
            "63/63 [==============================] - 5s 77ms/step - loss: 0.6252 - accuracy: 0.7100 - val_loss: 0.5180 - val_accuracy: 0.7500\n",
            "Epoch 36/50\n",
            "63/63 [==============================] - 5s 78ms/step - loss: 0.6182 - accuracy: 0.7090 - val_loss: 0.5216 - val_accuracy: 0.7470\n",
            "Epoch 37/50\n",
            "63/63 [==============================] - 5s 79ms/step - loss: 0.6152 - accuracy: 0.7085 - val_loss: 0.5086 - val_accuracy: 0.7530\n",
            "Epoch 38/50\n",
            "63/63 [==============================] - 5s 78ms/step - loss: 0.6028 - accuracy: 0.7055 - val_loss: 0.5092 - val_accuracy: 0.7500\n",
            "Epoch 39/50\n",
            "63/63 [==============================] - 5s 80ms/step - loss: 0.6039 - accuracy: 0.7180 - val_loss: 0.4998 - val_accuracy: 0.7660\n",
            "Epoch 40/50\n",
            "63/63 [==============================] - 5s 78ms/step - loss: 0.5944 - accuracy: 0.7070 - val_loss: 0.5019 - val_accuracy: 0.7570\n",
            "Epoch 41/50\n",
            "63/63 [==============================] - 5s 79ms/step - loss: 0.5930 - accuracy: 0.7205 - val_loss: 0.4956 - val_accuracy: 0.7630\n",
            "Epoch 42/50\n",
            "63/63 [==============================] - 5s 78ms/step - loss: 0.5768 - accuracy: 0.7250 - val_loss: 0.4999 - val_accuracy: 0.7570\n",
            "Epoch 43/50\n",
            "63/63 [==============================] - 5s 79ms/step - loss: 0.5885 - accuracy: 0.7195 - val_loss: 0.4989 - val_accuracy: 0.7700\n",
            "Epoch 44/50\n",
            "63/63 [==============================] - 5s 78ms/step - loss: 0.5984 - accuracy: 0.7115 - val_loss: 0.5011 - val_accuracy: 0.7660\n",
            "Epoch 45/50\n",
            "63/63 [==============================] - 5s 79ms/step - loss: 0.5896 - accuracy: 0.7170 - val_loss: 0.4915 - val_accuracy: 0.7670\n",
            "Epoch 46/50\n",
            "63/63 [==============================] - 5s 77ms/step - loss: 0.5573 - accuracy: 0.7365 - val_loss: 0.4957 - val_accuracy: 0.7730\n",
            "Epoch 47/50\n",
            "63/63 [==============================] - 5s 77ms/step - loss: 0.6033 - accuracy: 0.7125 - val_loss: 0.5215 - val_accuracy: 0.7490\n",
            "Epoch 48/50\n",
            "63/63 [==============================] - 5s 78ms/step - loss: 0.5840 - accuracy: 0.7300 - val_loss: 0.4993 - val_accuracy: 0.7620\n",
            "Epoch 49/50\n",
            "63/63 [==============================] - 5s 78ms/step - loss: 0.5816 - accuracy: 0.7190 - val_loss: 0.4958 - val_accuracy: 0.7630\n",
            "Epoch 50/50\n",
            "63/63 [==============================] - 5s 79ms/step - loss: 0.5641 - accuracy: 0.7315 - val_loss: 0.4937 - val_accuracy: 0.7710\n"
          ]
        },
        {
          "output_type": "execute_result",
          "data": {
            "text/plain": [
              "<keras.callbacks.History at 0x7fc7861d11d0>"
            ]
          },
          "metadata": {},
          "execution_count": 21
        }
      ]
    },
    {
      "cell_type": "code",
      "source": [
        "model.evaluate(test_data)"
      ],
      "metadata": {
        "colab": {
          "base_uri": "https://localhost:8080/"
        },
        "id": "K6mXWS1rL9JF",
        "outputId": "e12268ee-d992-45e3-b50d-95d3d4c9eb27"
      },
      "execution_count": 22,
      "outputs": [
        {
          "output_type": "stream",
          "name": "stdout",
          "text": [
            "63/63 [==============================] - 3s 36ms/step - loss: 0.5190 - accuracy: 0.7480\n"
          ]
        },
        {
          "output_type": "execute_result",
          "data": {
            "text/plain": [
              "[0.5190333127975464, 0.7480000257492065]"
            ]
          },
          "metadata": {},
          "execution_count": 22
        }
      ]
    },
    {
      "cell_type": "code",
      "source": [
        ""
      ],
      "metadata": {
        "id": "Rv2j1pUDUrXb"
      },
      "execution_count": null,
      "outputs": []
    }
  ]
}
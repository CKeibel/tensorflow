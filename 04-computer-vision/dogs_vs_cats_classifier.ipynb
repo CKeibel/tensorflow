{
  "nbformat": 4,
  "nbformat_minor": 0,
  "metadata": {
    "colab": {
      "name": "dogs-vs-cats-classifier.ipynb",
      "provenance": [],
      "authorship_tag": "ABX9TyPyZ+ba2ZIhzPELPUkk6LuG"
    },
    "kernelspec": {
      "name": "python3",
      "display_name": "Python 3"
    },
    "language_info": {
      "name": "python"
    },
    "accelerator": "GPU",
    "gpuClass": "standard"
  },
  "cells": [
    {
      "cell_type": "markdown",
      "source": [
        "# Downloading Kaggle dataset"
      ],
      "metadata": {
        "id": "lF2hEmokOwKe"
      }
    },
    {
      "cell_type": "code",
      "source": [
        "from google.colab import files\n",
        "files.upload()"
      ],
      "metadata": {
        "id": "e9S_8R0QCRq5"
      },
      "execution_count": null,
      "outputs": []
    },
    {
      "cell_type": "code",
      "source": [
        "!mkdir ~/.kaggle\n",
        "!cp kaggle.json ~/.kaggle/\n",
        "!chmod 600 ~/.kaggle/kaggle.json"
      ],
      "metadata": {
        "id": "mBwOv4jNDQ7P"
      },
      "execution_count": 2,
      "outputs": []
    },
    {
      "cell_type": "code",
      "execution_count": 3,
      "metadata": {
        "colab": {
          "base_uri": "https://localhost:8080/"
        },
        "id": "2xzI6V3XBNAv",
        "outputId": "6d25613a-6e6f-4fea-d4ff-f050173b51f0"
      },
      "outputs": [
        {
          "output_type": "stream",
          "name": "stdout",
          "text": [
            "Downloading dogs-vs-cats.zip to /content\n",
            " 99% 804M/812M [00:03<00:00, 296MB/s]\n",
            "100% 812M/812M [00:03<00:00, 254MB/s]\n"
          ]
        }
      ],
      "source": [
        "# downloading dataset from kaggle\n",
        "!kaggle competitions download -c dogs-vs-cats"
      ]
    },
    {
      "cell_type": "code",
      "source": [
        "!ls"
      ],
      "metadata": {
        "colab": {
          "base_uri": "https://localhost:8080/"
        },
        "id": "-4UxGmkREyHa",
        "outputId": "255293fe-b475-429a-9b6b-41e7c339fcbf"
      },
      "execution_count": 4,
      "outputs": [
        {
          "output_type": "stream",
          "name": "stdout",
          "text": [
            "dogs-vs-cats.zip  kaggle.json  sample_data\n"
          ]
        }
      ]
    },
    {
      "cell_type": "code",
      "source": [
        "!unzip -qq dogs-vs-cats.zip\n",
        "!unzip -qq train.zip"
      ],
      "metadata": {
        "id": "YEyXfBwSKkQF"
      },
      "execution_count": 5,
      "outputs": []
    },
    {
      "cell_type": "code",
      "source": [
        "!ls"
      ],
      "metadata": {
        "colab": {
          "base_uri": "https://localhost:8080/"
        },
        "id": "IlNa7AyuKn0Z",
        "outputId": "e5a1ddbb-2b4c-428d-9d92-9855e5669ad3"
      },
      "execution_count": 6,
      "outputs": [
        {
          "output_type": "stream",
          "name": "stdout",
          "text": [
            "dogs-vs-cats.zip  sample_data\t\ttest1.zip\n",
            "kaggle.json\t  sampleSubmission.csv\ttrain.zip\n"
          ]
        }
      ]
    },
    {
      "cell_type": "markdown",
      "source": [
        "# Copying images to training, validation, and test directories"
      ],
      "metadata": {
        "id": "t3PM_DaXO14p"
      }
    },
    {
      "cell_type": "code",
      "source": [
        "import os, shutil, pathlib\n",
        "\n",
        "original_dir = pathlib.Path(\"train\")\n",
        "new_base_dir = pathlib.Path(\"dogs_vs_cats_small\")\n",
        "\n",
        "def make_subset(subset_name, start_index, end_index):\n",
        "    for category in (\"cat\", \"dog\"):\n",
        "        dir = new_base_dir / subset_name / category\n",
        "        os.makedirs(dir)\n",
        "        fnames = [f\"{category}.{i}.jpg\" for i in range(start_index, end_index)]\n",
        "\n",
        "        for fname in fnames:\n",
        "            shutil.copyfile(src=original_dir / fname, dst= dir / fname)"
      ],
      "metadata": {
        "id": "TPMta1rxKzp6"
      },
      "execution_count": 16,
      "outputs": []
    },
    {
      "cell_type": "code",
      "source": [
        "make_subset(\"train\", start_index=0, end_index=1_000)\n",
        "make_subset(\"validation\", start_index=1_000, end_index=1_500)\n",
        "make_subset(\"test\", start_index=1_500, end_index=2_500)"
      ],
      "metadata": {
        "id": "A7elw9GbNpb_"
      },
      "execution_count": 17,
      "outputs": []
    },
    {
      "cell_type": "code",
      "source": [
        "!ls dogs_vs_cats_small/"
      ],
      "metadata": {
        "colab": {
          "base_uri": "https://localhost:8080/"
        },
        "id": "DzSzSo78OAUK",
        "outputId": "292aeb12-5729-4010-8051-40da9e4d989e"
      },
      "execution_count": 23,
      "outputs": [
        {
          "output_type": "stream",
          "name": "stdout",
          "text": [
            "test  train  validation\n"
          ]
        }
      ]
    },
    {
      "cell_type": "markdown",
      "source": [
        "# Build model"
      ],
      "metadata": {
        "id": "30ih6hd7Rg-b"
      }
    },
    {
      "cell_type": "code",
      "source": [
        "from tensorflow.keras.models import Model\n",
        "from tensorflow.keras.layers import Input, Conv2D, MaxPooling2D, Dense, Flatten, Rescaling\n",
        "\n",
        "inputs = Input(shape=(180, 180, 3))\n",
        "x = Rescaling(1./255)(inputs)\n",
        "x = Conv2D(filters=32, kernel_size=3, activation=\"relu\")(x)\n",
        "x = MaxPooling2D(pool_size=2)(x)\n",
        "x = Conv2D(filters=64, kernel_size=3, activation=\"relu\")(x)\n",
        "x = MaxPooling2D(pool_size=2)(x)\n",
        "x = Conv2D(filters=128, kernel_size=3, activation=\"relu\")(x)\n",
        "x = MaxPooling2D(pool_size=2)(x)\n",
        "x = Conv2D(filters=256, kernel_size=3, activation=\"relu\")(x)\n",
        "x = MaxPooling2D(pool_size=2)(x)\n",
        "x = Conv2D(filters=256, kernel_size=3, activation=\"relu\")(x)\n",
        "x = Flatten()(x)\n",
        "outputs = Dense(1, activation=\"sigmoid\")(x)\n",
        "\n",
        "model = Model(inputs=inputs, outputs=outputs)\n",
        "\n",
        "model.summary()"
      ],
      "metadata": {
        "colab": {
          "base_uri": "https://localhost:8080/"
        },
        "id": "BbJ8slyGOBcw",
        "outputId": "9c6ecf8a-9df1-4878-ab08-64b74bb5bfcb"
      },
      "execution_count": 24,
      "outputs": [
        {
          "output_type": "stream",
          "name": "stdout",
          "text": [
            "Model: \"model\"\n",
            "_________________________________________________________________\n",
            " Layer (type)                Output Shape              Param #   \n",
            "=================================================================\n",
            " input_1 (InputLayer)        [(None, 180, 180, 3)]     0         \n",
            "                                                                 \n",
            " rescaling (Rescaling)       (None, 180, 180, 3)       0         \n",
            "                                                                 \n",
            " conv2d (Conv2D)             (None, 178, 178, 32)      896       \n",
            "                                                                 \n",
            " max_pooling2d (MaxPooling2D  (None, 89, 89, 32)       0         \n",
            " )                                                               \n",
            "                                                                 \n",
            " conv2d_1 (Conv2D)           (None, 87, 87, 64)        18496     \n",
            "                                                                 \n",
            " max_pooling2d_1 (MaxPooling  (None, 43, 43, 64)       0         \n",
            " 2D)                                                             \n",
            "                                                                 \n",
            " conv2d_2 (Conv2D)           (None, 41, 41, 128)       73856     \n",
            "                                                                 \n",
            " max_pooling2d_2 (MaxPooling  (None, 20, 20, 128)      0         \n",
            " 2D)                                                             \n",
            "                                                                 \n",
            " conv2d_3 (Conv2D)           (None, 18, 18, 256)       295168    \n",
            "                                                                 \n",
            " max_pooling2d_3 (MaxPooling  (None, 9, 9, 256)        0         \n",
            " 2D)                                                             \n",
            "                                                                 \n",
            " conv2d_4 (Conv2D)           (None, 7, 7, 256)         590080    \n",
            "                                                                 \n",
            " flatten (Flatten)           (None, 12544)             0         \n",
            "                                                                 \n",
            " dense (Dense)               (None, 1)                 12545     \n",
            "                                                                 \n",
            "=================================================================\n",
            "Total params: 991,041\n",
            "Trainable params: 991,041\n",
            "Non-trainable params: 0\n",
            "_________________________________________________________________\n"
          ]
        }
      ]
    },
    {
      "cell_type": "code",
      "source": [
        "model.compile(optimizer=\"rmsprop\",\n",
        "              loss=\"binary_crossentropy\",\n",
        "              metrics=[\"accuracy\"])"
      ],
      "metadata": {
        "id": "cpc8QBehUHv-"
      },
      "execution_count": 25,
      "outputs": []
    },
    {
      "cell_type": "markdown",
      "source": [
        "# Generate tensorflow dataset"
      ],
      "metadata": {
        "id": "UM20mCQtVhMR"
      }
    },
    {
      "cell_type": "code",
      "source": [
        "from tensorflow.keras.utils import image_dataset_from_directory\n",
        "\n",
        "train_dataset = image_dataset_from_directory(\n",
        "    new_base_dir / \"train\",\n",
        "    image_size=(180, 180),\n",
        "    batch_size=32\n",
        ")\n",
        "\n",
        "validation_dataset = image_dataset_from_directory(\n",
        "    new_base_dir / \"validation\",\n",
        "    image_size=(180, 180),\n",
        "    batch_size=32\n",
        ")\n",
        "\n",
        "test_dataset = image_dataset_from_directory(\n",
        "    new_base_dir / \"test\",\n",
        "    image_size=(180, 180),\n",
        "    batch_size=32\n",
        ")"
      ],
      "metadata": {
        "colab": {
          "base_uri": "https://localhost:8080/"
        },
        "id": "aAwoS8fhUWvZ",
        "outputId": "84a6ea68-63fa-4baf-c678-e2a818733104"
      },
      "execution_count": 26,
      "outputs": [
        {
          "output_type": "stream",
          "name": "stdout",
          "text": [
            "Found 2000 files belonging to 2 classes.\n",
            "Found 1000 files belonging to 2 classes.\n",
            "Found 2000 files belonging to 2 classes.\n"
          ]
        }
      ]
    },
    {
      "cell_type": "code",
      "source": [
        "for data_batch, labels_batch in train_dataset:\n",
        "    print(f\"data batch shape: {data_batch.shape}\")\n",
        "    print(f\"labels batch shape: {labels_batch.shape}\")\n",
        "    break"
      ],
      "metadata": {
        "colab": {
          "base_uri": "https://localhost:8080/"
        },
        "id": "32hxgvgZWLVj",
        "outputId": "f916823c-9187-4dc2-efaa-b75f85f08cce"
      },
      "execution_count": 27,
      "outputs": [
        {
          "output_type": "stream",
          "name": "stdout",
          "text": [
            "data batch shape: (32, 180, 180, 3)\n",
            "labels batch shape: (32,)\n"
          ]
        }
      ]
    },
    {
      "cell_type": "markdown",
      "source": [
        "# Fit the model"
      ],
      "metadata": {
        "id": "TT7geRn7Wst5"
      }
    },
    {
      "cell_type": "code",
      "source": [
        "from tensorflow.keras.callbacks import ModelCheckpoint\n",
        "\n",
        "callbacks = [\n",
        "    ModelCheckpoint(\n",
        "        filepath=\"convnet_from_scratch.keras\",\n",
        "        save_best_only=True,\n",
        "        monitor=\"val_loss\"\n",
        "    )\n",
        "]"
      ],
      "metadata": {
        "id": "ezzKyMfAWemB"
      },
      "execution_count": 30,
      "outputs": []
    },
    {
      "cell_type": "code",
      "source": [
        "history = model.fit(\n",
        "    train_dataset,\n",
        "    epochs=30,\n",
        "    validation_data=validation_dataset,\n",
        "    callbacks=callbacks\n",
        ")"
      ],
      "metadata": {
        "colab": {
          "base_uri": "https://localhost:8080/"
        },
        "id": "8ndIW4OEXG_t",
        "outputId": "6bdb8720-fa93-4f46-d452-1e164a87bda6"
      },
      "execution_count": 31,
      "outputs": [
        {
          "output_type": "stream",
          "name": "stdout",
          "text": [
            "Epoch 1/30\n",
            "63/63 [==============================] - 19s 85ms/step - loss: 0.7878 - accuracy: 0.5095 - val_loss: 0.6886 - val_accuracy: 0.5680\n",
            "Epoch 2/30\n",
            "63/63 [==============================] - 5s 73ms/step - loss: 0.7075 - accuracy: 0.5175 - val_loss: 0.6819 - val_accuracy: 0.6230\n",
            "Epoch 3/30\n",
            "63/63 [==============================] - 5s 72ms/step - loss: 0.7389 - accuracy: 0.6095 - val_loss: 0.6696 - val_accuracy: 0.6060\n",
            "Epoch 4/30\n",
            "63/63 [==============================] - 5s 71ms/step - loss: 0.6524 - accuracy: 0.6560 - val_loss: 0.6319 - val_accuracy: 0.6220\n",
            "Epoch 5/30\n",
            "63/63 [==============================] - 5s 71ms/step - loss: 0.6041 - accuracy: 0.6655 - val_loss: 0.6604 - val_accuracy: 0.6490\n",
            "Epoch 6/30\n",
            "63/63 [==============================] - 5s 73ms/step - loss: 0.5893 - accuracy: 0.6940 - val_loss: 0.5891 - val_accuracy: 0.6720\n",
            "Epoch 7/30\n",
            "63/63 [==============================] - 5s 72ms/step - loss: 0.5405 - accuracy: 0.7315 - val_loss: 0.5875 - val_accuracy: 0.6950\n",
            "Epoch 8/30\n",
            "63/63 [==============================] - 5s 72ms/step - loss: 0.4965 - accuracy: 0.7615 - val_loss: 0.5895 - val_accuracy: 0.6900\n",
            "Epoch 9/30\n",
            "63/63 [==============================] - 5s 70ms/step - loss: 0.4557 - accuracy: 0.7825 - val_loss: 0.6666 - val_accuracy: 0.6940\n",
            "Epoch 10/30\n",
            "63/63 [==============================] - 5s 72ms/step - loss: 0.4137 - accuracy: 0.8190 - val_loss: 0.5995 - val_accuracy: 0.7180\n",
            "Epoch 11/30\n",
            "63/63 [==============================] - 6s 84ms/step - loss: 0.3715 - accuracy: 0.8275 - val_loss: 0.6566 - val_accuracy: 0.7310\n",
            "Epoch 12/30\n",
            "63/63 [==============================] - 5s 72ms/step - loss: 0.3022 - accuracy: 0.8715 - val_loss: 0.8685 - val_accuracy: 0.7100\n",
            "Epoch 13/30\n",
            "63/63 [==============================] - 5s 72ms/step - loss: 0.2615 - accuracy: 0.8870 - val_loss: 0.7770 - val_accuracy: 0.7340\n",
            "Epoch 14/30\n",
            "63/63 [==============================] - 5s 73ms/step - loss: 0.2355 - accuracy: 0.9050 - val_loss: 0.7936 - val_accuracy: 0.7370\n",
            "Epoch 15/30\n",
            "63/63 [==============================] - 5s 72ms/step - loss: 0.1859 - accuracy: 0.9300 - val_loss: 1.3364 - val_accuracy: 0.6240\n",
            "Epoch 16/30\n",
            "63/63 [==============================] - 5s 72ms/step - loss: 0.1512 - accuracy: 0.9370 - val_loss: 0.9726 - val_accuracy: 0.7330\n",
            "Epoch 17/30\n",
            "63/63 [==============================] - 5s 72ms/step - loss: 0.1360 - accuracy: 0.9455 - val_loss: 1.1646 - val_accuracy: 0.7130\n",
            "Epoch 18/30\n",
            "63/63 [==============================] - 5s 74ms/step - loss: 0.0936 - accuracy: 0.9710 - val_loss: 1.0245 - val_accuracy: 0.7450\n",
            "Epoch 19/30\n",
            "63/63 [==============================] - 5s 73ms/step - loss: 0.0793 - accuracy: 0.9685 - val_loss: 1.4033 - val_accuracy: 0.7350\n",
            "Epoch 20/30\n",
            "63/63 [==============================] - 5s 73ms/step - loss: 0.0696 - accuracy: 0.9785 - val_loss: 2.0995 - val_accuracy: 0.6780\n",
            "Epoch 21/30\n",
            "63/63 [==============================] - 5s 73ms/step - loss: 0.0955 - accuracy: 0.9710 - val_loss: 1.6369 - val_accuracy: 0.7420\n",
            "Epoch 22/30\n",
            "63/63 [==============================] - 5s 73ms/step - loss: 0.0586 - accuracy: 0.9850 - val_loss: 1.6456 - val_accuracy: 0.6960\n",
            "Epoch 23/30\n",
            "63/63 [==============================] - 5s 72ms/step - loss: 0.0809 - accuracy: 0.9745 - val_loss: 1.6227 - val_accuracy: 0.7230\n",
            "Epoch 24/30\n",
            "63/63 [==============================] - 5s 73ms/step - loss: 0.0675 - accuracy: 0.9765 - val_loss: 1.3459 - val_accuracy: 0.7380\n",
            "Epoch 25/30\n",
            "63/63 [==============================] - 5s 73ms/step - loss: 0.0703 - accuracy: 0.9820 - val_loss: 1.3832 - val_accuracy: 0.7340\n",
            "Epoch 26/30\n",
            "63/63 [==============================] - 5s 72ms/step - loss: 0.0652 - accuracy: 0.9810 - val_loss: 1.5798 - val_accuracy: 0.7560\n",
            "Epoch 27/30\n",
            "63/63 [==============================] - 5s 71ms/step - loss: 0.0699 - accuracy: 0.9790 - val_loss: 1.6693 - val_accuracy: 0.7470\n",
            "Epoch 28/30\n",
            "63/63 [==============================] - 5s 72ms/step - loss: 0.0617 - accuracy: 0.9865 - val_loss: 1.9417 - val_accuracy: 0.7330\n",
            "Epoch 29/30\n",
            "63/63 [==============================] - 5s 72ms/step - loss: 0.0415 - accuracy: 0.9855 - val_loss: 2.1238 - val_accuracy: 0.7390\n",
            "Epoch 30/30\n",
            "63/63 [==============================] - 5s 72ms/step - loss: 0.0401 - accuracy: 0.9880 - val_loss: 2.7019 - val_accuracy: 0.7360\n"
          ]
        }
      ]
    },
    {
      "cell_type": "code",
      "source": [
        "import matplotlib.pyplot as plt\n",
        "\n",
        "loss = history.history[\"loss\"]\n",
        "acc = history.history[\"accuracy\"]\n",
        "val_loss = history.history[\"val_loss\"]\n",
        "val_acc = history.history[\"val_accuracy\"]\n",
        "x_range = range(1, len(loss) +1)\n",
        "\n",
        "plt.plot(x_range, acc, \"b\", label=\"Training accuracy\")\n",
        "plt.plot(x_range, val_acc, \"r\", label=\"Validation accuracy\")\n",
        "plt.xlabel(\"Epochs\")\n",
        "plt.ylabel(\"Accuracy\")\n",
        "plt.title(\"Train and val Accuracy\")\n",
        "plt.legend()\n",
        "plt.figure()\n",
        "plt.plot(x_range, loss, \"b\", label=\"Training loss\")\n",
        "plt.plot(x_range, val_loss, \"r\", label=\"Validation loss\")\n",
        "plt.xlabel(\"Epochs\")\n",
        "plt.ylabel(\"Loss\")\n",
        "plt.title(\"Train and val loss\")\n",
        "plt.legend()\n",
        "plt.show()"
      ],
      "metadata": {
        "colab": {
          "base_uri": "https://localhost:8080/",
          "height": 573
        },
        "id": "g7mwyjndXZtB",
        "outputId": "082fe18b-50ba-4242-b1ca-06d710d29584"
      },
      "execution_count": 34,
      "outputs": [
        {
          "output_type": "display_data",
          "data": {
            "text/plain": [
              "<Figure size 432x288 with 1 Axes>"
            ],
            "image/png": "[encoded data removed]"
          },
          "metadata": {
            "needs_background": "light"
          }
        },
        {
          "output_type": "display_data",
          "data": {
            "text/plain": [
              "<Figure size 432x288 with 1 Axes>"
            ],
            "image/png": "[encoded data removed]"
          },
          "metadata": {
            "needs_background": "light"
          }
        }
      ]
    },
    {
      "cell_type": "code",
      "source": [
        "from tensorflow.keras.models import load_model\n",
        "\n",
        "test_model = load_model(\"convnet_from_scratch.keras\")\n",
        "\n",
        "test_loss, test_acc = test_model.evaluate(test_dataset)\n",
        "print(f\"test accuracy: {test_acc}\")"
      ],
      "metadata": {
        "colab": {
          "base_uri": "https://localhost:8080/"
        },
        "id": "07o-_8RhZlSh",
        "outputId": "48a34c35-e7b4-49d8-c74c-c1e8c31f6e04"
      },
      "execution_count": 35,
      "outputs": [
        {
          "output_type": "stream",
          "name": "stdout",
          "text": [
            "63/63 [==============================] - 3s 39ms/step - loss: 0.5816 - accuracy: 0.7010\n",
            "test accuracy: 0.7009999752044678\n"
          ]
        }
      ]
    },
    {
      "cell_type": "code",
      "source": [
        ""
      ],
      "metadata": {
        "id": "blmBbd5jfY_-"
      },
      "execution_count": null,
      "outputs": []
    }
  ]
}
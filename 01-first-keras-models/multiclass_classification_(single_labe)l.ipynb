{
  "nbformat": 4,
  "nbformat_minor": 0,
  "metadata": {
    "colab": {
      "name": "multiclass-classification-(single-labe)l.ipynb",
      "provenance": [],
      "collapsed_sections": [],
      "authorship_tag": "ABX9TyN2e/cMyGVc6PtiI8ypIRXd"
    },
    "kernelspec": {
      "name": "python3",
      "display_name": "Python 3"
    },
    "language_info": {
      "name": "python"
    }
  },
  "cells": [
    {
      "cell_type": "code",
      "execution_count": 1,
      "metadata": {
        "colab": {
          "base_uri": "https://localhost:8080/"
        },
        "id": "iZsdz4GaVXuv",
        "outputId": "cb7f3101-9043-4fb9-ce82-3c7df2d98eb1"
      },
      "outputs": [
        {
          "output_type": "stream",
          "name": "stdout",
          "text": [
            "shape: (8982,)\n"
          ]
        }
      ],
      "source": [
        "# loading data\n",
        "from tensorflow.keras.datasets import reuters\n",
        "(x_train, y_train), (x_test, y_test) = reuters.load_data(num_words=10_000)\n",
        "\n",
        "print(f\"shape: {x_train.shape}\")"
      ]
    },
    {
      "cell_type": "code",
      "source": [
        "# vectorizing data -> multi-hot encode\n",
        "import numpy as np\n",
        "\n",
        "def vectorize_sequences(sequences, dimensions=10_000):\n",
        "    result = np.zeros(shape=(len(sequences), dimensions)) # samples, features\n",
        "    for i, sequence in enumerate(sequences):\n",
        "        for j in sequence:\n",
        "            result[i, j] = 1.\n",
        "    return result"
      ],
      "metadata": {
        "id": "PDLgMDLFg4ea"
      },
      "execution_count": 2,
      "outputs": []
    },
    {
      "cell_type": "code",
      "source": [
        "x_train = vectorize_sequences(x_train)\n",
        "x_test = vectorize_sequences(x_test)"
      ],
      "metadata": {
        "id": "EY5ArL3BmPgc"
      },
      "execution_count": 3,
      "outputs": []
    },
    {
      "cell_type": "code",
      "source": [
        "print(f\"first label: {y_train[0]}\")"
      ],
      "metadata": {
        "colab": {
          "base_uri": "https://localhost:8080/"
        },
        "id": "uk9AMi9bhwfD",
        "outputId": "80ccef6b-824f-4bf7-f7ce-9f1333c82381"
      },
      "execution_count": 4,
      "outputs": [
        {
          "output_type": "stream",
          "name": "stdout",
          "text": [
            "first label: 3\n"
          ]
        }
      ]
    },
    {
      "cell_type": "code",
      "source": [
        "np.max(y_train)"
      ],
      "metadata": {
        "colab": {
          "base_uri": "https://localhost:8080/"
        },
        "id": "i25x4tY9jHIw",
        "outputId": "04e030f7-72ee-444a-8e83-9c202ea90f98"
      },
      "execution_count": 5,
      "outputs": [
        {
          "output_type": "execute_result",
          "data": {
            "text/plain": [
              "45"
            ]
          },
          "metadata": {},
          "execution_count": 5
        }
      ]
    },
    {
      "cell_type": "code",
      "source": [
        "# labels have to be one hot encoded (to_categorical)\n",
        "def to_one_hot(labels, dimensions=46): # there 46 classes -> 0 to 45\n",
        "    result = np.zeros(shape=(len(labels), dimensions)) # datapoint (range), label\n",
        "    for i, label in enumerate(labels):\n",
        "        result[i, label] = 1. # class -> label index\n",
        "    return result"
      ],
      "metadata": {
        "id": "7UQRbL11iRM3"
      },
      "execution_count": 6,
      "outputs": []
    },
    {
      "cell_type": "code",
      "source": [
        "y_train = to_one_hot(y_train)\n",
        "y_test = to_one_hot(y_test)\n",
        "\n",
        "print(f\"first label: {y_train[0]}\")"
      ],
      "metadata": {
        "colab": {
          "base_uri": "https://localhost:8080/"
        },
        "id": "5k3Lv5tBkB7c",
        "outputId": "bf20e7be-1641-4dea-d01f-b887992c715d"
      },
      "execution_count": 7,
      "outputs": [
        {
          "output_type": "stream",
          "name": "stdout",
          "text": [
            "first label: [0. 0. 0. 1. 0. 0. 0. 0. 0. 0. 0. 0. 0. 0. 0. 0. 0. 0. 0. 0. 0. 0. 0. 0.\n",
            " 0. 0. 0. 0. 0. 0. 0. 0. 0. 0. 0. 0. 0. 0. 0. 0. 0. 0. 0. 0. 0. 0.]\n"
          ]
        }
      ]
    },
    {
      "cell_type": "code",
      "source": [
        "# build the model\n",
        "from tensorflow.keras.layers import Dense\n",
        "from tensorflow.keras.models import Sequential\n",
        "\n",
        "model = Sequential([\n",
        "    Dense(64, activation=\"relu\"),\n",
        "    Dense(64, activation=\"relu\"),\n",
        "    Dense(46, activation=\"softmax\")\n",
        "])"
      ],
      "metadata": {
        "id": "rCfGrhRskSPo"
      },
      "execution_count": 8,
      "outputs": []
    },
    {
      "cell_type": "code",
      "source": [
        "model.compile(\n",
        "    optimizer=\"rmsprop\",\n",
        "    loss=\"categorical_crossentropy\",\n",
        "    metrics=[\"accuracy\"]\n",
        ")"
      ],
      "metadata": {
        "id": "bzvOJYuKlE6t"
      },
      "execution_count": 9,
      "outputs": []
    },
    {
      "cell_type": "code",
      "source": [
        "# extracting validation data\n",
        "x_val = x_train[:1_000]\n",
        "y_val = y_train[:1_000]\n",
        "\n",
        "x_train = x_train[1_000:]\n",
        "y_train = y_train[1_000:]"
      ],
      "metadata": {
        "id": "NXuialE_lfXb"
      },
      "execution_count": 10,
      "outputs": []
    },
    {
      "cell_type": "code",
      "source": [
        "# train the model\n",
        "history = model.fit(\n",
        "    x_train,\n",
        "    y_train,\n",
        "    epochs=20,\n",
        "    batch_size=512,\n",
        "    validation_data=(x_val, y_val)\n",
        ")"
      ],
      "metadata": {
        "colab": {
          "base_uri": "https://localhost:8080/"
        },
        "id": "v3-HEWhGl7Mr",
        "outputId": "02160c2f-cfa4-4533-c036-5c45024a4dcc"
      },
      "execution_count": 11,
      "outputs": [
        {
          "output_type": "stream",
          "name": "stdout",
          "text": [
            "Epoch 1/20\n",
            "16/16 [==============================] - 2s 73ms/step - loss: 2.7190 - accuracy: 0.4867 - val_loss: 1.8401 - val_accuracy: 0.6300\n",
            "Epoch 2/20\n",
            "16/16 [==============================] - 1s 56ms/step - loss: 1.4904 - accuracy: 0.7062 - val_loss: 1.3234 - val_accuracy: 0.7230\n",
            "Epoch 3/20\n",
            "16/16 [==============================] - 1s 51ms/step - loss: 1.0721 - accuracy: 0.7803 - val_loss: 1.1361 - val_accuracy: 0.7510\n",
            "Epoch 4/20\n",
            "16/16 [==============================] - 1s 49ms/step - loss: 0.8329 - accuracy: 0.8307 - val_loss: 1.0366 - val_accuracy: 0.7870\n",
            "Epoch 5/20\n",
            "16/16 [==============================] - 1s 47ms/step - loss: 0.6611 - accuracy: 0.8693 - val_loss: 0.9730 - val_accuracy: 0.7980\n",
            "Epoch 6/20\n",
            "16/16 [==============================] - 1s 49ms/step - loss: 0.5262 - accuracy: 0.8963 - val_loss: 0.9331 - val_accuracy: 0.8040\n",
            "Epoch 7/20\n",
            "16/16 [==============================] - 1s 49ms/step - loss: 0.4273 - accuracy: 0.9144 - val_loss: 0.8935 - val_accuracy: 0.8190\n",
            "Epoch 8/20\n",
            "16/16 [==============================] - 1s 48ms/step - loss: 0.3458 - accuracy: 0.9285 - val_loss: 0.9141 - val_accuracy: 0.8080\n",
            "Epoch 9/20\n",
            "16/16 [==============================] - 1s 49ms/step - loss: 0.2932 - accuracy: 0.9377 - val_loss: 0.8855 - val_accuracy: 0.8240\n",
            "Epoch 10/20\n",
            "16/16 [==============================] - 1s 49ms/step - loss: 0.2430 - accuracy: 0.9442 - val_loss: 0.8978 - val_accuracy: 0.8210\n",
            "Epoch 11/20\n",
            "16/16 [==============================] - 1s 48ms/step - loss: 0.2142 - accuracy: 0.9485 - val_loss: 0.9312 - val_accuracy: 0.8180\n",
            "Epoch 12/20\n",
            "16/16 [==============================] - 1s 48ms/step - loss: 0.1884 - accuracy: 0.9531 - val_loss: 0.9443 - val_accuracy: 0.8100\n",
            "Epoch 13/20\n",
            "16/16 [==============================] - 1s 48ms/step - loss: 0.1671 - accuracy: 0.9540 - val_loss: 0.9691 - val_accuracy: 0.8080\n",
            "Epoch 14/20\n",
            "16/16 [==============================] - 1s 48ms/step - loss: 0.1567 - accuracy: 0.9541 - val_loss: 0.9429 - val_accuracy: 0.8190\n",
            "Epoch 15/20\n",
            "16/16 [==============================] - 1s 50ms/step - loss: 0.1470 - accuracy: 0.9568 - val_loss: 0.9951 - val_accuracy: 0.8060\n",
            "Epoch 16/20\n",
            "16/16 [==============================] - 1s 48ms/step - loss: 0.1307 - accuracy: 0.9569 - val_loss: 1.0445 - val_accuracy: 0.8030\n",
            "Epoch 17/20\n",
            "16/16 [==============================] - 1s 48ms/step - loss: 0.1259 - accuracy: 0.9574 - val_loss: 1.0197 - val_accuracy: 0.8110\n",
            "Epoch 18/20\n",
            "16/16 [==============================] - 1s 48ms/step - loss: 0.1210 - accuracy: 0.9568 - val_loss: 1.0432 - val_accuracy: 0.8030\n",
            "Epoch 19/20\n",
            "16/16 [==============================] - 1s 49ms/step - loss: 0.1169 - accuracy: 0.9579 - val_loss: 1.1007 - val_accuracy: 0.8040\n",
            "Epoch 20/20\n",
            "16/16 [==============================] - 1s 50ms/step - loss: 0.1135 - accuracy: 0.9564 - val_loss: 1.0818 - val_accuracy: 0.8030\n"
          ]
        }
      ]
    },
    {
      "cell_type": "code",
      "source": [
        "history_dict = history.history\n",
        "history_dict.keys()"
      ],
      "metadata": {
        "colab": {
          "base_uri": "https://localhost:8080/"
        },
        "id": "DSf2L5-KmJkM",
        "outputId": "cffcef43-e6ca-4840-c59f-9fb2cb6efa58"
      },
      "execution_count": 12,
      "outputs": [
        {
          "output_type": "execute_result",
          "data": {
            "text/plain": [
              "dict_keys(['loss', 'accuracy', 'val_loss', 'val_accuracy'])"
            ]
          },
          "metadata": {},
          "execution_count": 12
        }
      ]
    },
    {
      "cell_type": "code",
      "source": [
        "import matplotlib.pyplot as plt\n",
        "\n",
        "loss = history_dict[\"loss\"]\n",
        "val_loss = history_dict[\"val_loss\"]\n",
        "epochs = range(1, len(loss) +1)\n",
        "\n",
        "plt.plot(epochs, loss, \"bo\", label=\"Training loss\")\n",
        "plt.plot(epochs, val_loss, \"b\", label=\"Validation loss\")\n",
        "plt.xlabel(\"Epochs\")\n",
        "plt.ylabel(\"Loss\")\n",
        "plt.title(\"Training and validation loss\")\n",
        "plt.legend()\n",
        "plt.show()"
      ],
      "metadata": {
        "colab": {
          "base_uri": "https://localhost:8080/",
          "height": 295
        },
        "id": "K46vJhkLmt8q",
        "outputId": "2e024945-7095-483a-def8-e47de355683c"
      },
      "execution_count": 13,
      "outputs": [
        {
          "output_type": "display_data",
          "data": {
            "text/plain": [
              "<Figure size 432x288 with 1 Axes>"
            ],
            "image/png": "[encoded data removed]"
          },
          "metadata": {
            "needs_background": "light"
          }
        }
      ]
    },
    {
      "cell_type": "code",
      "source": [
        "acc = history_dict[\"accuracy\"]\n",
        "val_acc = history_dict[\"val_accuracy\"]\n",
        "\n",
        "plt.plot(epochs, acc, \"bo\", label=\"Training accuracy\")\n",
        "plt.plot(epochs, val_acc, \"b\", label=\"Validation accuracy\")\n",
        "plt.xlabel(\"Epochs\")\n",
        "plt.ylabel(\"Accuracy\")\n",
        "plt.title(\"Training and validation accuracy\")\n",
        "plt.legend()\n",
        "plt.show()"
      ],
      "metadata": {
        "colab": {
          "base_uri": "https://localhost:8080/",
          "height": 295
        },
        "id": "-f7iafL3nkEW",
        "outputId": "96f4043f-5886-4878-a76a-1a7788643a0c"
      },
      "execution_count": 15,
      "outputs": [
        {
          "output_type": "display_data",
          "data": {
            "text/plain": [
              "<Figure size 432x288 with 1 Axes>"
            ],
            "image/png": "[encoded data removed]"
          },
          "metadata": {
            "needs_background": "light"
          }
        }
      ]
    },
    {
      "cell_type": "markdown",
      "source": [
        "# Use sparse_categorical_crossentropy\n",
        "Instead of one-hot-encoding, we can vectorize the labels as integers and use sparse_categorical_corssentropy as loss"
      ],
      "metadata": {
        "id": "dcBdkHk1qm0I"
      }
    },
    {
      "cell_type": "code",
      "source": [
        "# load data and get \"right\" shape\n",
        "(x_train, y_train), (x_test, y_test) = reuters.load_data(num_words=10_000)\n",
        "\n",
        "x_train = vectorize_sequences(x_train)\n",
        "x_test = vectorize_sequences(x_test)\n",
        "\n",
        "y_train = np.asarray(y_train)\n",
        "y_test = np.asarray(y_test)"
      ],
      "metadata": {
        "id": "kByjZ6nKoOX0"
      },
      "execution_count": 16,
      "outputs": []
    },
    {
      "cell_type": "code",
      "source": [
        "# model\n",
        "model = Sequential([\n",
        "    Dense(64, activation=\"relu\"),\n",
        "    Dense(64, activation=\"relu\"),\n",
        "    Dense(46, activation=\"softmax\")\n",
        "])\n",
        "\n",
        "model.compile(\n",
        "    optimizer=\"rmsprop\",\n",
        "    loss=\"sparse_categorical_crossentropy\",\n",
        "    metrics=[\"accuracy\"]\n",
        ")"
      ],
      "metadata": {
        "id": "4pwQZgs4ucfj"
      },
      "execution_count": 17,
      "outputs": []
    },
    {
      "cell_type": "code",
      "source": [
        "# extracting validation data\n",
        "x_val = x_train[:1_000]\n",
        "y_val = y_train[:1_000]\n",
        "\n",
        "x_train = x_train[1_000:]\n",
        "y_train = y_train[1_000:]"
      ],
      "metadata": {
        "id": "KjZ-4_mbvGDf"
      },
      "execution_count": 18,
      "outputs": []
    },
    {
      "cell_type": "code",
      "source": [
        "history = model.fit(x_train,\n",
        "                    y_train,\n",
        "                    epochs=20,\n",
        "                    batch_size=512,\n",
        "                    validation_data=(x_val, y_val))"
      ],
      "metadata": {
        "colab": {
          "base_uri": "https://localhost:8080/"
        },
        "id": "F5gw1Ks6vbXL",
        "outputId": "d9cf802b-bb91-4c3c-9176-a8ebbaff3b71"
      },
      "execution_count": 19,
      "outputs": [
        {
          "output_type": "stream",
          "name": "stdout",
          "text": [
            "Epoch 1/20\n",
            "16/16 [==============================] - 2s 73ms/step - loss: 2.8064 - accuracy: 0.5117 - val_loss: 1.8994 - val_accuracy: 0.6340\n",
            "Epoch 2/20\n",
            "16/16 [==============================] - 1s 64ms/step - loss: 1.5252 - accuracy: 0.7002 - val_loss: 1.3552 - val_accuracy: 0.7140\n",
            "Epoch 3/20\n",
            "16/16 [==============================] - 1s 64ms/step - loss: 1.1059 - accuracy: 0.7663 - val_loss: 1.1529 - val_accuracy: 0.7580\n",
            "Epoch 4/20\n",
            "16/16 [==============================] - 1s 63ms/step - loss: 0.8649 - accuracy: 0.8196 - val_loss: 1.0440 - val_accuracy: 0.7950\n",
            "Epoch 5/20\n",
            "16/16 [==============================] - 1s 61ms/step - loss: 0.6868 - accuracy: 0.8568 - val_loss: 0.9669 - val_accuracy: 0.7930\n",
            "Epoch 6/20\n",
            "16/16 [==============================] - 1s 55ms/step - loss: 0.5433 - accuracy: 0.8909 - val_loss: 0.9502 - val_accuracy: 0.7980\n",
            "Epoch 7/20\n",
            "16/16 [==============================] - 1s 61ms/step - loss: 0.4393 - accuracy: 0.9107 - val_loss: 0.9145 - val_accuracy: 0.8040\n",
            "Epoch 8/20\n",
            "16/16 [==============================] - 1s 52ms/step - loss: 0.3560 - accuracy: 0.9258 - val_loss: 0.8878 - val_accuracy: 0.8140\n",
            "Epoch 9/20\n",
            "16/16 [==============================] - 1s 63ms/step - loss: 0.2928 - accuracy: 0.9367 - val_loss: 0.8988 - val_accuracy: 0.8170\n",
            "Epoch 10/20\n",
            "16/16 [==============================] - 1s 65ms/step - loss: 0.2502 - accuracy: 0.9432 - val_loss: 0.8909 - val_accuracy: 0.8220\n",
            "Epoch 11/20\n",
            "16/16 [==============================] - 1s 70ms/step - loss: 0.2115 - accuracy: 0.9499 - val_loss: 0.8997 - val_accuracy: 0.8270\n",
            "Epoch 12/20\n",
            "16/16 [==============================] - 1s 66ms/step - loss: 0.1863 - accuracy: 0.9506 - val_loss: 0.9106 - val_accuracy: 0.8260\n",
            "Epoch 13/20\n",
            "16/16 [==============================] - 1s 64ms/step - loss: 0.1688 - accuracy: 0.9521 - val_loss: 0.9618 - val_accuracy: 0.8100\n",
            "Epoch 14/20\n",
            "16/16 [==============================] - 1s 64ms/step - loss: 0.1510 - accuracy: 0.9562 - val_loss: 1.0263 - val_accuracy: 0.7960\n",
            "Epoch 15/20\n",
            "16/16 [==============================] - 1s 64ms/step - loss: 0.1423 - accuracy: 0.9564 - val_loss: 0.9806 - val_accuracy: 0.8040\n",
            "Epoch 16/20\n",
            "16/16 [==============================] - 1s 66ms/step - loss: 0.1340 - accuracy: 0.9575 - val_loss: 1.0320 - val_accuracy: 0.8070\n",
            "Epoch 17/20\n",
            "16/16 [==============================] - 1s 64ms/step - loss: 0.1258 - accuracy: 0.9563 - val_loss: 1.0693 - val_accuracy: 0.7960\n",
            "Epoch 18/20\n",
            "16/16 [==============================] - 1s 64ms/step - loss: 0.1223 - accuracy: 0.9569 - val_loss: 1.0446 - val_accuracy: 0.8100\n",
            "Epoch 19/20\n",
            "16/16 [==============================] - 1s 63ms/step - loss: 0.1144 - accuracy: 0.9595 - val_loss: 1.0923 - val_accuracy: 0.7980\n",
            "Epoch 20/20\n",
            "16/16 [==============================] - 1s 63ms/step - loss: 0.1172 - accuracy: 0.9567 - val_loss: 1.0765 - val_accuracy: 0.8080\n"
          ]
        }
      ]
    },
    {
      "cell_type": "code",
      "source": [
        "res = history.history\n",
        "res.keys()"
      ],
      "metadata": {
        "colab": {
          "base_uri": "https://localhost:8080/"
        },
        "id": "d2Ei-iTtvwpS",
        "outputId": "419557ee-5500-4db8-8871-ad896c3e7637"
      },
      "execution_count": 20,
      "outputs": [
        {
          "output_type": "execute_result",
          "data": {
            "text/plain": [
              "dict_keys(['loss', 'accuracy', 'val_loss', 'val_accuracy'])"
            ]
          },
          "metadata": {},
          "execution_count": 20
        }
      ]
    },
    {
      "cell_type": "code",
      "source": [
        "loss = res[\"loss\"]\n",
        "val_loss = res[\"val_loss\"]\n",
        "epochs = range(1, len(loss) +1)\n",
        "\n",
        "plt.plot(epochs, loss, \"bo\", label=\"Training loss\")\n",
        "plt.plot(epochs, val_loss, \"b\", label=\"Validation loss\")\n",
        "plt.xlabel(\"Epochs\")\n",
        "plt.ylabel(\"Loss\")\n",
        "plt.title(\"Training and validation loss\")\n",
        "plt.legend()\n",
        "plt.show()"
      ],
      "metadata": {
        "colab": {
          "base_uri": "https://localhost:8080/",
          "height": 295
        },
        "id": "A3va8fhywBDi",
        "outputId": "472d2867-c7da-4c66-c1d5-50bbed84a9af"
      },
      "execution_count": 21,
      "outputs": [
        {
          "output_type": "display_data",
          "data": {
            "text/plain": [
              "<Figure size 432x288 with 1 Axes>"
            ],
            "image/png": "[encoded data removed]"
          },
          "metadata": {
            "needs_background": "light"
          }
        }
      ]
    },
    {
      "cell_type": "code",
      "source": [
        "acc = res[\"accuracy\"]\n",
        "val_acc = res[\"val_accuracy\"]\n",
        "\n",
        "plt.plot(epochs, acc, \"bo\", label=\"Training accuracy\")\n",
        "plt.plot(epochs, val_acc, \"b\", label=\"Validation accuracy\")\n",
        "plt.xlabel(\"Epochs\")\n",
        "plt.ylabel(\"Accuracy\")\n",
        "plt.title(\"Training and validation accuracy\")\n",
        "plt.legend()\n",
        "plt.show()"
      ],
      "metadata": {
        "colab": {
          "base_uri": "https://localhost:8080/",
          "height": 295
        },
        "id": "-0hfcjb7wp9e",
        "outputId": "3a30060c-f41d-42ba-dbfa-277b507d6413"
      },
      "execution_count": 22,
      "outputs": [
        {
          "output_type": "display_data",
          "data": {
            "text/plain": [
              "<Figure size 432x288 with 1 Axes>"
            ],
            "image/png": "[encoded data removed]"
          },
          "metadata": {
            "needs_background": "light"
          }
        }
      ]
    }
  ]
}
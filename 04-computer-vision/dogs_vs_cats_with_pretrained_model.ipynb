{
  "nbformat": 4,
  "nbformat_minor": 0,
  "metadata": {
    "colab": {
      "name": "dogs_vs_cats_with_pretrained_model.ipynb",
      "provenance": [],
      "authorship_tag": "ABX9TyP2xIL+dARkMVcyR4DQkP6h"
    },
    "kernelspec": {
      "name": "python3",
      "display_name": "Python 3"
    },
    "language_info": {
      "name": "python"
    },
    "accelerator": "GPU",
    "gpuClass": "standard"
  },
  "cells": [
    {
      "cell_type": "markdown",
      "source": [
        "# Preparing dataset"
      ],
      "metadata": {
        "id": "zEGYm8Ji6ZYz"
      }
    },
    {
      "cell_type": "code",
      "execution_count": 2,
      "metadata": {
        "colab": {
          "resources": {
            "http://localhost:8080/nbextensions/google.colab/files.js": {
              "data": "Ly8gQ29weXJpZ2h0IDIwMTcgR29vZ2xlIExMQwovLwovLyBMaWNlbnNlZCB1bmRlciB0aGUgQXBhY2hlIExpY2Vuc2UsIFZlcnNpb24gMi4wICh0aGUgIkxpY2Vuc2UiKTsKLy8geW91IG1heSBub3QgdXNlIHRoaXMgZmlsZSBleGNlcHQgaW4gY29tcGxpYW5jZSB3aXRoIHRoZSBMaWNlbnNlLgovLyBZb3UgbWF5IG9idGFpbiBhIGNvcHkgb2YgdGhlIExpY2Vuc2UgYXQKLy8KLy8gICAgICBodHRwOi8vd3d3LmFwYWNoZS5vcmcvbGljZW5zZXMvTElDRU5TRS0yLjAKLy8KLy8gVW5sZXNzIHJlcXVpcmVkIGJ5IGFwcGxpY2FibGUgbGF3IG9yIGFncmVlZCB0byBpbiB3cml0aW5nLCBzb2Z0d2FyZQovLyBkaXN0cmlidXRlZCB1bmRlciB0aGUgTGljZW5zZSBpcyBkaXN0cmlidXRlZCBvbiBhbiAiQVMgSVMiIEJBU0lTLAovLyBXSVRIT1VUIFdBUlJBTlRJRVMgT1IgQ09ORElUSU9OUyBPRiBBTlkgS0lORCwgZWl0aGVyIGV4cHJlc3Mgb3IgaW1wbGllZC4KLy8gU2VlIHRoZSBMaWNlbnNlIGZvciB0aGUgc3BlY2lmaWMgbGFuZ3VhZ2UgZ292ZXJuaW5nIHBlcm1pc3Npb25zIGFuZAovLyBsaW1pdGF0aW9ucyB1bmRlciB0aGUgTGljZW5zZS4KCi8qKgogKiBAZmlsZW92ZXJ2aWV3IEhlbHBlcnMgZm9yIGdvb2dsZS5jb2xhYiBQeXRob24gbW9kdWxlLgogKi8KKGZ1bmN0aW9uKHNjb3BlKSB7CmZ1bmN0aW9uIHNwYW4odGV4dCwgc3R5bGVBdHRyaWJ1dGVzID0ge30pIHsKICBjb25zdCBlbGVtZW50ID0gZG9jdW1lbnQuY3JlYXRlRWxlbWVudCgnc3BhbicpOwogIGVsZW1lbnQudGV4dENvbnRlbnQgPSB0ZXh0OwogIGZvciAoY29uc3Qga2V5IG9mIE9iamVjdC5rZXlzKHN0eWxlQXR0cmlidXRlcykpIHsKICAgIGVsZW1lbnQuc3R5bGVba2V5XSA9IHN0eWxlQXR0cmlidXRlc1trZXldOwogIH0KICByZXR1cm4gZWxlbWVudDsKfQoKLy8gTWF4IG51bWJlciBvZiBieXRlcyB3aGljaCB3aWxsIGJlIHVwbG9hZGVkIGF0IGEgdGltZS4KY29uc3QgTUFYX1BBWUxPQURfU0laRSA9IDEwMCAqIDEwMjQ7CgpmdW5jdGlvbiBfdXBsb2FkRmlsZXMoaW5wdXRJZCwgb3V0cHV0SWQpIHsKICBjb25zdCBzdGVwcyA9IHVwbG9hZEZpbGVzU3RlcChpbnB1dElkLCBvdXRwdXRJZCk7CiAgY29uc3Qgb3V0cHV0RWxlbWVudCA9IGRvY3VtZW50LmdldEVsZW1lbnRCeUlkKG91dHB1dElkKTsKICAvLyBDYWNoZSBzdGVwcyBvbiB0aGUgb3V0cHV0RWxlbWVudCB0byBtYWtlIGl0IGF2YWlsYWJsZSBmb3IgdGhlIG5leHQgY2FsbAogIC8vIHRvIHVwbG9hZEZpbGVzQ29udGludWUgZnJvbSBQeXRob24uCiAgb3V0cHV0RWxlbWVudC5zdGVwcyA9IHN0ZXBzOwoKICByZXR1cm4gX3VwbG9hZEZpbGVzQ29udGludWUob3V0cHV0SWQpOwp9CgovLyBUaGlzIGlzIHJvdWdobHkgYW4gYXN5bmMgZ2VuZXJhdG9yIChub3Qgc3VwcG9ydGVkIGluIHRoZSBicm93c2VyIHlldCksCi8vIHdoZXJlIHRoZXJlIGFyZSBtdWx0aXBsZSBhc3luY2hyb25vdXMgc3RlcHMgYW5kIHRoZSBQeXRob24gc2lkZSBpcyBnb2luZwovLyB0byBwb2xsIGZvciBjb21wbGV0aW9uIG9mIGVhY2ggc3RlcC4KLy8gVGhpcyB1c2VzIGEgUHJvbWlzZSB0byBibG9jayB0aGUgcHl0aG9uIHNpZGUgb24gY29tcGxldGlvbiBvZiBlYWNoIHN0ZXAsCi8vIHRoZW4gcGFzc2VzIHRoZSByZXN1bHQgb2YgdGhlIHByZXZpb3VzIHN0ZXAgYXMgdGhlIGlucHV0IHRvIHRoZSBuZXh0IHN0ZXAuCmZ1bmN0aW9uIF91cGxvYWRGaWxlc0NvbnRpbnVlKG91dHB1dElkKSB7CiAgY29uc3Qgb3V0cHV0RWxlbWVudCA9IGRvY3VtZW50LmdldEVsZW1lbnRCeUlkKG91dHB1dElkKTsKICBjb25zdCBzdGVwcyA9IG91dHB1dEVsZW1lbnQuc3RlcHM7CgogIGNvbnN0IG5leHQgPSBzdGVwcy5uZXh0KG91dHB1dEVsZW1lbnQubGFzdFByb21pc2VWYWx1ZSk7CiAgcmV0dXJuIFByb21pc2UucmVzb2x2ZShuZXh0LnZhbHVlLnByb21pc2UpLnRoZW4oKHZhbHVlKSA9PiB7CiAgICAvLyBDYWNoZSB0aGUgbGFzdCBwcm9taXNlIHZhbHVlIHRvIG1ha2UgaXQgYXZhaWxhYmxlIHRvIHRoZSBuZXh0CiAgICAvLyBzdGVwIG9mIHRoZSBnZW5lcmF0b3IuCiAgICBvdXRwdXRFbGVtZW50Lmxhc3RQcm9taXNlVmFsdWUgPSB2YWx1ZTsKICAgIHJldHVybiBuZXh0LnZhbHVlLnJlc3BvbnNlOwogIH0pOwp9CgovKioKICogR2VuZXJhdG9yIGZ1bmN0aW9uIHdoaWNoIGlzIGNhbGxlZCBiZXR3ZWVuIGVhY2ggYXN5bmMgc3RlcCBvZiB0aGUgdXBsb2FkCiAqIHByb2Nlc3MuCiAqIEBwYXJhbSB7c3RyaW5nfSBpbnB1dElkIEVsZW1lbnQgSUQgb2YgdGhlIGlucHV0IGZpbGUgcGlja2VyIGVsZW1lbnQuCiAqIEBwYXJhbSB7c3RyaW5nfSBvdXRwdXRJZCBFbGVtZW50IElEIG9mIHRoZSBvdXRwdXQgZGlzcGxheS4KICogQHJldHVybiB7IUl0ZXJhYmxlPCFPYmplY3Q+fSBJdGVyYWJsZSBvZiBuZXh0IHN0ZXBzLgogKi8KZnVuY3Rpb24qIHVwbG9hZEZpbGVzU3RlcChpbnB1dElkLCBvdXRwdXRJZCkgewogIGNvbnN0IGlucHV0RWxlbWVudCA9IGRvY3VtZW50LmdldEVsZW1lbnRCeUlkKGlucHV0SWQpOwogIGlucHV0RWxlbWVudC5kaXNhYmxlZCA9IGZhbHNlOwoKICBjb25zdCBvdXRwdXRFbGVtZW50ID0gZG9jdW1lbnQuZ2V0RWxlbWVudEJ5SWQob3V0cHV0SWQpOwogIG91dHB1dEVsZW1lbnQuaW5uZXJIVE1MID0gJyc7CgogIGNvbnN0IHBpY2tlZFByb21pc2UgPSBuZXcgUHJvbWlzZSgocmVzb2x2ZSkgPT4gewogICAgaW5wdXRFbGVtZW50LmFkZEV2ZW50TGlzdGVuZXIoJ2NoYW5nZScsIChlKSA9PiB7CiAgICAgIHJlc29sdmUoZS50YXJnZXQuZmlsZXMpOwogICAgfSk7CiAgfSk7CgogIGNvbnN0IGNhbmNlbCA9IGRvY3VtZW50LmNyZWF0ZUVsZW1lbnQoJ2J1dHRvbicpOwogIGlucHV0RWxlbWVudC5wYXJlbnRFbGVtZW50LmFwcGVuZENoaWxkKGNhbmNlbCk7CiAgY2FuY2VsLnRleHRDb250ZW50ID0gJ0NhbmNlbCB1cGxvYWQnOwogIGNvbnN0IGNhbmNlbFByb21pc2UgPSBuZXcgUHJvbWlzZSgocmVzb2x2ZSkgPT4gewogICAgY2FuY2VsLm9uY2xpY2sgPSAoKSA9PiB7CiAgICAgIHJlc29sdmUobnVsbCk7CiAgICB9OwogIH0pOwoKICAvLyBXYWl0IGZvciB0aGUgdXNlciB0byBwaWNrIHRoZSBmaWxlcy4KICBjb25zdCBmaWxlcyA9IHlpZWxkIHsKICAgIHByb21pc2U6IFByb21pc2UucmFjZShbcGlja2VkUHJvbWlzZSwgY2FuY2VsUHJvbWlzZV0pLAogICAgcmVzcG9uc2U6IHsKICAgICAgYWN0aW9uOiAnc3RhcnRpbmcnLAogICAgfQogIH07CgogIGNhbmNlbC5yZW1vdmUoKTsKCiAgLy8gRGlzYWJsZSB0aGUgaW5wdXQgZWxlbWVudCBzaW5jZSBmdXJ0aGVyIHBpY2tzIGFyZSBub3QgYWxsb3dlZC4KICBpbnB1dEVsZW1lbnQuZGlzYWJsZWQgPSB0cnVlOwoKICBpZiAoIWZpbGVzKSB7CiAgICByZXR1cm4gewogICAgICByZXNwb25zZTogewogICAgICAgIGFjdGlvbjogJ2NvbXBsZXRlJywKICAgICAgfQogICAgfTsKICB9CgogIGZvciAoY29uc3QgZmlsZSBvZiBmaWxlcykgewogICAgY29uc3QgbGkgPSBkb2N1bWVudC5jcmVhdGVFbGVtZW50KCdsaScpOwogICAgbGkuYXBwZW5kKHNwYW4oZmlsZS5uYW1lLCB7Zm9udFdlaWdodDogJ2JvbGQnfSkpOwogICAgbGkuYXBwZW5kKHNwYW4oCiAgICAgICAgYCgke2ZpbGUudHlwZSB8fCAnbi9hJ30pIC0gJHtmaWxlLnNpemV9IGJ5dGVzLCBgICsKICAgICAgICBgbGFzdCBtb2RpZmllZDogJHsKICAgICAgICAgICAgZmlsZS5sYXN0TW9kaWZpZWREYXRlID8gZmlsZS5sYXN0TW9kaWZpZWREYXRlLnRvTG9jYWxlRGF0ZVN0cmluZygpIDoKICAgICAgICAgICAgICAgICAgICAgICAgICAgICAgICAgICAgJ24vYSd9IC0gYCkpOwogICAgY29uc3QgcGVyY2VudCA9IHNwYW4oJzAlIGRvbmUnKTsKICAgIGxpLmFwcGVuZENoaWxkKHBlcmNlbnQpOwoKICAgIG91dHB1dEVsZW1lbnQuYXBwZW5kQ2hpbGQobGkpOwoKICAgIGNvbnN0IGZpbGVEYXRhUHJvbWlzZSA9IG5ldyBQcm9taXNlKChyZXNvbHZlKSA9PiB7CiAgICAgIGNvbnN0IHJlYWRlciA9IG5ldyBGaWxlUmVhZGVyKCk7CiAgICAgIHJlYWRlci5vbmxvYWQgPSAoZSkgPT4gewogICAgICAgIHJlc29sdmUoZS50YXJnZXQucmVzdWx0KTsKICAgICAgfTsKICAgICAgcmVhZGVyLnJlYWRBc0FycmF5QnVmZmVyKGZpbGUpOwogICAgfSk7CiAgICAvLyBXYWl0IGZvciB0aGUgZGF0YSB0byBiZSByZWFkeS4KICAgIGxldCBmaWxlRGF0YSA9IHlpZWxkIHsKICAgICAgcHJvbWlzZTogZmlsZURhdGFQcm9taXNlLAogICAgICByZXNwb25zZTogewogICAgICAgIGFjdGlvbjogJ2NvbnRpbnVlJywKICAgICAgfQogICAgfTsKCiAgICAvLyBVc2UgYSBjaHVua2VkIHNlbmRpbmcgdG8gYXZvaWQgbWVzc2FnZSBzaXplIGxpbWl0cy4gU2VlIGIvNjIxMTU2NjAuCiAgICBsZXQgcG9zaXRpb24gPSAwOwogICAgZG8gewogICAgICBjb25zdCBsZW5ndGggPSBNYXRoLm1pbihmaWxlRGF0YS5ieXRlTGVuZ3RoIC0gcG9zaXRpb24sIE1BWF9QQVlMT0FEX1NJWkUpOwogICAgICBjb25zdCBjaHVuayA9IG5ldyBVaW50OEFycmF5KGZpbGVEYXRhLCBwb3NpdGlvbiwgbGVuZ3RoKTsKICAgICAgcG9zaXRpb24gKz0gbGVuZ3RoOwoKICAgICAgY29uc3QgYmFzZTY0ID0gYnRvYShTdHJpbmcuZnJvbUNoYXJDb2RlLmFwcGx5KG51bGwsIGNodW5rKSk7CiAgICAgIHlpZWxkIHsKICAgICAgICByZXNwb25zZTogewogICAgICAgICAgYWN0aW9uOiAnYXBwZW5kJywKICAgICAgICAgIGZpbGU6IGZpbGUubmFtZSwKICAgICAgICAgIGRhdGE6IGJhc2U2NCwKICAgICAgICB9LAogICAgICB9OwoKICAgICAgbGV0IHBlcmNlbnREb25lID0gZmlsZURhdGEuYnl0ZUxlbmd0aCA9PT0gMCA/CiAgICAgICAgICAxMDAgOgogICAgICAgICAgTWF0aC5yb3VuZCgocG9zaXRpb24gLyBmaWxlRGF0YS5ieXRlTGVuZ3RoKSAqIDEwMCk7CiAgICAgIHBlcmNlbnQudGV4dENvbnRlbnQgPSBgJHtwZXJjZW50RG9uZX0lIGRvbmVgOwoKICAgIH0gd2hpbGUgKHBvc2l0aW9uIDwgZmlsZURhdGEuYnl0ZUxlbmd0aCk7CiAgfQoKICAvLyBBbGwgZG9uZS4KICB5aWVsZCB7CiAgICByZXNwb25zZTogewogICAgICBhY3Rpb246ICdjb21wbGV0ZScsCiAgICB9CiAgfTsKfQoKc2NvcGUuZ29vZ2xlID0gc2NvcGUuZ29vZ2xlIHx8IHt9OwpzY29wZS5nb29nbGUuY29sYWIgPSBzY29wZS5nb29nbGUuY29sYWIgfHwge307CnNjb3BlLmdvb2dsZS5jb2xhYi5fZmlsZXMgPSB7CiAgX3VwbG9hZEZpbGVzLAogIF91cGxvYWRGaWxlc0NvbnRpbnVlLAp9Owp9KShzZWxmKTsK",
              "ok": true,
              "headers": [
                [
                  "content-type",
                  "application/javascript"
                ]
              ],
              "status": 200,
              "status_text": "OK"
            }
          },
          "base_uri": "https://localhost:8080/",
          "height": 95
        },
        "id": "Kjb4pXFd4sNX",
        "outputId": "720af82b-f45f-4070-aba2-07d8617e1198"
      },
      "outputs": [
        {
          "output_type": "display_data",
          "data": {
            "text/plain": [
              "<IPython.core.display.HTML object>"
            ],
            "text/html": [
              "\n",
              "     <input type=\"file\" id=\"files-67b486dd-ebee-4527-ae07-ef237506a37c\" name=\"files[]\" multiple disabled\n",
              "        style=\"border:none\" />\n",
              "     <output id=\"result-67b486dd-ebee-4527-ae07-ef237506a37c\">\n",
              "      Upload widget is only available when the cell has been executed in the\n",
              "      current browser session. Please rerun this cell to enable.\n",
              "      </output>\n",
              "      <script src=\"/nbextensions/google.colab/files.js\"></script> "
            ]
          },
          "metadata": {}
        },
        {
          "output_type": "stream",
          "name": "stdout",
          "text": [
            "Saving kaggle.json to kaggle.json\n"
          ]
        },
        {
          "output_type": "execute_result",
          "data": {
            "text/plain": [
              "{'kaggle.json': b'{\"username\":\"christopherkeibel\",\"key\":\"XXX\"}'}"
            ]
          },
          "metadata": {},
          "execution_count": 2
        }
      ],
      "source": [
        "from google.colab import files\n",
        "files.upload()"
      ]
    },
    {
      "cell_type": "code",
      "source": [
        "!mkdir ~/.kaggle\n",
        "!cp kaggle.json ~/.kaggle/\n",
        "!chmod 600 ~/.kaggle/kaggle.json"
      ],
      "metadata": {
        "id": "lc6dLYY16G55"
      },
      "execution_count": 3,
      "outputs": []
    },
    {
      "cell_type": "code",
      "source": [
        "# downloading dataset from kaggle\n",
        "!kaggle competitions download -c dogs-vs-cats"
      ],
      "metadata": {
        "colab": {
          "base_uri": "https://localhost:8080/"
        },
        "id": "spsY8CFd6OhY",
        "outputId": "aa4b15b7-fcba-4747-a9b2-30a528ebeb2e"
      },
      "execution_count": 4,
      "outputs": [
        {
          "output_type": "stream",
          "name": "stdout",
          "text": [
            "Downloading dogs-vs-cats.zip to /content\n",
            " 99% 808M/812M [00:02<00:00, 207MB/s]\n",
            "100% 812M/812M [00:02<00:00, 290MB/s]\n"
          ]
        }
      ]
    },
    {
      "cell_type": "code",
      "source": [
        "!unzip -qq dogs-vs-cats.zip\n",
        "!unzip -qq train.zip"
      ],
      "metadata": {
        "id": "oxYqbkS36SG7"
      },
      "execution_count": 5,
      "outputs": []
    },
    {
      "cell_type": "code",
      "source": [
        "import os, shutil, pathlib\n",
        "\n",
        "original_dir = pathlib.Path(\"train\")\n",
        "new_base_dir = pathlib.Path(\"dogs_vs_cats_small\")\n",
        "\n",
        "def make_subset(name:str, start:int, end:int):\n",
        "    for category in (\"dog\", \"cat\"):\n",
        "        dir = new_base_dir / name / category\n",
        "        os.makedirs(dir)\n",
        "\n",
        "        # create list of filename - first all dogs then all cats (category)\n",
        "        fnames = [f\"{category}.{i}.jpg\" for i in range(start, end)]\n",
        "\n",
        "        for fname in fnames:\n",
        "            shutil.copyfile(src=original_dir / fname, dst=dir / fname)"
      ],
      "metadata": {
        "id": "x3a62j-J6Whk"
      },
      "execution_count": 6,
      "outputs": []
    },
    {
      "cell_type": "code",
      "source": [
        "make_subset(\"train\", start=0, end=1_000)\n",
        "make_subset(\"validation\", start=1_000, end=1_500)\n",
        "make_subset(\"test\", start=1_500, end=2_500)"
      ],
      "metadata": {
        "id": "K__xWoBH7y3P"
      },
      "execution_count": 7,
      "outputs": []
    },
    {
      "cell_type": "code",
      "source": [
        "from tensorflow.keras.utils import image_dataset_from_directory\n",
        "\n",
        "train_data = image_dataset_from_directory(\n",
        "    new_base_dir / \"train\",\n",
        "    image_size=(180, 180),\n",
        "    batch_size=32\n",
        ")\n",
        "\n",
        "val_data = image_dataset_from_directory(\n",
        "    new_base_dir / \"validation\",\n",
        "    image_size=(180, 180),\n",
        "    batch_size=32\n",
        ")\n",
        "\n",
        "test_data = image_dataset_from_directory(\n",
        "    new_base_dir / \"test\",\n",
        "    image_size=(180, 180),\n",
        "    batch_size=32\n",
        ")"
      ],
      "metadata": {
        "colab": {
          "base_uri": "https://localhost:8080/"
        },
        "id": "gOzp-8yh8FVR",
        "outputId": "c368c5ec-82bf-47cc-ac49-6f581e9a15ea"
      },
      "execution_count": 9,
      "outputs": [
        {
          "output_type": "stream",
          "name": "stdout",
          "text": [
            "Found 2000 files belonging to 2 classes.\n",
            "Found 1000 files belonging to 2 classes.\n",
            "Found 2000 files belonging to 2 classes.\n"
          ]
        }
      ]
    },
    {
      "cell_type": "markdown",
      "source": [
        "# Build model"
      ],
      "metadata": {
        "id": "INft8UpZ9DMa"
      }
    },
    {
      "cell_type": "code",
      "source": [
        "from tensorflow.keras.applications.vgg16 import  VGG16\n",
        "\n",
        "# instantiating and freezing conb base\n",
        "conv_base = VGG16(\n",
        "    weights=\"imagenet\",\n",
        "    include_top=False,\n",
        ")\n",
        "\n",
        "conv_base.trainable = False"
      ],
      "metadata": {
        "colab": {
          "base_uri": "https://localhost:8080/"
        },
        "id": "khZT52VR87id",
        "outputId": "da9bfc85-9519-4a28-c1b9-766ca83bad7d"
      },
      "execution_count": 10,
      "outputs": [
        {
          "output_type": "stream",
          "name": "stdout",
          "text": [
            "Downloading data from https://storage.googleapis.com/tensorflow/keras-applications/vgg16/vgg16_weights_tf_dim_ordering_tf_kernels_notop.h5\n",
            "58892288/58889256 [==============================] - 0s 0us/step\n",
            "58900480/58889256 [==============================] - 0s 0us/step\n"
          ]
        }
      ]
    },
    {
      "cell_type": "code",
      "source": [
        "# data augmentation\n",
        "from tensorflow.keras.layers import RandomFlip, RandomRotation, RandomZoom\n",
        "from tensorflow.keras.models import Sequential\n",
        "\n",
        "data_augmentation = Sequential([\n",
        "    RandomFlip(\"horizontal\"),\n",
        "    RandomRotation(0.1),\n",
        "    RandomZoom(0.2)\n",
        "])"
      ],
      "metadata": {
        "id": "VocznO8Y-Fvn"
      },
      "execution_count": 11,
      "outputs": []
    },
    {
      "cell_type": "code",
      "source": [
        "# stacking the model together\n",
        "from tensorflow.keras.layers import Dense, Flatten, Input, Dropout\n",
        "from tensorflow.keras.models import Model\n",
        "from tensorflow.keras.applications.vgg16 import preprocess_input\n",
        "\n",
        "inputs = Input(shape=(180, 180, 3))\n",
        "x = data_augmentation(inputs) # DATA AUGMENTATION\n",
        "x = preprocess_input(x) # VGG16 value scaling\n",
        "x = conv_base(x) # VGG16 features\n",
        "x = Flatten()(x)\n",
        "x = Dense(256, activation=\"relu\")(x)\n",
        "x = Dropout(0.5)(x)\n",
        "outputs = Dense(1, activation=\"sigmoid\")(x)\n",
        "\n",
        "model = Model(inputs=inputs, outputs=outputs)\n",
        "\n",
        "model.summary()"
      ],
      "metadata": {
        "colab": {
          "base_uri": "https://localhost:8080/"
        },
        "id": "UL6yitmR-2K_",
        "outputId": "ca167078-26c1-4c60-ec6f-c968cb5d2719"
      },
      "execution_count": 13,
      "outputs": [
        {
          "output_type": "stream",
          "name": "stdout",
          "text": [
            "Model: \"model\"\n",
            "_________________________________________________________________\n",
            " Layer (type)                Output Shape              Param #   \n",
            "=================================================================\n",
            " input_2 (InputLayer)        [(None, 180, 180, 3)]     0         \n",
            "                                                                 \n",
            " sequential (Sequential)     (None, 180, 180, 3)       0         \n",
            "                                                                 \n",
            " tf.__operators__.getitem (S  (None, 180, 180, 3)      0         \n",
            " licingOpLambda)                                                 \n",
            "                                                                 \n",
            " tf.nn.bias_add (TFOpLambda)  (None, 180, 180, 3)      0         \n",
            "                                                                 \n",
            " vgg16 (Functional)          (None, None, None, 512)   14714688  \n",
            "                                                                 \n",
            " flatten (Flatten)           (None, 12800)             0         \n",
            "                                                                 \n",
            " dense (Dense)               (None, 256)               3277056   \n",
            "                                                                 \n",
            " dropout (Dropout)           (None, 256)               0         \n",
            "                                                                 \n",
            " dense_1 (Dense)             (None, 1)                 257       \n",
            "                                                                 \n",
            "=================================================================\n",
            "Total params: 17,992,001\n",
            "Trainable params: 3,277,313\n",
            "Non-trainable params: 14,714,688\n",
            "_________________________________________________________________\n"
          ]
        }
      ]
    },
    {
      "cell_type": "code",
      "source": [
        "model.compile(loss=\"binary_crossentropy\",\n",
        "              optimizer=\"rmsprop\",\n",
        "              metrics=[\"accuracy\"])"
      ],
      "metadata": {
        "id": "2NsHnwdpAVJN"
      },
      "execution_count": 14,
      "outputs": []
    },
    {
      "cell_type": "code",
      "source": [
        "from tensorflow.keras.callbacks import ModelCheckpoint\n",
        "\n",
        "MODEL_PATH = \"feature_extraction_with_data_augmentation.keras\"\n",
        "\n",
        "callbacks = [\n",
        "    ModelCheckpoint(\n",
        "        filepath=MODEL_PATH,\n",
        "        save_best_only=True,\n",
        "        monitor=\"val_loss\"\n",
        "    )\n",
        "]"
      ],
      "metadata": {
        "id": "wgGWLngBAwub"
      },
      "execution_count": 16,
      "outputs": []
    },
    {
      "cell_type": "code",
      "source": [
        "res = model.fit(\n",
        "    train_data,\n",
        "    epochs=50,\n",
        "    validation_data=val_data,\n",
        "    callbacks=callbacks\n",
        ")"
      ],
      "metadata": {
        "colab": {
          "base_uri": "https://localhost:8080/"
        },
        "id": "GBXAcVLyBW3v",
        "outputId": "cf6f6b5d-642a-4d4e-9f5b-bc00816ceecf"
      },
      "execution_count": 17,
      "outputs": [
        {
          "output_type": "stream",
          "name": "stdout",
          "text": [
            "Epoch 1/50\n",
            "63/63 [==============================] - 29s 216ms/step - loss: 5.6869 - accuracy: 0.8690 - val_loss: 0.2629 - val_accuracy: 0.9670\n",
            "Epoch 2/50\n",
            "63/63 [==============================] - 12s 185ms/step - loss: 0.5004 - accuracy: 0.9380 - val_loss: 0.1592 - val_accuracy: 0.9690\n",
            "Epoch 3/50\n",
            "63/63 [==============================] - 12s 187ms/step - loss: 0.3291 - accuracy: 0.9460 - val_loss: 0.2056 - val_accuracy: 0.9700\n",
            "Epoch 4/50\n",
            "63/63 [==============================] - 12s 185ms/step - loss: 0.3575 - accuracy: 0.9525 - val_loss: 0.1719 - val_accuracy: 0.9760\n",
            "Epoch 5/50\n",
            "63/63 [==============================] - 11s 179ms/step - loss: 0.3737 - accuracy: 0.9530 - val_loss: 0.2367 - val_accuracy: 0.9720\n",
            "Epoch 6/50\n",
            "63/63 [==============================] - 12s 179ms/step - loss: 0.2280 - accuracy: 0.9640 - val_loss: 0.3199 - val_accuracy: 0.9700\n",
            "Epoch 7/50\n",
            "63/63 [==============================] - 12s 183ms/step - loss: 0.2933 - accuracy: 0.9670 - val_loss: 0.2857 - val_accuracy: 0.9760\n",
            "Epoch 8/50\n",
            "63/63 [==============================] - 12s 187ms/step - loss: 0.2396 - accuracy: 0.9705 - val_loss: 0.2643 - val_accuracy: 0.9740\n",
            "Epoch 9/50\n",
            "63/63 [==============================] - 12s 180ms/step - loss: 0.1925 - accuracy: 0.9725 - val_loss: 0.3360 - val_accuracy: 0.9750\n",
            "Epoch 10/50\n",
            "63/63 [==============================] - 12s 179ms/step - loss: 0.2390 - accuracy: 0.9660 - val_loss: 0.2689 - val_accuracy: 0.9800\n",
            "Epoch 11/50\n",
            "63/63 [==============================] - 12s 182ms/step - loss: 0.2089 - accuracy: 0.9700 - val_loss: 0.3737 - val_accuracy: 0.9750\n",
            "Epoch 12/50\n",
            "63/63 [==============================] - 12s 183ms/step - loss: 0.2152 - accuracy: 0.9745 - val_loss: 0.3064 - val_accuracy: 0.9760\n",
            "Epoch 13/50\n",
            "63/63 [==============================] - 12s 181ms/step - loss: 0.2024 - accuracy: 0.9760 - val_loss: 0.2385 - val_accuracy: 0.9810\n",
            "Epoch 14/50\n",
            "63/63 [==============================] - 12s 183ms/step - loss: 0.1471 - accuracy: 0.9855 - val_loss: 0.6312 - val_accuracy: 0.9710\n",
            "Epoch 15/50\n",
            "63/63 [==============================] - 12s 179ms/step - loss: 0.2175 - accuracy: 0.9785 - val_loss: 0.3757 - val_accuracy: 0.9800\n",
            "Epoch 16/50\n",
            "63/63 [==============================] - 12s 182ms/step - loss: 0.2338 - accuracy: 0.9760 - val_loss: 0.2903 - val_accuracy: 0.9840\n",
            "Epoch 17/50\n",
            "63/63 [==============================] - 12s 179ms/step - loss: 0.1490 - accuracy: 0.9850 - val_loss: 0.3887 - val_accuracy: 0.9750\n",
            "Epoch 18/50\n",
            "63/63 [==============================] - 12s 184ms/step - loss: 0.2065 - accuracy: 0.9805 - val_loss: 0.3539 - val_accuracy: 0.9750\n",
            "Epoch 19/50\n",
            "63/63 [==============================] - 12s 182ms/step - loss: 0.1678 - accuracy: 0.9855 - val_loss: 0.2873 - val_accuracy: 0.9800\n",
            "Epoch 20/50\n",
            "63/63 [==============================] - 12s 181ms/step - loss: 0.1403 - accuracy: 0.9890 - val_loss: 0.3478 - val_accuracy: 0.9780\n",
            "Epoch 21/50\n",
            "63/63 [==============================] - 12s 180ms/step - loss: 0.2422 - accuracy: 0.9760 - val_loss: 0.6623 - val_accuracy: 0.9750\n",
            "Epoch 22/50\n",
            "63/63 [==============================] - 11s 178ms/step - loss: 0.2038 - accuracy: 0.9820 - val_loss: 0.3429 - val_accuracy: 0.9770\n",
            "Epoch 23/50\n",
            "63/63 [==============================] - 12s 180ms/step - loss: 0.1524 - accuracy: 0.9850 - val_loss: 0.3127 - val_accuracy: 0.9760\n",
            "Epoch 24/50\n",
            "63/63 [==============================] - 12s 184ms/step - loss: 0.1483 - accuracy: 0.9865 - val_loss: 0.3407 - val_accuracy: 0.9800\n",
            "Epoch 25/50\n",
            "63/63 [==============================] - 12s 187ms/step - loss: 0.1040 - accuracy: 0.9880 - val_loss: 0.3266 - val_accuracy: 0.9820\n",
            "Epoch 26/50\n",
            "63/63 [==============================] - 12s 180ms/step - loss: 0.0992 - accuracy: 0.9885 - val_loss: 0.4327 - val_accuracy: 0.9780\n",
            "Epoch 27/50\n",
            "63/63 [==============================] - 12s 180ms/step - loss: 0.2092 - accuracy: 0.9845 - val_loss: 0.4835 - val_accuracy: 0.9770\n",
            "Epoch 28/50\n",
            "63/63 [==============================] - 12s 179ms/step - loss: 0.2370 - accuracy: 0.9850 - val_loss: 0.5229 - val_accuracy: 0.9760\n",
            "Epoch 29/50\n",
            "63/63 [==============================] - 12s 182ms/step - loss: 0.1179 - accuracy: 0.9870 - val_loss: 0.4970 - val_accuracy: 0.9780\n",
            "Epoch 30/50\n",
            "63/63 [==============================] - 12s 180ms/step - loss: 0.1306 - accuracy: 0.9905 - val_loss: 0.3775 - val_accuracy: 0.9790\n",
            "Epoch 31/50\n",
            "63/63 [==============================] - 12s 182ms/step - loss: 0.1291 - accuracy: 0.9860 - val_loss: 0.3745 - val_accuracy: 0.9800\n",
            "Epoch 32/50\n",
            "63/63 [==============================] - 12s 181ms/step - loss: 0.1006 - accuracy: 0.9885 - val_loss: 0.2771 - val_accuracy: 0.9800\n",
            "Epoch 33/50\n",
            "63/63 [==============================] - 12s 182ms/step - loss: 0.0576 - accuracy: 0.9890 - val_loss: 0.3160 - val_accuracy: 0.9810\n",
            "Epoch 34/50\n",
            "63/63 [==============================] - 12s 181ms/step - loss: 0.1427 - accuracy: 0.9840 - val_loss: 0.4925 - val_accuracy: 0.9790\n",
            "Epoch 35/50\n",
            "63/63 [==============================] - 12s 181ms/step - loss: 0.0969 - accuracy: 0.9905 - val_loss: 0.3826 - val_accuracy: 0.9780\n",
            "Epoch 36/50\n",
            "63/63 [==============================] - 12s 183ms/step - loss: 0.0692 - accuracy: 0.9920 - val_loss: 0.3375 - val_accuracy: 0.9800\n",
            "Epoch 37/50\n",
            "63/63 [==============================] - 12s 180ms/step - loss: 0.0776 - accuracy: 0.9900 - val_loss: 0.3875 - val_accuracy: 0.9840\n",
            "Epoch 38/50\n",
            "63/63 [==============================] - 12s 182ms/step - loss: 0.1047 - accuracy: 0.9905 - val_loss: 0.3746 - val_accuracy: 0.9800\n",
            "Epoch 39/50\n",
            "63/63 [==============================] - 11s 178ms/step - loss: 0.0372 - accuracy: 0.9960 - val_loss: 0.3799 - val_accuracy: 0.9800\n",
            "Epoch 40/50\n",
            "63/63 [==============================] - 12s 182ms/step - loss: 0.0553 - accuracy: 0.9935 - val_loss: 0.5137 - val_accuracy: 0.9770\n",
            "Epoch 41/50\n",
            "63/63 [==============================] - 12s 184ms/step - loss: 0.0963 - accuracy: 0.9910 - val_loss: 0.4592 - val_accuracy: 0.9790\n",
            "Epoch 42/50\n",
            "63/63 [==============================] - 12s 181ms/step - loss: 0.0750 - accuracy: 0.9945 - val_loss: 0.3575 - val_accuracy: 0.9810\n",
            "Epoch 43/50\n",
            "63/63 [==============================] - 11s 179ms/step - loss: 0.0554 - accuracy: 0.9910 - val_loss: 0.3946 - val_accuracy: 0.9800\n",
            "Epoch 44/50\n",
            "63/63 [==============================] - 12s 181ms/step - loss: 0.0824 - accuracy: 0.9915 - val_loss: 0.3991 - val_accuracy: 0.9810\n",
            "Epoch 45/50\n",
            "63/63 [==============================] - 12s 185ms/step - loss: 0.0607 - accuracy: 0.9915 - val_loss: 0.3885 - val_accuracy: 0.9800\n",
            "Epoch 46/50\n",
            "63/63 [==============================] - 12s 181ms/step - loss: 0.0588 - accuracy: 0.9925 - val_loss: 0.4069 - val_accuracy: 0.9790\n",
            "Epoch 47/50\n",
            "63/63 [==============================] - 12s 181ms/step - loss: 0.0604 - accuracy: 0.9915 - val_loss: 0.3914 - val_accuracy: 0.9800\n",
            "Epoch 48/50\n",
            "63/63 [==============================] - 12s 181ms/step - loss: 0.0778 - accuracy: 0.9925 - val_loss: 0.3239 - val_accuracy: 0.9830\n",
            "Epoch 49/50\n",
            "63/63 [==============================] - 12s 185ms/step - loss: 0.0634 - accuracy: 0.9920 - val_loss: 0.2863 - val_accuracy: 0.9830\n",
            "Epoch 50/50\n",
            "63/63 [==============================] - 12s 183ms/step - loss: 0.0674 - accuracy: 0.9940 - val_loss: 0.3098 - val_accuracy: 0.9820\n"
          ]
        }
      ]
    },
    {
      "cell_type": "code",
      "source": [
        "import matplotlib.pyplot as plt\n",
        "\n",
        "loss = res.history[\"loss\"]\n",
        "acc = res.history[\"accuracy\"]\n",
        "val_loss = res.history[\"val_loss\"]\n",
        "val_acc = res.history[\"val_accuracy\"]\n",
        "\n",
        "x_range = range(1, len(loss) +1)\n",
        "\n",
        "f, (ax1, ax2) = plt.subplots(1, 2, figsize=(15, 8))\n",
        "ax1.plot(x_range, acc, \"b\", label=\"Train accuracy\")\n",
        "ax1.plot(x_range, val_acc, \"r\", label=\"Val accuracy\")\n",
        "ax1.set_xlabel(\"Epochs\")\n",
        "ax1.set_ylabel(\"Accuracy\")\n",
        "ax1.set_title(\"Accuracy\")\n",
        "ax1.legend()\n",
        "ax2.plot(x_range, loss, \"b\", label=\"Train loss\")\n",
        "ax2.plot(x_range, val_loss, \"r\", label=\"Val loss\")\n",
        "ax2.set_xlabel(\"Epochs\")\n",
        "ax2.set_ylabel(\"Loss\")\n",
        "ax2.set_title(\"Loss\")\n",
        "ax2.legend()\n",
        "plt.show()"
      ],
      "metadata": {
        "colab": {
          "base_uri": "https://localhost:8080/",
          "height": 513
        },
        "id": "uTtIe3-mBmPC",
        "outputId": "72c6fcb9-eada-4cc7-9d7a-5182e3a8f0e8"
      },
      "execution_count": 23,
      "outputs": [
        {
          "output_type": "display_data",
          "data": {
            "text/plain": [
              "<Figure size 1080x576 with 2 Axes>"
            ],
            "image/png": "[encoded data removed]"
          },
          "metadata": {
            "needs_background": "light"
          }
        }
      ]
    },
    {
      "cell_type": "code",
      "source": [
        "from tensorflow.keras.models import load_model\n",
        "\n",
        "test_model = load_model(MODEL_PATH)\n",
        "test_loss, test_acc = test_model.evaluate(test_data)\n",
        "\n",
        "print(f\"Test accuracy: {test_acc}\")"
      ],
      "metadata": {
        "colab": {
          "base_uri": "https://localhost:8080/"
        },
        "id": "eKGrjeKjG7Je",
        "outputId": "414664af-6ec0-4e9b-c54f-9e0db8fdfa5d"
      },
      "execution_count": 24,
      "outputs": [
        {
          "output_type": "stream",
          "name": "stdout",
          "text": [
            "63/63 [==============================] - 8s 112ms/step - loss: 0.2154 - accuracy: 0.9715\n",
            "Test accuracy: 0.9714999794960022\n"
          ]
        }
      ]
    },
    {
      "cell_type": "code",
      "source": [
        ""
      ],
      "metadata": {
        "id": "0kmlJtmKHu-a"
      },
      "execution_count": null,
      "outputs": []
    }
  ]
}

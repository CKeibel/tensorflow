{
  "nbformat": 4,
  "nbformat_minor": 0,
  "metadata": {
    "colab": {
      "name": "fine-tune-test-cats-vs-dogs (no pre trained classifier).ipynb",
      "provenance": [],
      "authorship_tag": "ABX9TyOFMsJ2KR5bVmsj1xnELtto"
    },
    "kernelspec": {
      "name": "python3",
      "display_name": "Python 3"
    },
    "language_info": {
      "name": "python"
    },
    "accelerator": "GPU",
    "gpuClass": "standard"
  },
  "cells": [
    {
      "cell_type": "code",
      "execution_count": null,
      "metadata": {
        "id": "wsQWnXP7DZ5E"
      },
      "outputs": [],
      "source": [
        "from google.colab import files\n",
        "files.upload()"
      ]
    },
    {
      "cell_type": "code",
      "source": [
        "!mkdir ~/.kaggle\n",
        "!cp kaggle.json ~/.kaggle/\n",
        "!chmod 600 ~/.kaggle/kaggle.json"
      ],
      "metadata": {
        "id": "BTNWQetKDlwr"
      },
      "execution_count": 2,
      "outputs": []
    },
    {
      "cell_type": "code",
      "source": [
        "!kaggle competitions download -c dogs-vs-cats"
      ],
      "metadata": {
        "colab": {
          "base_uri": "https://localhost:8080/"
        },
        "id": "u1068tLlDrHH",
        "outputId": "b8d37bdb-dada-4601-8f70-8122bebce37a"
      },
      "execution_count": 3,
      "outputs": [
        {
          "output_type": "stream",
          "name": "stdout",
          "text": [
            "Downloading dogs-vs-cats.zip to /content\n",
            " 98% 794M/812M [00:03<00:00, 263MB/s]\n",
            "100% 812M/812M [00:03<00:00, 252MB/s]\n"
          ]
        }
      ]
    },
    {
      "cell_type": "code",
      "source": [
        "!unzip -qq dogs-vs-cats.zip\n",
        "!unzip -qq train.zip"
      ],
      "metadata": {
        "id": "8k4qBpnIDtBy"
      },
      "execution_count": 4,
      "outputs": []
    },
    {
      "cell_type": "code",
      "source": [
        "import os, shutil, pathlib\n",
        "\n",
        "o_dir = pathlib.Path(\"train\")\n",
        "n_dir = pathlib.Path(\"dogs_vs_cats_small\")\n",
        "\n",
        "def make_subset(name:str, start:int, end:int):\n",
        "    for category in (\"cat\", \"dog\"):\n",
        "        dir = n_dir / name / category\n",
        "        os.makedirs(dir)\n",
        "\n",
        "        fnames = [f\"{category}.{i}.jpg\" for i in range(start, end)]\n",
        "\n",
        "        for fname in fnames:\n",
        "            shutil.copyfile(src=o_dir / fname, dst=dir / fname)"
      ],
      "metadata": {
        "id": "9qbRWDTsDxpE"
      },
      "execution_count": 6,
      "outputs": []
    },
    {
      "cell_type": "code",
      "source": [
        "make_subset(\"train\", start=0, end=1_000)\n",
        "make_subset(\"validation\", start=1_000, end=1_500)\n",
        "make_subset(\"test\", start=1_500, end=2_500)"
      ],
      "metadata": {
        "id": "N-LgT4CPEykW"
      },
      "execution_count": 9,
      "outputs": []
    },
    {
      "cell_type": "code",
      "source": [
        "from tensorflow.keras.utils import image_dataset_from_directory\n",
        "\n",
        "train_data = image_dataset_from_directory(\n",
        "    n_dir / \"train\",\n",
        "    batch_size=32,\n",
        "    image_size=(180, 180)\n",
        ")\n",
        "\n",
        "val_data = image_dataset_from_directory(\n",
        "    n_dir / \"validation\",\n",
        "    batch_size=32,\n",
        "    image_size=(180, 180)\n",
        ")\n",
        "\n",
        "test_data = image_dataset_from_directory(\n",
        "    n_dir / \"test\",\n",
        "    batch_size=32,\n",
        "    image_size=(180, 180)\n",
        ")"
      ],
      "metadata": {
        "colab": {
          "base_uri": "https://localhost:8080/"
        },
        "id": "660NYHgtFFbk",
        "outputId": "d2fa6ba6-e1c6-4959-9a0f-f51c07f533c6"
      },
      "execution_count": 10,
      "outputs": [
        {
          "output_type": "stream",
          "name": "stdout",
          "text": [
            "Found 2000 files belonging to 2 classes.\n",
            "Found 1000 files belonging to 2 classes.\n",
            "Found 2000 files belonging to 2 classes.\n"
          ]
        }
      ]
    },
    {
      "cell_type": "code",
      "source": [
        "from tensorflow.keras.models import Sequential\n",
        "from tensorflow.keras.layers import RandomFlip, RandomRotation, RandomZoom\n",
        "\n",
        "augmentation = Sequential([\n",
        "    RandomFlip(\"horizontal\"),\n",
        "    RandomRotation(0.1),\n",
        "    RandomZoom(0.2)\n",
        "])"
      ],
      "metadata": {
        "id": "staGo-8RF5qZ"
      },
      "execution_count": 11,
      "outputs": []
    },
    {
      "cell_type": "code",
      "source": [
        "from tensorflow.keras.applications import vgg16\n",
        "\n",
        "conv_base = vgg16.VGG16(\n",
        "    include_top=False,\n",
        "    weights=\"imagenet\"\n",
        ")\n",
        "\n",
        "conv_base.trainable = True"
      ],
      "metadata": {
        "colab": {
          "base_uri": "https://localhost:8080/"
        },
        "id": "ZkOlQ8zpGaB6",
        "outputId": "2800ceb3-f957-46d0-de3a-f6dc2f6c7788"
      },
      "execution_count": 12,
      "outputs": [
        {
          "output_type": "stream",
          "name": "stdout",
          "text": [
            "Downloading data from https://storage.googleapis.com/tensorflow/keras-applications/vgg16/vgg16_weights_tf_dim_ordering_tf_kernels_notop.h5\n",
            "58892288/58889256 [==============================] - 0s 0us/step\n",
            "58900480/58889256 [==============================] - 0s 0us/step\n"
          ]
        }
      ]
    },
    {
      "cell_type": "code",
      "source": [
        "for layer in conv_base.layers[:-4]:\n",
        "    layer.trainable = False"
      ],
      "metadata": {
        "id": "UqjJQGG_G_9t"
      },
      "execution_count": 13,
      "outputs": []
    },
    {
      "cell_type": "code",
      "source": [
        "from tensorflow.keras.models import Model\n",
        "from tensorflow.keras.layers import Input, Dense, Dropout, Flatten\n",
        "from tensorflow.keras.optimizers import RMSprop\n",
        "\n",
        "inputs = Input(shape=(180, 180, 3))\n",
        "x = augmentation(inputs)\n",
        "x = vgg16.preprocess_input(x)\n",
        "x = conv_base(x)\n",
        "x = Flatten()(x)\n",
        "x = Dense(256, activation=\"relu\")(x)\n",
        "x = Dropout(0.5)(x)\n",
        "outputs = Dense(1, activation=\"sigmoid\")(x)\n",
        "\n",
        "model = Model(inputs=inputs, outputs=outputs)\n",
        "\n",
        "model.compile(optimizer=RMSprop(learning_rate=1e-5),\n",
        "              loss=\"binary_crossentropy\",\n",
        "              metrics=[\"accuracy\"])"
      ],
      "metadata": {
        "id": "TrmpYJ9HHJyv"
      },
      "execution_count": 14,
      "outputs": []
    },
    {
      "cell_type": "code",
      "source": [
        "from tensorflow.keras.callbacks import ModelCheckpoint\n",
        "\n",
        "MODEL_PATH = \"test_model\"\n",
        "\n",
        "callbacks = [\n",
        "    ModelCheckpoint(\n",
        "        filepath=MODEL_PATH,\n",
        "        monitor=\"val_loss\",\n",
        "        save_best_only=True\n",
        "    )\n",
        "]"
      ],
      "metadata": {
        "id": "zXgfRxVfI7SM"
      },
      "execution_count": 15,
      "outputs": []
    },
    {
      "cell_type": "code",
      "source": [
        "model.fit(train_data,\n",
        "          epochs=30,\n",
        "          validation_data=val_data,\n",
        "          callbacks=callbacks)"
      ],
      "metadata": {
        "colab": {
          "base_uri": "https://localhost:8080/"
        },
        "id": "q2HtNUSlI1ze",
        "outputId": "8291086e-49b5-44ba-9276-21ec0541501d"
      },
      "execution_count": 16,
      "outputs": [
        {
          "output_type": "stream",
          "name": "stdout",
          "text": [
            "Epoch 1/30\n",
            "63/63 [==============================] - ETA: 0s - loss: 2.9973 - accuracy: 0.7110INFO:tensorflow:Assets written to: test_model/assets\n",
            "63/63 [==============================] - 33s 280ms/step - loss: 2.9973 - accuracy: 0.7110 - val_loss: 0.5393 - val_accuracy: 0.9060\n",
            "Epoch 2/30\n",
            "63/63 [==============================] - ETA: 0s - loss: 0.9627 - accuracy: 0.8220INFO:tensorflow:Assets written to: test_model/assets\n",
            "63/63 [==============================] - 16s 248ms/step - loss: 0.9627 - accuracy: 0.8220 - val_loss: 0.2631 - val_accuracy: 0.9450\n",
            "Epoch 3/30\n",
            "63/63 [==============================] - ETA: 0s - loss: 0.5492 - accuracy: 0.8685INFO:tensorflow:Assets written to: test_model/assets\n",
            "63/63 [==============================] - 16s 253ms/step - loss: 0.5492 - accuracy: 0.8685 - val_loss: 0.1984 - val_accuracy: 0.9560\n",
            "Epoch 4/30\n",
            "63/63 [==============================] - ETA: 0s - loss: 0.3429 - accuracy: 0.9060INFO:tensorflow:Assets written to: test_model/assets\n",
            "63/63 [==============================] - 16s 256ms/step - loss: 0.3429 - accuracy: 0.9060 - val_loss: 0.1438 - val_accuracy: 0.9630\n",
            "Epoch 5/30\n",
            "63/63 [==============================] - ETA: 0s - loss: 0.2459 - accuracy: 0.9225INFO:tensorflow:Assets written to: test_model/assets\n",
            "63/63 [==============================] - 16s 250ms/step - loss: 0.2459 - accuracy: 0.9225 - val_loss: 0.1135 - val_accuracy: 0.9660\n",
            "Epoch 6/30\n",
            "63/63 [==============================] - ETA: 0s - loss: 0.1735 - accuracy: 0.9445INFO:tensorflow:Assets written to: test_model/assets\n",
            "63/63 [==============================] - 16s 253ms/step - loss: 0.1735 - accuracy: 0.9445 - val_loss: 0.1126 - val_accuracy: 0.9710\n",
            "Epoch 7/30\n",
            "63/63 [==============================] - 13s 194ms/step - loss: 0.1855 - accuracy: 0.9425 - val_loss: 0.1156 - val_accuracy: 0.9740\n",
            "Epoch 8/30\n",
            "63/63 [==============================] - ETA: 0s - loss: 0.1547 - accuracy: 0.9520INFO:tensorflow:Assets written to: test_model/assets\n",
            "63/63 [==============================] - 16s 253ms/step - loss: 0.1547 - accuracy: 0.9520 - val_loss: 0.1082 - val_accuracy: 0.9720\n",
            "Epoch 9/30\n",
            "63/63 [==============================] - ETA: 0s - loss: 0.1710 - accuracy: 0.9480INFO:tensorflow:Assets written to: test_model/assets\n",
            "63/63 [==============================] - 16s 256ms/step - loss: 0.1710 - accuracy: 0.9480 - val_loss: 0.0948 - val_accuracy: 0.9760\n",
            "Epoch 10/30\n",
            "63/63 [==============================] - 13s 195ms/step - loss: 0.1186 - accuracy: 0.9605 - val_loss: 0.1118 - val_accuracy: 0.9740\n",
            "Epoch 11/30\n",
            "63/63 [==============================] - 13s 194ms/step - loss: 0.0965 - accuracy: 0.9660 - val_loss: 0.1053 - val_accuracy: 0.9750\n",
            "Epoch 12/30\n",
            "63/63 [==============================] - 13s 196ms/step - loss: 0.0767 - accuracy: 0.9680 - val_loss: 0.0968 - val_accuracy: 0.9760\n",
            "Epoch 13/30\n",
            "63/63 [==============================] - ETA: 0s - loss: 0.0963 - accuracy: 0.9690INFO:tensorflow:Assets written to: test_model/assets\n",
            "63/63 [==============================] - 16s 250ms/step - loss: 0.0963 - accuracy: 0.9690 - val_loss: 0.0862 - val_accuracy: 0.9780\n",
            "Epoch 14/30\n",
            "63/63 [==============================] - ETA: 0s - loss: 0.0772 - accuracy: 0.9730INFO:tensorflow:Assets written to: test_model/assets\n",
            "63/63 [==============================] - 16s 254ms/step - loss: 0.0772 - accuracy: 0.9730 - val_loss: 0.0843 - val_accuracy: 0.9770\n",
            "Epoch 15/30\n",
            "63/63 [==============================] - 13s 196ms/step - loss: 0.0653 - accuracy: 0.9755 - val_loss: 0.0993 - val_accuracy: 0.9750\n",
            "Epoch 16/30\n",
            "63/63 [==============================] - 13s 197ms/step - loss: 0.0752 - accuracy: 0.9725 - val_loss: 0.0854 - val_accuracy: 0.9760\n",
            "Epoch 17/30\n",
            "63/63 [==============================] - ETA: 0s - loss: 0.0704 - accuracy: 0.9740INFO:tensorflow:Assets written to: test_model/assets\n",
            "63/63 [==============================] - 16s 254ms/step - loss: 0.0704 - accuracy: 0.9740 - val_loss: 0.0810 - val_accuracy: 0.9800\n",
            "Epoch 18/30\n",
            "63/63 [==============================] - 12s 194ms/step - loss: 0.0485 - accuracy: 0.9825 - val_loss: 0.1077 - val_accuracy: 0.9750\n",
            "Epoch 19/30\n",
            "63/63 [==============================] - 13s 197ms/step - loss: 0.0470 - accuracy: 0.9840 - val_loss: 0.1042 - val_accuracy: 0.9770\n",
            "Epoch 20/30\n",
            "63/63 [==============================] - 13s 195ms/step - loss: 0.0608 - accuracy: 0.9840 - val_loss: 0.0909 - val_accuracy: 0.9800\n",
            "Epoch 21/30\n",
            "63/63 [==============================] - 13s 197ms/step - loss: 0.0622 - accuracy: 0.9845 - val_loss: 0.0891 - val_accuracy: 0.9800\n",
            "Epoch 22/30\n",
            "63/63 [==============================] - 13s 196ms/step - loss: 0.0351 - accuracy: 0.9890 - val_loss: 0.0967 - val_accuracy: 0.9790\n",
            "Epoch 23/30\n",
            "63/63 [==============================] - 13s 196ms/step - loss: 0.0460 - accuracy: 0.9885 - val_loss: 0.0933 - val_accuracy: 0.9780\n",
            "Epoch 24/30\n",
            "63/63 [==============================] - 13s 196ms/step - loss: 0.0271 - accuracy: 0.9890 - val_loss: 0.1113 - val_accuracy: 0.9780\n",
            "Epoch 25/30\n",
            "63/63 [==============================] - 13s 197ms/step - loss: 0.0430 - accuracy: 0.9865 - val_loss: 0.1540 - val_accuracy: 0.9730\n",
            "Epoch 26/30\n",
            "63/63 [==============================] - 13s 198ms/step - loss: 0.0250 - accuracy: 0.9925 - val_loss: 0.1063 - val_accuracy: 0.9790\n",
            "Epoch 27/30\n",
            "63/63 [==============================] - 13s 198ms/step - loss: 0.0291 - accuracy: 0.9915 - val_loss: 0.0952 - val_accuracy: 0.9810\n",
            "Epoch 28/30\n",
            "63/63 [==============================] - 13s 197ms/step - loss: 0.0236 - accuracy: 0.9915 - val_loss: 0.1158 - val_accuracy: 0.9770\n",
            "Epoch 29/30\n",
            "63/63 [==============================] - 13s 198ms/step - loss: 0.0214 - accuracy: 0.9935 - val_loss: 0.1355 - val_accuracy: 0.9770\n",
            "Epoch 30/30\n",
            "63/63 [==============================] - 13s 195ms/step - loss: 0.0266 - accuracy: 0.9935 - val_loss: 0.1224 - val_accuracy: 0.9780\n"
          ]
        },
        {
          "output_type": "execute_result",
          "data": {
            "text/plain": [
              "<keras.callbacks.History at 0x7f6d560447d0>"
            ]
          },
          "metadata": {},
          "execution_count": 16
        }
      ]
    },
    {
      "cell_type": "code",
      "source": [
        "from tensorflow.keras.models import load_model\n",
        "\n",
        "test_model = load_model(MODEL_PATH)\n",
        "test_loss, test_acc = test_model.evaluate(test_data)\n",
        "\n",
        "print(f\"Test accuracy: {test_acc}\")"
      ],
      "metadata": {
        "colab": {
          "base_uri": "https://localhost:8080/"
        },
        "id": "7DIFWF9JJ1zz",
        "outputId": "a716f0db-c9cb-4c96-aca4-4ed60a7fc18d"
      },
      "execution_count": 17,
      "outputs": [
        {
          "output_type": "stream",
          "name": "stdout",
          "text": [
            "63/63 [==============================] - 8s 111ms/step - loss: 0.1208 - accuracy: 0.9755\n",
            "Test accuracy: 0.9754999876022339\n"
          ]
        }
      ]
    },
    {
      "cell_type": "code",
      "source": [
        ""
      ],
      "metadata": {
        "id": "Mn6L6u5uMRji"
      },
      "execution_count": null,
      "outputs": []
    }
  ]
}
{
  "nbformat": 4,
  "nbformat_minor": 0,
  "metadata": {
    "colab": {
      "name": "building_models.ipynb",
      "provenance": [],
      "authorship_tag": "ABX9TyO5X6EuUk1z4koUUbtaY0ZR"
    },
    "kernelspec": {
      "name": "python3",
      "display_name": "Python 3"
    },
    "language_info": {
      "name": "python"
    }
  },
  "cells": [
    {
      "cell_type": "markdown",
      "source": [
        "# Sequential API\n",
        "-> Novice users, simple models"
      ],
      "metadata": {
        "id": "uq7oQseTghtH"
      }
    },
    {
      "cell_type": "code",
      "execution_count": 10,
      "metadata": {
        "id": "xiKfxlMAgePJ"
      },
      "outputs": [],
      "source": [
        "from tensorflow.keras.models import Sequential\n",
        "from tensorflow.keras.layers import Dense\n",
        "\n",
        "model = Sequential(name=\"my_sequential_model\", \n",
        "                   layers=[\n",
        "                    Dense(10, activation=\"relu\"),\n",
        "                    Dense(4, activation=\"softmax\")\n",
        "                   ])"
      ]
    },
    {
      "cell_type": "code",
      "source": [
        "model.build(input_shape=(None, 3)) # None is batch, 3 for sample structure"
      ],
      "metadata": {
        "id": "A1yfif3HhVGO"
      },
      "execution_count": 11,
      "outputs": []
    },
    {
      "cell_type": "code",
      "source": [
        "model.weights"
      ],
      "metadata": {
        "colab": {
          "base_uri": "https://localhost:8080/"
        },
        "id": "DewpiLX_hqSE",
        "outputId": "fb8806e2-c884-4736-cc6e-83d8f7288d4f"
      },
      "execution_count": 12,
      "outputs": [
        {
          "output_type": "execute_result",
          "data": {
            "text/plain": [
              "[<tf.Variable 'dense_4/kernel:0' shape=(3, 10) dtype=float32, numpy=\n",
              " array([[-0.12625742,  0.45481718, -0.04898793, -0.297167  ,  0.66289353,\n",
              "          0.12342644,  0.63490987,  0.34013224, -0.49249947, -0.00198692],\n",
              "        [-0.5219153 , -0.26929086,  0.56462026, -0.14933848,  0.38942194,\n",
              "         -0.25530025,  0.07172072, -0.59238225,  0.5508331 ,  0.40411794],\n",
              "        [ 0.4432161 , -0.5854422 , -0.1590389 ,  0.6684388 , -0.11587328,\n",
              "         -0.02307719,  0.01106441, -0.15204537,  0.41666007, -0.22363168]],\n",
              "       dtype=float32)>,\n",
              " <tf.Variable 'dense_4/bias:0' shape=(10,) dtype=float32, numpy=array([0., 0., 0., 0., 0., 0., 0., 0., 0., 0.], dtype=float32)>,\n",
              " <tf.Variable 'dense_5/kernel:0' shape=(10, 4) dtype=float32, numpy=\n",
              " array([[ 0.18263185,  0.2416696 , -0.51335126, -0.5152728 ],\n",
              "        [ 0.28773034,  0.3543898 , -0.5303979 , -0.10220784],\n",
              "        [ 0.24348307,  0.43359733,  0.47372222,  0.0151037 ],\n",
              "        [ 0.25245214,  0.02001357,  0.13957131,  0.10173243],\n",
              "        [-0.19261438,  0.29266733,  0.47962332,  0.41955984],\n",
              "        [ 0.42573476, -0.59765655,  0.32457936,  0.13981307],\n",
              "        [ 0.46233582,  0.47192335,  0.5946084 ,  0.5392233 ],\n",
              "        [-0.51806164, -0.5799836 ,  0.55617714, -0.14105934],\n",
              "        [ 0.17628759, -0.07806998, -0.3952676 ,  0.22969592],\n",
              "        [-0.32572326,  0.40421402, -0.5420263 , -0.37495655]],\n",
              "       dtype=float32)>,\n",
              " <tf.Variable 'dense_5/bias:0' shape=(4,) dtype=float32, numpy=array([0., 0., 0., 0.], dtype=float32)>]"
            ]
          },
          "metadata": {},
          "execution_count": 12
        }
      ]
    },
    {
      "cell_type": "code",
      "source": [
        "model.summary()"
      ],
      "metadata": {
        "colab": {
          "base_uri": "https://localhost:8080/"
        },
        "id": "LREDdqs3iDe6",
        "outputId": "2a9765ca-9c36-4d25-ce20-2e668505c7e1"
      },
      "execution_count": 13,
      "outputs": [
        {
          "output_type": "stream",
          "name": "stdout",
          "text": [
            "Model: \"my_sequential_model\"\n",
            "_________________________________________________________________\n",
            " Layer (type)                Output Shape              Param #   \n",
            "=================================================================\n",
            " dense_4 (Dense)             (None, 10)                40        \n",
            "                                                                 \n",
            " dense_5 (Dense)             (None, 4)                 44        \n",
            "                                                                 \n",
            "=================================================================\n",
            "Total params: 84\n",
            "Trainable params: 84\n",
            "Non-trainable params: 0\n",
            "_________________________________________________________________\n"
          ]
        }
      ]
    },
    {
      "cell_type": "markdown",
      "source": [
        "# Functional API\n",
        "-> Engineers with standard use cases <br>\n",
        "-> can be extended with costum layers, metrics, losses... for niche use cases <br>\n",
        "-> **multiple inputs and outputs possible**"
      ],
      "metadata": {
        "id": "cpuew6AvimhP"
      }
    },
    {
      "cell_type": "code",
      "source": [
        "from tensorflow.keras.models import Model\n",
        "from tensorflow.keras.layers import Input\n",
        "\n",
        "input = Input(shape=(3,), name=\"my_standard_input\")\n",
        "features = Dense(5, activation=\"relu\", name=\"my_hidden_layer\")(input)\n",
        "output = Dense(3, activation=\"softmax\", name=\"my_output\")(features)\n",
        "\n",
        "model = Model(inputs=input, outputs=output, name=\"my_simple_functional_model\")"
      ],
      "metadata": {
        "id": "4C1vO8iZiTgc"
      },
      "execution_count": 14,
      "outputs": []
    },
    {
      "cell_type": "code",
      "source": [
        "model.summary()"
      ],
      "metadata": {
        "colab": {
          "base_uri": "https://localhost:8080/"
        },
        "id": "BooHnzvkk133",
        "outputId": "f7a3f3a9-ee6b-4a8b-f1a5-9f62baa10536"
      },
      "execution_count": 15,
      "outputs": [
        {
          "output_type": "stream",
          "name": "stdout",
          "text": [
            "Model: \"my_simple_functional_model\"\n",
            "_________________________________________________________________\n",
            " Layer (type)                Output Shape              Param #   \n",
            "=================================================================\n",
            " my_standard_input (InputLay  [(None, 3)]              0         \n",
            " er)                                                             \n",
            "                                                                 \n",
            " my_hidden_layer (Dense)     (None, 5)                 20        \n",
            "                                                                 \n",
            " my_output (Dense)           (None, 3)                 18        \n",
            "                                                                 \n",
            "=================================================================\n",
            "Total params: 38\n",
            "Trainable params: 38\n",
            "Non-trainable params: 0\n",
            "_________________________________________________________________\n"
          ]
        }
      ]
    },
    {
      "cell_type": "code",
      "source": [
        "# layer shapes\n",
        "print(f\"input: {input.shape}\")\n",
        "print(f\"hidden: {features.shape}\")\n",
        "print(f\"output: {output.shape}\")"
      ],
      "metadata": {
        "colab": {
          "base_uri": "https://localhost:8080/"
        },
        "id": "sE2Cf2Dbk3Dn",
        "outputId": "3666deab-f80e-4265-fa5e-0bba05d53b88"
      },
      "execution_count": 16,
      "outputs": [
        {
          "output_type": "stream",
          "name": "stdout",
          "text": [
            "input: (None, 3)\n",
            "hidden: (None, 5)\n",
            "output: (None, 3)\n"
          ]
        }
      ]
    },
    {
      "cell_type": "markdown",
      "source": [
        "## multi-input, multi-output models"
      ],
      "metadata": {
        "id": "1_RweZ3BlRlB"
      }
    },
    {
      "cell_type": "code",
      "source": [
        "from tensorflow.keras.layers import Concatenate\n",
        "\n",
        "vocabulary_size= 10_000\n",
        "num_tags = 100\n",
        "num_departments = 4\n",
        "\n",
        "# inputs\n",
        "title = Input(shape=(vocabulary_size,), name=\"title\")\n",
        "text_body = Input(shape=(vocabulary_size,), name=\"text_body\")\n",
        "tags = Input(shape=(num_tags,), name=\"tags\")\n",
        "\n",
        "# hidden\n",
        "features = Concatenate(name=\"concat_input\")([title, text_body, tags])\n",
        "features = Dense(64, activation=\"relu\", name=\"hidden\")(features)\n",
        "\n",
        "# outputs\n",
        "priority = Dense(1, activation=\"sigmoid\", name=\"priority\")(features)\n",
        "department = Dense(num_departments, activation=\"softmax\", name=\"department\")(features)\n",
        "\n",
        "model = Model(inputs=[title, text_body, tags], outputs=[priority, department], name=\"my_multi_input-output_model\")\n",
        "\n",
        "model.summary()"
      ],
      "metadata": {
        "colab": {
          "base_uri": "https://localhost:8080/"
        },
        "id": "BxnBANZklF9o",
        "outputId": "5f7e4253-2670-4182-d943-0b3e37d1a9d8"
      },
      "execution_count": 17,
      "outputs": [
        {
          "output_type": "stream",
          "name": "stdout",
          "text": [
            "Model: \"my_multi_input-output_model\"\n",
            "__________________________________________________________________________________________________\n",
            " Layer (type)                   Output Shape         Param #     Connected to                     \n",
            "==================================================================================================\n",
            " title (InputLayer)             [(None, 10000)]      0           []                               \n",
            "                                                                                                  \n",
            " text_body (InputLayer)         [(None, 10000)]      0           []                               \n",
            "                                                                                                  \n",
            " tags (InputLayer)              [(None, 100)]        0           []                               \n",
            "                                                                                                  \n",
            " concat_input (Concatenate)     (None, 20100)        0           ['title[0][0]',                  \n",
            "                                                                  'text_body[0][0]',              \n",
            "                                                                  'tags[0][0]']                   \n",
            "                                                                                                  \n",
            " hidden (Dense)                 (None, 64)           1286464     ['concat_input[0][0]']           \n",
            "                                                                                                  \n",
            " priority (Dense)               (None, 1)            65          ['hidden[0][0]']                 \n",
            "                                                                                                  \n",
            " department (Dense)             (None, 4)            260         ['hidden[0][0]']                 \n",
            "                                                                                                  \n",
            "==================================================================================================\n",
            "Total params: 1,286,789\n",
            "Trainable params: 1,286,789\n",
            "Non-trainable params: 0\n",
            "__________________________________________________________________________________________________\n"
          ]
        }
      ]
    },
    {
      "cell_type": "markdown",
      "source": [
        "### fit a multi-input /multi-output model"
      ],
      "metadata": {
        "id": "jnIMFdA4pRj_"
      }
    },
    {
      "cell_type": "code",
      "source": [
        "# creating random data\n",
        "import numpy as np\n",
        "\n",
        "num_samples = 1280\n",
        "\n",
        "# input data -> X\n",
        "title_data = np.random.randint(0, 2, size=(num_samples, vocabulary_size)) # size (batch, data-shape)\n",
        "text_body_data = np.random.randint(0, 2, size=(num_samples, vocabulary_size))\n",
        "tags_data = np.random.randint(0, 2, size=(num_samples, num_tags))\n",
        "\n",
        "# targets -> y\n",
        "priority_targets = np.random.random(size=(num_samples,1))\n",
        "department_targets = np.random.random(size=(num_samples, num_departments))"
      ],
      "metadata": {
        "id": "_7gohP5UpDsy"
      },
      "execution_count": 18,
      "outputs": []
    },
    {
      "cell_type": "code",
      "source": [
        "# compile model\n",
        "model.compile(optimizer=\"rmsprop\",\n",
        "              loss={\"priority\": \"mean_squared_error\",\n",
        "                    \"department\": \"categorical_crossentropy\"},\n",
        "              metrics={\"priority\": [\"mean_absolute_error\"],\n",
        "                       \"department\": [\"accuracy\"]})"
      ],
      "metadata": {
        "id": "BSq6OLzkrDRg"
      },
      "execution_count": 21,
      "outputs": []
    },
    {
      "cell_type": "code",
      "source": [
        "# fit the model\n",
        "model.fit(x={\"title\": title_data, \"text_body\": text_body_data, \"tags\": tags_data},\n",
        "          y={\"priority\": priority_targets, \"department\": department_targets},\n",
        "          epochs=1)"
      ],
      "metadata": {
        "colab": {
          "base_uri": "https://localhost:8080/"
        },
        "id": "LyYKTlAqr5VA",
        "outputId": "30046986-d804-469c-85e8-b5826413dfdc"
      },
      "execution_count": 22,
      "outputs": [
        {
          "output_type": "stream",
          "name": "stdout",
          "text": [
            "40/40 [==============================] - 2s 20ms/step - loss: 34.4405 - priority_loss: 0.3262 - department_loss: 34.1143 - priority_mean_absolute_error: 0.4904 - department_accuracy: 0.2680\n"
          ]
        },
        {
          "output_type": "execute_result",
          "data": {
            "text/plain": [
              "<keras.callbacks.History at 0x7f12657997d0>"
            ]
          },
          "metadata": {},
          "execution_count": 22
        }
      ]
    },
    {
      "cell_type": "code",
      "source": [
        "# evaluate the model\n",
        "model.evaluate(x={\"title\": title_data, \"text_body\": text_body_data, \"tags\": tags_data},\n",
        "               y={\"priority\": priority_targets, \"department\": department_targets})"
      ],
      "metadata": {
        "colab": {
          "base_uri": "https://localhost:8080/"
        },
        "id": "KwrJ6gOlsfcj",
        "outputId": "7bb783ce-fddc-4eff-d9ec-d911fd96accf"
      },
      "execution_count": 23,
      "outputs": [
        {
          "output_type": "stream",
          "name": "stdout",
          "text": [
            "40/40 [==============================] - 1s 10ms/step - loss: 21.4643 - priority_loss: 0.3364 - department_loss: 21.1279 - priority_mean_absolute_error: 0.5010 - department_accuracy: 0.2562\n"
          ]
        },
        {
          "output_type": "execute_result",
          "data": {
            "text/plain": [
              "[21.464317321777344,\n",
              " 0.3363862633705139,\n",
              " 21.1279296875,\n",
              " 0.5010488629341125,\n",
              " 0.2562499940395355]"
            ]
          },
          "metadata": {},
          "execution_count": 23
        }
      ]
    },
    {
      "cell_type": "code",
      "source": [
        "# predict with model\n",
        "priority_preds, deparment_preds = model.predict({\"title\": title_data, \"text_body\": text_body_data, \"tags\": tags_data})"
      ],
      "metadata": {
        "id": "KEbyXOA_tOVx"
      },
      "execution_count": 25,
      "outputs": []
    },
    {
      "cell_type": "code",
      "source": [
        ""
      ],
      "metadata": {
        "id": "UwWRRr2ltlsT"
      },
      "execution_count": null,
      "outputs": []
    }
  ]
}
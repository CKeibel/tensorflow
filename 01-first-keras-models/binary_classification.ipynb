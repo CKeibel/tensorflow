{
  "nbformat": 4,
  "nbformat_minor": 0,
  "metadata": {
    "colab": {
      "name": "binary_classification.ipynb",
      "provenance": [],
      "collapsed_sections": [],
      "authorship_tag": "ABX9TyM1hfeW2Xz49FvxRXnPB/sv"
    },
    "kernelspec": {
      "name": "python3",
      "display_name": "Python 3"
    },
    "language_info": {
      "name": "python"
    },
    "accelerator": "GPU"
  },
  "cells": [
    {
      "cell_type": "code",
      "execution_count": 1,
      "metadata": {
        "colab": {
          "base_uri": "https://localhost:8080/"
        },
        "id": "tQ_fe7ahIPPM",
        "outputId": "72af86aa-c1f7-4bff-a56a-9fe85b7b2378"
      },
      "outputs": [
        {
          "output_type": "stream",
          "name": "stdout",
          "text": [
            "Downloading data from https://storage.googleapis.com/tensorflow/tf-keras-datasets/imdb.npz\n",
            "17465344/17464789 [==============================] - 0s 0us/step\n",
            "17473536/17464789 [==============================] - 0s 0us/step\n"
          ]
        }
      ],
      "source": [
        "# Loading already preprocessed data from keras datasets\n",
        "from tensorflow.keras.datasets import imdb\n",
        "(x_train, y_train), (x_test, y_test) = imdb.load_data(num_words=10_000) # num words keeps only the X most frequently occurring words"
      ]
    },
    {
      "cell_type": "code",
      "source": [
        "print(f\"train shape: {x_train.shape}\\nfirst datapoint: {x_train[0]}\")"
      ],
      "metadata": {
        "colab": {
          "base_uri": "https://localhost:8080/"
        },
        "id": "aB-37iFfIx2Z",
        "outputId": "1cffbfe1-c0cf-4fa4-dc7d-a80469865d29"
      },
      "execution_count": 3,
      "outputs": [
        {
          "output_type": "stream",
          "name": "stdout",
          "text": [
            "train shape: (25000,)\n",
            "first datapoint: [1, 14, 22, 16, 43, 530, 973, 1622, 1385, 65, 458, 4468, 66, 3941, 4, 173, 36, 256, 5, 25, 100, 43, 838, 112, 50, 670, 2, 9, 35, 480, 284, 5, 150, 4, 172, 112, 167, 2, 336, 385, 39, 4, 172, 4536, 1111, 17, 546, 38, 13, 447, 4, 192, 50, 16, 6, 147, 2025, 19, 14, 22, 4, 1920, 4613, 469, 4, 22, 71, 87, 12, 16, 43, 530, 38, 76, 15, 13, 1247, 4, 22, 17, 515, 17, 12, 16, 626, 18, 2, 5, 62, 386, 12, 8, 316, 8, 106, 5, 4, 2223, 5244, 16, 480, 66, 3785, 33, 4, 130, 12, 16, 38, 619, 5, 25, 124, 51, 36, 135, 48, 25, 1415, 33, 6, 22, 12, 215, 28, 77, 52, 5, 14, 407, 16, 82, 2, 8, 4, 107, 117, 5952, 15, 256, 4, 2, 7, 3766, 5, 723, 36, 71, 43, 530, 476, 26, 400, 317, 46, 7, 4, 2, 1029, 13, 104, 88, 4, 381, 15, 297, 98, 32, 2071, 56, 26, 141, 6, 194, 7486, 18, 4, 226, 22, 21, 134, 476, 26, 480, 5, 144, 30, 5535, 18, 51, 36, 28, 224, 92, 25, 104, 4, 226, 65, 16, 38, 1334, 88, 12, 16, 283, 5, 16, 4472, 113, 103, 32, 15, 16, 5345, 19, 178, 32]\n"
          ]
        }
      ]
    },
    {
      "cell_type": "code",
      "source": [
        "# Multi-hot encode, because of different lenghts of the reviews\n",
        "import numpy as np\n",
        "def vectorize_sequences(sequences, dimensions=10_000):\n",
        "    results = np.zeros(shape=(len(sequences), dimensions))\n",
        "    for i, sequence in enumerate(sequences):\n",
        "        for j in sequence:\n",
        "            results[i, j] = 1. # maps sequence integers into 1 on integer index (j) in sequence i\n",
        "    return results"
      ],
      "metadata": {
        "id": "ikri9qxcJlTu"
      },
      "execution_count": 4,
      "outputs": []
    },
    {
      "cell_type": "code",
      "source": [
        "x_train = vectorize_sequences(x_train)\n",
        "x_test = vectorize_sequences(x_test)\n",
        "\n",
        "print(f\"first datapoint; {x_train[0]}\")"
      ],
      "metadata": {
        "colab": {
          "base_uri": "https://localhost:8080/"
        },
        "id": "ty1wU5PhLNEQ",
        "outputId": "d544b711-4fe1-44c4-a68a-e502d38e6467"
      },
      "execution_count": 5,
      "outputs": [
        {
          "output_type": "stream",
          "name": "stdout",
          "text": [
            "first datapoint; [0. 1. 1. ... 0. 0. 0.]\n"
          ]
        }
      ]
    },
    {
      "cell_type": "code",
      "source": [
        "# vectorize labels\n",
        "y_train = np.asarray(y_train).astype(\"float32\")\n",
        "y_test = np.asarray(y_test).astype(\"float32\")"
      ],
      "metadata": {
        "id": "E2X_KlBgLbvz"
      },
      "execution_count": 7,
      "outputs": []
    },
    {
      "cell_type": "code",
      "source": [
        "# building the model\n",
        "from tensorflow.keras.layers import Dense\n",
        "from tensorflow.keras.models import Sequential\n",
        "\n",
        "model = Sequential([\n",
        "    Dense(16, activation=\"relu\"),\n",
        "    Dense(16, activation=\"relu\"),\n",
        "    Dense(1, activation=\"sigmoid\") # binary classification                    \n",
        "])"
      ],
      "metadata": {
        "id": "K-BhZRxTMfIe"
      },
      "execution_count": 9,
      "outputs": []
    },
    {
      "cell_type": "code",
      "source": [
        "model.compile(optimizer=\"rmsprop\",\n",
        "              loss=\"binary_crossentropy\",\n",
        "              metrics=[\"accuracy\"])"
      ],
      "metadata": {
        "id": "vdLSj8KANLHq"
      },
      "execution_count": 10,
      "outputs": []
    },
    {
      "cell_type": "code",
      "source": [
        "# creating an validation set\n",
        "x_val = x_train[:10_000]\n",
        "y_val = y_train[:10_000]\n",
        "\n",
        "# extract them from train data\n",
        "x_train = x_train[10_000:]\n",
        "y_train = y_train[10_000:]"
      ],
      "metadata": {
        "id": "lo8TctDEO-jN"
      },
      "execution_count": 11,
      "outputs": []
    },
    {
      "cell_type": "code",
      "source": [
        "# training\n",
        "history = model.fit(x_train,\n",
        "                    y_train,\n",
        "                    epochs=20,\n",
        "                    batch_size=512,\n",
        "                    validation_data=(x_val, y_val))"
      ],
      "metadata": {
        "colab": {
          "base_uri": "https://localhost:8080/"
        },
        "id": "YshmkcejPq5P",
        "outputId": "edf7ffed-fd79-49a3-ba17-b8d45d30ae6d"
      },
      "execution_count": 12,
      "outputs": [
        {
          "output_type": "stream",
          "name": "stdout",
          "text": [
            "Epoch 1/20\n",
            "30/30 [==============================] - 5s 43ms/step - loss: 0.5236 - accuracy: 0.7937 - val_loss: 0.3957 - val_accuracy: 0.8667\n",
            "Epoch 2/20\n",
            "30/30 [==============================] - 1s 19ms/step - loss: 0.3181 - accuracy: 0.8982 - val_loss: 0.3207 - val_accuracy: 0.8763\n",
            "Epoch 3/20\n",
            "30/30 [==============================] - 1s 21ms/step - loss: 0.2328 - accuracy: 0.9241 - val_loss: 0.2778 - val_accuracy: 0.8903\n",
            "Epoch 4/20\n",
            "30/30 [==============================] - 1s 20ms/step - loss: 0.1821 - accuracy: 0.9401 - val_loss: 0.2724 - val_accuracy: 0.8894\n",
            "Epoch 5/20\n",
            "30/30 [==============================] - 1s 20ms/step - loss: 0.1448 - accuracy: 0.9538 - val_loss: 0.2917 - val_accuracy: 0.8829\n",
            "Epoch 6/20\n",
            "30/30 [==============================] - 1s 20ms/step - loss: 0.1247 - accuracy: 0.9611 - val_loss: 0.2906 - val_accuracy: 0.8866\n",
            "Epoch 7/20\n",
            "30/30 [==============================] - 1s 20ms/step - loss: 0.0997 - accuracy: 0.9699 - val_loss: 0.3055 - val_accuracy: 0.8846\n",
            "Epoch 8/20\n",
            "30/30 [==============================] - 1s 21ms/step - loss: 0.0829 - accuracy: 0.9769 - val_loss: 0.3233 - val_accuracy: 0.8835\n",
            "Epoch 9/20\n",
            "30/30 [==============================] - 1s 20ms/step - loss: 0.0705 - accuracy: 0.9803 - val_loss: 0.3460 - val_accuracy: 0.8802\n",
            "Epoch 10/20\n",
            "30/30 [==============================] - 1s 23ms/step - loss: 0.0548 - accuracy: 0.9865 - val_loss: 0.3893 - val_accuracy: 0.8733\n",
            "Epoch 11/20\n",
            "30/30 [==============================] - 1s 25ms/step - loss: 0.0427 - accuracy: 0.9910 - val_loss: 0.4065 - val_accuracy: 0.8766\n",
            "Epoch 12/20\n",
            "30/30 [==============================] - 1s 24ms/step - loss: 0.0353 - accuracy: 0.9923 - val_loss: 0.4302 - val_accuracy: 0.8747\n",
            "Epoch 13/20\n",
            "30/30 [==============================] - 1s 21ms/step - loss: 0.0275 - accuracy: 0.9953 - val_loss: 0.4757 - val_accuracy: 0.8742\n",
            "Epoch 14/20\n",
            "30/30 [==============================] - 1s 20ms/step - loss: 0.0228 - accuracy: 0.9955 - val_loss: 0.4907 - val_accuracy: 0.8720\n",
            "Epoch 15/20\n",
            "30/30 [==============================] - 1s 20ms/step - loss: 0.0175 - accuracy: 0.9973 - val_loss: 0.5188 - val_accuracy: 0.8739\n",
            "Epoch 16/20\n",
            "30/30 [==============================] - 1s 20ms/step - loss: 0.0122 - accuracy: 0.9991 - val_loss: 0.5581 - val_accuracy: 0.8728\n",
            "Epoch 17/20\n",
            "30/30 [==============================] - 1s 20ms/step - loss: 0.0098 - accuracy: 0.9991 - val_loss: 0.5891 - val_accuracy: 0.8712\n",
            "Epoch 18/20\n",
            "30/30 [==============================] - 1s 20ms/step - loss: 0.0099 - accuracy: 0.9987 - val_loss: 0.6286 - val_accuracy: 0.8673\n",
            "Epoch 19/20\n",
            "30/30 [==============================] - 1s 19ms/step - loss: 0.0043 - accuracy: 0.9998 - val_loss: 0.6595 - val_accuracy: 0.8676\n",
            "Epoch 20/20\n",
            "30/30 [==============================] - 1s 23ms/step - loss: 0.0065 - accuracy: 0.9989 - val_loss: 0.7029 - val_accuracy: 0.8674\n"
          ]
        }
      ]
    },
    {
      "cell_type": "code",
      "source": [
        "history_dict = history.history\n",
        "history_dict.keys()"
      ],
      "metadata": {
        "colab": {
          "base_uri": "https://localhost:8080/"
        },
        "id": "IZdhKCGoP5h_",
        "outputId": "cd007a87-57a6-4d4d-b0de-1d39f903819e"
      },
      "execution_count": 13,
      "outputs": [
        {
          "output_type": "execute_result",
          "data": {
            "text/plain": [
              "dict_keys(['loss', 'accuracy', 'val_loss', 'val_accuracy'])"
            ]
          },
          "metadata": {},
          "execution_count": 13
        }
      ]
    },
    {
      "cell_type": "code",
      "source": [
        "import matplotlib.pyplot as plt\n",
        "\n",
        "loss_values = history_dict[\"loss\"]\n",
        "loss_values_val = history_dict[\"val_loss\"]\n",
        "epochs = range(1, len(loss_values) + 1)\n",
        "\n",
        "plt.plot(epochs, loss_values, \"bo\", label=\"Training loss\") # bo => blue dot\n",
        "plt.plot(epochs, loss_values_val, \"b\", label=\"Validation loss\") # b => solid blue line\n",
        "plt.title(\"Training and validation loss\")\n",
        "plt.xlabel(\"Epochs\")\n",
        "plt.ylabel(\"Loss\")\n",
        "plt.legend()\n",
        "plt.show()"
      ],
      "metadata": {
        "colab": {
          "base_uri": "https://localhost:8080/",
          "height": 295
        },
        "id": "L2uuEN12QcU_",
        "outputId": "22de056b-8534-4efd-d1d6-de0a693e260f"
      },
      "execution_count": 14,
      "outputs": [
        {
          "output_type": "display_data",
          "data": {
            "text/plain": [
              "<Figure size 432x288 with 1 Axes>"
            ],
            "image/png": "[encoded data removed]"
          },
          "metadata": {
            "needs_background": "light"
          }
        }
      ]
    },
    {
      "cell_type": "code",
      "source": [
        "acc_values = history_dict[\"accuracy\"]\n",
        "acc_values_val = history_dict[\"val_accuracy\"]\n",
        "\n",
        "plt.plot(epochs, acc_values, \"bo\", label=\"Training accuracy\")\n",
        "plt.plot(epochs, acc_values_val, \"b\", label=\"Validation accuracy\")\n",
        "plt.xlabel(\"Epochs\")\n",
        "plt.ylabel(\"Accuracy\")\n",
        "plt.title(\"Training and validation accuracy\")\n",
        "plt.legend()\n",
        "plt.show()"
      ],
      "metadata": {
        "colab": {
          "base_uri": "https://localhost:8080/",
          "height": 295
        },
        "id": "lerKWPkFRzaQ",
        "outputId": "37358302-72bf-447f-d725-18a53acf9cc0"
      },
      "execution_count": 16,
      "outputs": [
        {
          "output_type": "display_data",
          "data": {
            "text/plain": [
              "<Figure size 432x288 with 1 Axes>"
            ],
            "image/png": "[encoded data removed]"
          },
          "metadata": {
            "needs_background": "light"
          }
        }
      ]
    },
    {
      "cell_type": "code",
      "source": [
        "# the model is overfitting (after 4 epochs), instead of you using a callack we\n",
        "# train a new model (just for practice)\n",
        "model = Sequential([\n",
        "                    Dense(16, activation=\"relu\"),\n",
        "                    Dense(16, activation=\"relu\"),\n",
        "                    Dense(1, activation=\"sigmoid\")\n",
        "])\n",
        "\n",
        "model.compile(optimizer=\"rmsprop\",\n",
        "              loss=\"binary_crossentropy\",\n",
        "              metrics=[\"accuracy\"])"
      ],
      "metadata": {
        "id": "d8lZVO26SlqP"
      },
      "execution_count": 17,
      "outputs": []
    },
    {
      "cell_type": "code",
      "source": [
        "history = model.fit(x_train,\n",
        "                    y_train,\n",
        "                    epochs=4,\n",
        "                    batch_size=512,\n",
        "                    validation_data=(x_val, y_val))"
      ],
      "metadata": {
        "colab": {
          "base_uri": "https://localhost:8080/"
        },
        "id": "82VriD_BUIdI",
        "outputId": "ae29124d-aac5-40ad-b4ab-125be59263ca"
      },
      "execution_count": 18,
      "outputs": [
        {
          "output_type": "stream",
          "name": "stdout",
          "text": [
            "Epoch 1/4\n",
            "30/30 [==============================] - 1s 32ms/step - loss: 0.5451 - accuracy: 0.7792 - val_loss: 0.4096 - val_accuracy: 0.8712\n",
            "Epoch 2/4\n",
            "30/30 [==============================] - 1s 19ms/step - loss: 0.3288 - accuracy: 0.8986 - val_loss: 0.3176 - val_accuracy: 0.8848\n",
            "Epoch 3/4\n",
            "30/30 [==============================] - 1s 19ms/step - loss: 0.2381 - accuracy: 0.9230 - val_loss: 0.2917 - val_accuracy: 0.8847\n",
            "Epoch 4/4\n",
            "30/30 [==============================] - 1s 19ms/step - loss: 0.1887 - accuracy: 0.9364 - val_loss: 0.2726 - val_accuracy: 0.8913\n"
          ]
        }
      ]
    },
    {
      "cell_type": "code",
      "source": [
        "model.predict(x_test)"
      ],
      "metadata": {
        "colab": {
          "base_uri": "https://localhost:8080/"
        },
        "id": "_-20uKFmUZu_",
        "outputId": "01fc9fbf-d38c-4f0e-c8f4-905fe8b9b375"
      },
      "execution_count": 19,
      "outputs": [
        {
          "output_type": "execute_result",
          "data": {
            "text/plain": [
              "array([[0.25251505],\n",
              "       [0.9976253 ],\n",
              "       [0.9154281 ],\n",
              "       ...,\n",
              "       [0.11241412],\n",
              "       [0.15367842],\n",
              "       [0.5758323 ]], dtype=float32)"
            ]
          },
          "metadata": {},
          "execution_count": 19
        }
      ]
    }
  ]
}
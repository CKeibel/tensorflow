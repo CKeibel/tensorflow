{
  "nbformat": 4,
  "nbformat_minor": 0,
  "metadata": {
    "colab": {
      "name": "LeNet.ipynb",
      "provenance": [],
      "authorship_tag": "ABX9TyPkL+d4uUp/ZPt1t3xJRg02"
    },
    "kernelspec": {
      "name": "python3",
      "display_name": "Python 3"
    },
    "language_info": {
      "name": "python"
    },
    "accelerator": "GPU"
  },
  "cells": [
    {
      "cell_type": "code",
      "execution_count": 1,
      "metadata": {
        "colab": {
          "base_uri": "https://localhost:8080/"
        },
        "id": "t7fC60_wscd7",
        "outputId": "b3a18620-ed30-41bd-fff3-0102c8cef93d"
      },
      "outputs": [
        {
          "output_type": "stream",
          "name": "stdout",
          "text": [
            "Downloading data from https://storage.googleapis.com/tensorflow/tf-keras-datasets/mnist.npz\n",
            "11493376/11490434 [==============================] - 0s 0us/step\n",
            "11501568/11490434 [==============================] - 0s 0us/step\n"
          ]
        }
      ],
      "source": [
        "from tensorflow.keras.datasets.mnist import load_data\n",
        "((x_train, y_train), (x_test, y_test)) = load_data()"
      ]
    },
    {
      "cell_type": "code",
      "source": [
        "import numpy as np\n",
        "x_train = np.expand_dims(x_train, axis=-1)\n",
        "x_test = np.expand_dims(x_test, axis=-1)\n",
        "print(f\"Train: {x_train.shape} \\nTest: {x_test.shape}\")"
      ],
      "metadata": {
        "colab": {
          "base_uri": "https://localhost:8080/"
        },
        "id": "t_o0Cfwasqdj",
        "outputId": "f7323394-9aeb-4403-de2c-faefe331abeb"
      },
      "execution_count": 2,
      "outputs": [
        {
          "output_type": "stream",
          "name": "stdout",
          "text": [
            "Train: (60000, 28, 28, 1) \n",
            "Test: (10000, 28, 28, 1)\n"
          ]
        }
      ]
    },
    {
      "cell_type": "code",
      "source": [
        "from tensorflow.keras.utils import to_categorical\n",
        "y_train = to_categorical(y_train)\n",
        "y_test = to_categorical(y_test)\n",
        "\n",
        "print(f\"Train: {y_train.shape} \\nTest: {y_test.shape}\")"
      ],
      "metadata": {
        "colab": {
          "base_uri": "https://localhost:8080/"
        },
        "id": "Y0EBUoWestgp",
        "outputId": "be0e8b88-bb76-42b1-b16e-71e1930ee45f"
      },
      "execution_count": 3,
      "outputs": [
        {
          "output_type": "stream",
          "name": "stdout",
          "text": [
            "Train: (60000, 10) \n",
            "Test: (10000, 10)\n"
          ]
        }
      ]
    },
    {
      "cell_type": "code",
      "source": [
        "from tensorflow.keras.models import Model\n",
        "from tensorflow.keras.layers import Conv2D, Dense, Flatten, Input, AveragePooling2D\n",
        "\n",
        "# LeNet\n",
        "input = Input(shape=(x_train.shape[1:]))\n",
        "x = Conv2D(filters=6, kernel_size=(5,5), strides=1, activation=\"sigmoid\", padding=\"same\")(input) # C1\n",
        "x = AveragePooling2D()(x) # S2\n",
        "x = Conv2D(filters=16, kernel_size=(5,5), strides=1, padding=\"valid\", activation=\"sigmoid\")(x) # C3\n",
        "x = AveragePooling2D()(x) # S4\n",
        "x = Flatten()(x) # C5\n",
        "x = Dense(units=120, activation=\"sigmoid\")(x)\n",
        "x = Dense(units=84, activation=\"sigmoid\")(x)\n",
        "output = Dense(units=10, activation=\"softmax\")(x)\n",
        "\n",
        "LeNet = Model(inputs=input, outputs=output)\n",
        "LeNet.compile(optimizer=\"SGD\", loss=\"categorical_crossentropy\", metrics=\"accuracy\")"
      ],
      "metadata": {
        "id": "z49gSM4os9Q0"
      },
      "execution_count": 11,
      "outputs": []
    },
    {
      "cell_type": "code",
      "source": [
        "LeNet.fit(x=x_train, y=y_train, epochs=20, batch_size=32)"
      ],
      "metadata": {
        "colab": {
          "base_uri": "https://localhost:8080/"
        },
        "id": "9N-wOYILwkY0",
        "outputId": "1a38bf6a-f158-4c39-cd21-0aadfc44552d"
      },
      "execution_count": 12,
      "outputs": [
        {
          "output_type": "stream",
          "name": "stdout",
          "text": [
            "Epoch 1/20\n",
            "1875/1875 [==============================] - 6s 3ms/step - loss: 2.3019 - accuracy: 0.1169\n",
            "Epoch 2/20\n",
            "1875/1875 [==============================] - 6s 3ms/step - loss: 2.2936 - accuracy: 0.1383\n",
            "Epoch 3/20\n",
            "1875/1875 [==============================] - 6s 3ms/step - loss: 2.2750 - accuracy: 0.1894\n",
            "Epoch 4/20\n",
            "1875/1875 [==============================] - 6s 3ms/step - loss: 2.1988 - accuracy: 0.2925\n",
            "Epoch 5/20\n",
            "1875/1875 [==============================] - 6s 3ms/step - loss: 1.8972 - accuracy: 0.4270\n",
            "Epoch 6/20\n",
            "1875/1875 [==============================] - 6s 3ms/step - loss: 1.4210 - accuracy: 0.6064\n",
            "Epoch 7/20\n",
            "1875/1875 [==============================] - 6s 3ms/step - loss: 0.9849 - accuracy: 0.7274\n",
            "Epoch 8/20\n",
            "1875/1875 [==============================] - 6s 3ms/step - loss: 0.7480 - accuracy: 0.7846\n",
            "Epoch 9/20\n",
            "1875/1875 [==============================] - 5s 3ms/step - loss: 0.6163 - accuracy: 0.8141\n",
            "Epoch 10/20\n",
            "1875/1875 [==============================] - 5s 3ms/step - loss: 0.5292 - accuracy: 0.8365\n",
            "Epoch 11/20\n",
            "1875/1875 [==============================] - 6s 3ms/step - loss: 0.4653 - accuracy: 0.8571\n",
            "Epoch 12/20\n",
            "1875/1875 [==============================] - 6s 3ms/step - loss: 0.4186 - accuracy: 0.8729\n",
            "Epoch 13/20\n",
            "1875/1875 [==============================] - 6s 3ms/step - loss: 0.3822 - accuracy: 0.8863\n",
            "Epoch 14/20\n",
            "1875/1875 [==============================] - 6s 3ms/step - loss: 0.3534 - accuracy: 0.8974\n",
            "Epoch 15/20\n",
            "1875/1875 [==============================] - 6s 3ms/step - loss: 0.3295 - accuracy: 0.9054\n",
            "Epoch 16/20\n",
            "1875/1875 [==============================] - 6s 3ms/step - loss: 0.3084 - accuracy: 0.9121\n",
            "Epoch 17/20\n",
            "1875/1875 [==============================] - 6s 3ms/step - loss: 0.2893 - accuracy: 0.9178\n",
            "Epoch 18/20\n",
            "1875/1875 [==============================] - 6s 3ms/step - loss: 0.2728 - accuracy: 0.9220\n",
            "Epoch 19/20\n",
            "1875/1875 [==============================] - 6s 3ms/step - loss: 0.2570 - accuracy: 0.9261\n",
            "Epoch 20/20\n",
            "1875/1875 [==============================] - 6s 3ms/step - loss: 0.2441 - accuracy: 0.9295\n"
          ]
        },
        {
          "output_type": "execute_result",
          "data": {
            "text/plain": [
              "<keras.callbacks.History at 0x7fb2340eca50>"
            ]
          },
          "metadata": {},
          "execution_count": 12
        }
      ]
    },
    {
      "cell_type": "code",
      "source": [
        "LeNet.evaluate(x=x_test, y=y_test, batch_size=32)"
      ],
      "metadata": {
        "colab": {
          "base_uri": "https://localhost:8080/"
        },
        "id": "c8lTy55Xw1PQ",
        "outputId": "82a9e427-2836-4a14-e1e4-b49c75b0853a"
      },
      "execution_count": 13,
      "outputs": [
        {
          "output_type": "stream",
          "name": "stdout",
          "text": [
            "313/313 [==============================] - 1s 3ms/step - loss: 0.2258 - accuracy: 0.9325\n"
          ]
        },
        {
          "output_type": "execute_result",
          "data": {
            "text/plain": [
              "[0.2258048802614212, 0.9325000047683716]"
            ]
          },
          "metadata": {},
          "execution_count": 13
        }
      ]
    }
  ]
}
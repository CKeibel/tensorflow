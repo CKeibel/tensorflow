{
  "nbformat": 4,
  "nbformat_minor": 0,
  "metadata": {
    "colab": {
      "name": "EXERCISE-Activations_of_MNIST_model.ipynb",
      "provenance": [],
      "collapsed_sections": [],
      "authorship_tag": "ABX9TyO8wvfA64d8CwVWj+AEbO0Z"
    },
    "kernelspec": {
      "name": "python3",
      "display_name": "Python 3"
    },
    "language_info": {
      "name": "python"
    },
    "accelerator": "GPU",
    "gpuClass": "standard"
  },
  "cells": [
    {
      "cell_type": "code",
      "execution_count": 1,
      "metadata": {
        "colab": {
          "base_uri": "https://localhost:8080/"
        },
        "id": "9VkcuTjM68Y0",
        "outputId": "65927f41-7484-4d8e-a67f-4a7403495006"
      },
      "outputs": [
        {
          "output_type": "stream",
          "name": "stdout",
          "text": [
            "Downloading data from https://storage.googleapis.com/tensorflow/tf-keras-datasets/mnist.npz\n",
            "11493376/11490434 [==============================] - 0s 0us/step\n",
            "11501568/11490434 [==============================] - 0s 0us/step\n"
          ]
        }
      ],
      "source": [
        "from tensorflow.keras.datasets import mnist\n",
        "\n",
        "(x_train, y_train), (x_test, y_test) = mnist.load_data()"
      ]
    },
    {
      "cell_type": "code",
      "source": [
        "import numpy as np\n",
        "x_train = x_train.astype(\"float32\") / 255\n",
        "x_test = x_test.astype(\"float32\") / 255\n",
        "print(f\"train: max {np.max(x_train)} - min {np.min(x_train)}\")\n",
        "print(f\"train: max {np.max(x_test)} - min {np.min(x_test)}\")"
      ],
      "metadata": {
        "colab": {
          "base_uri": "https://localhost:8080/"
        },
        "id": "HtmfpkLK7Xoo",
        "outputId": "84c0dc77-ef96-449b-fc37-47c733d1efd8"
      },
      "execution_count": 2,
      "outputs": [
        {
          "output_type": "stream",
          "name": "stdout",
          "text": [
            "train: max 1.0 - min 0.0\n",
            "train: max 1.0 - min 0.0\n"
          ]
        }
      ]
    },
    {
      "cell_type": "code",
      "source": [
        "x_train = np.expand_dims(x_train, -1)\n",
        "x_train.shape"
      ],
      "metadata": {
        "colab": {
          "base_uri": "https://localhost:8080/"
        },
        "id": "5DgnF_ut9g1K",
        "outputId": "6d8f987f-0043-4985-b462-c60a47dfa6a3"
      },
      "execution_count": 3,
      "outputs": [
        {
          "output_type": "execute_result",
          "data": {
            "text/plain": [
              "(60000, 28, 28, 1)"
            ]
          },
          "metadata": {},
          "execution_count": 3
        }
      ]
    },
    {
      "cell_type": "code",
      "source": [
        "x_test = np.expand_dims(x_test, -1)\n",
        "x_test.shape"
      ],
      "metadata": {
        "colab": {
          "base_uri": "https://localhost:8080/"
        },
        "id": "yxfnQop393z9",
        "outputId": "92504443-7769-4207-e60c-cf92b066fbf0"
      },
      "execution_count": 4,
      "outputs": [
        {
          "output_type": "execute_result",
          "data": {
            "text/plain": [
              "(10000, 28, 28, 1)"
            ]
          },
          "metadata": {},
          "execution_count": 4
        }
      ]
    },
    {
      "cell_type": "code",
      "source": [
        "from tensorflow.keras.layers import RandomRotation, Input\n",
        "from tensorflow.keras.models import Sequential\n",
        "\n",
        "aug = Sequential([RandomRotation(0.1)])\n",
        "\n",
        "img = x_test[0]\n",
        "\n",
        "import matplotlib.pyplot as plt\n",
        "\n",
        "plt.imshow(img[:, :, 0])\n",
        "plt.show()\n",
        "\n",
        "img = aug(img)\n",
        "\n",
        "plt.imshow(img[:, :, 0])\n",
        "plt.show()"
      ],
      "metadata": {
        "colab": {
          "base_uri": "https://localhost:8080/",
          "height": 513
        },
        "id": "lgZ61lJhC4gz",
        "outputId": "93e6fdc0-d854-4db0-c409-75c928639e67"
      },
      "execution_count": 8,
      "outputs": [
        {
          "output_type": "display_data",
          "data": {
            "text/plain": [
              "<Figure size 432x288 with 1 Axes>"
            ],
            "image/png": "[encoded data removed]"
          },
          "metadata": {
            "needs_background": "light"
          }
        },
        {
          "output_type": "display_data",
          "data": {
            "text/plain": [
              "<Figure size 432x288 with 1 Axes>"
            ],
            "image/png": "[encoded data removed]"
          },
          "metadata": {
            "needs_background": "light"
          }
        }
      ]
    },
    {
      "cell_type": "code",
      "source": [
        "from tensorflow.keras.layers import Dense, MaxPooling2D, Conv2D, Input, Activation, BatchNormalization, Flatten, Dropout\n",
        "from tensorflow.keras.models import Model\n",
        "\n",
        "aug = Sequential([RandomRotation(0.1)])\n",
        "\n",
        "inputs = Input(shape=x_train.shape[1:])\n",
        "x = aug(inputs)\n",
        "x = Conv2D(32, 3, name=\"first_conv\")(inputs)\n",
        "x = BatchNormalization()(x)\n",
        "x = Activation(\"relu\", name=\"first_relu\")(x)\n",
        "\n",
        "x = Conv2D(64, 3, name=\"second_conv\")(x)\n",
        "x = BatchNormalization()(x)\n",
        "x = Activation(\"relu\", name=\"second_activation\")(x)\n",
        "\n",
        "x = Conv2D(128, 3, name=\"third_conv\")(x)\n",
        "x = BatchNormalization()(x)\n",
        "x = Activation(\"relu\", name=\"third_activation\")(x)\n",
        "\n",
        "x = MaxPooling2D()(x)\n",
        "x = Flatten()(x)\n",
        "x = Dropout(0.5)(x)\n",
        "outputs = Dense(10, activation=\"softmax\")(x)\n",
        "\n",
        "model = Model(inputs=inputs, outputs=outputs)\n",
        "model.compile(optimizer=\"rmsprop\",\n",
        "              loss=\"sparse_categorical_crossentropy\",\n",
        "              metrics=\"accuracy\")"
      ],
      "metadata": {
        "id": "MaqdftyE89Bp"
      },
      "execution_count": 50,
      "outputs": []
    },
    {
      "cell_type": "code",
      "source": [
        "from tensorflow.keras.callbacks import ModelCheckpoint\n",
        "\n",
        "callbacks = [\n",
        "    ModelCheckpoint(\n",
        "        filepath=\"cnn.keras\",\n",
        "        save_best_only=True,\n",
        "        monitor=\"val_loss\"\n",
        "    )\n",
        "]"
      ],
      "metadata": {
        "id": "XRl6u7KkAeqX"
      },
      "execution_count": 51,
      "outputs": []
    },
    {
      "cell_type": "code",
      "source": [
        "res = model.fit(x_train,\n",
        "                y_train,\n",
        "                epochs=10,\n",
        "                callbacks=callbacks,\n",
        "                validation_split=0.3)"
      ],
      "metadata": {
        "colab": {
          "base_uri": "https://localhost:8080/"
        },
        "id": "tpA2t2reA4sW",
        "outputId": "a2360abe-3f49-4c68-e04f-33ffa9b3ef58"
      },
      "execution_count": 52,
      "outputs": [
        {
          "output_type": "stream",
          "name": "stdout",
          "text": [
            "Epoch 1/10\n",
            "1313/1313 [==============================] - 12s 8ms/step - loss: 0.3677 - accuracy: 0.9396 - val_loss: 0.1416 - val_accuracy: 0.9734\n",
            "Epoch 2/10\n",
            "1313/1313 [==============================] - 10s 8ms/step - loss: 0.1078 - accuracy: 0.9749 - val_loss: 0.1126 - val_accuracy: 0.9737\n",
            "Epoch 3/10\n",
            "1313/1313 [==============================] - 11s 9ms/step - loss: 0.0705 - accuracy: 0.9818 - val_loss: 0.0612 - val_accuracy: 0.9837\n",
            "Epoch 4/10\n",
            "1313/1313 [==============================] - 11s 8ms/step - loss: 0.0547 - accuracy: 0.9852 - val_loss: 0.0663 - val_accuracy: 0.9828\n",
            "Epoch 5/10\n",
            "1313/1313 [==============================] - 11s 8ms/step - loss: 0.0484 - accuracy: 0.9860 - val_loss: 0.0651 - val_accuracy: 0.9834\n",
            "Epoch 6/10\n",
            "1313/1313 [==============================] - 11s 8ms/step - loss: 0.0438 - accuracy: 0.9873 - val_loss: 0.0449 - val_accuracy: 0.9871\n",
            "Epoch 7/10\n",
            "1313/1313 [==============================] - 11s 8ms/step - loss: 0.0409 - accuracy: 0.9881 - val_loss: 0.0450 - val_accuracy: 0.9874\n",
            "Epoch 8/10\n",
            "1313/1313 [==============================] - 11s 8ms/step - loss: 0.0382 - accuracy: 0.9890 - val_loss: 0.0412 - val_accuracy: 0.9878\n",
            "Epoch 9/10\n",
            "1313/1313 [==============================] - 11s 8ms/step - loss: 0.0357 - accuracy: 0.9895 - val_loss: 0.0436 - val_accuracy: 0.9881\n",
            "Epoch 10/10\n",
            "1313/1313 [==============================] - 10s 8ms/step - loss: 0.0356 - accuracy: 0.9902 - val_loss: 0.0507 - val_accuracy: 0.9879\n"
          ]
        }
      ]
    },
    {
      "cell_type": "code",
      "source": [
        "from tensorflow.keras.models import load_model\n",
        "\n",
        "model = load_model(\"cnn.keras\")\n",
        "model.evaluate(x_test, y_test)"
      ],
      "metadata": {
        "colab": {
          "base_uri": "https://localhost:8080/"
        },
        "id": "Z-qsEM8TBNs_",
        "outputId": "2f44a1ed-c28f-4f98-f841-859e86a90628"
      },
      "execution_count": 53,
      "outputs": [
        {
          "output_type": "stream",
          "name": "stdout",
          "text": [
            "313/313 [==============================] - 1s 3ms/step - loss: 0.0334 - accuracy: 0.9884\n"
          ]
        },
        {
          "output_type": "execute_result",
          "data": {
            "text/plain": [
              "[0.03338874131441116, 0.9883999824523926]"
            ]
          },
          "metadata": {},
          "execution_count": 53
        }
      ]
    },
    {
      "cell_type": "code",
      "source": [
        "a_layers = []\n",
        "c_layers = []\n",
        "\n",
        "for layer in model.layers:\n",
        "    if isinstance(layer, Activation):\n",
        "        a_layers.append(layer.output)\n",
        "    if isinstance(layer, Conv2D):\n",
        "        c_layers.append(layer.output)\n",
        "conv_model = Model(inputs=model.input, outputs=c_layers)\n",
        "act_model = Model(inputs=model.input, outputs=a_layers)"
      ],
      "metadata": {
        "id": "kqqO6k_HDzmc"
      },
      "execution_count": 36,
      "outputs": []
    },
    {
      "cell_type": "code",
      "source": [
        "img = x_test[0]\n",
        "img = np.expand_dims(img, axis=0)\n",
        "conv_activations = conv_model(img)"
      ],
      "metadata": {
        "id": "xrKNxfvcEvKP"
      },
      "execution_count": 37,
      "outputs": []
    },
    {
      "cell_type": "code",
      "source": [
        "conv_activations[0].shape"
      ],
      "metadata": {
        "colab": {
          "base_uri": "https://localhost:8080/"
        },
        "id": "xcI8sGenGEre",
        "outputId": "53acbfb3-562c-4af3-dc84-c9111cfe9c64"
      },
      "execution_count": 38,
      "outputs": [
        {
          "output_type": "execute_result",
          "data": {
            "text/plain": [
              "TensorShape([1, 26, 26, 32])"
            ]
          },
          "metadata": {},
          "execution_count": 38
        }
      ]
    },
    {
      "cell_type": "code",
      "source": [
        "first_layer_activation = conv_activations[0]"
      ],
      "metadata": {
        "id": "RGt3M-vlGEAA"
      },
      "execution_count": 39,
      "outputs": []
    },
    {
      "cell_type": "code",
      "source": [
        "first_layer_activation.shape"
      ],
      "metadata": {
        "colab": {
          "base_uri": "https://localhost:8080/"
        },
        "id": "46LGW8FXGSbx",
        "outputId": "021d9aad-e79c-4dfa-af04-54ee16fddf71"
      },
      "execution_count": 40,
      "outputs": [
        {
          "output_type": "execute_result",
          "data": {
            "text/plain": [
              "TensorShape([1, 26, 26, 32])"
            ]
          },
          "metadata": {},
          "execution_count": 40
        }
      ]
    },
    {
      "cell_type": "code",
      "source": [
        "import matplotlib.pyplot as plt\n",
        "\n",
        "plt.matshow(first_layer_activation[0, :, :, 4], cmap=\"viridis\")\n",
        "plt.show()"
      ],
      "metadata": {
        "colab": {
          "base_uri": "https://localhost:8080/",
          "height": 275
        },
        "id": "FyOYJuP9FIaD",
        "outputId": "a5ca46d3-1f4c-4f2c-9b16-ec1ceb39c3c0"
      },
      "execution_count": 41,
      "outputs": [
        {
          "output_type": "display_data",
          "data": {
            "text/plain": [
              "<Figure size 288x288 with 1 Axes>"
            ],
            "image/png": "[encoded data removed]"
          },
          "metadata": {
            "needs_background": "light"
          }
        }
      ]
    },
    {
      "cell_type": "code",
      "source": [
        "len(conv_activations)"
      ],
      "metadata": {
        "colab": {
          "base_uri": "https://localhost:8080/"
        },
        "id": "9ZnvFeC4Ggk_",
        "outputId": "0b979054-91b9-470c-8d1f-1a3456b6a2a5"
      },
      "execution_count": 42,
      "outputs": [
        {
          "output_type": "execute_result",
          "data": {
            "text/plain": [
              "3"
            ]
          },
          "metadata": {},
          "execution_count": 42
        }
      ]
    },
    {
      "cell_type": "code",
      "source": [
        "last_conv_activations = conv_activations[2]\n",
        "plt.matshow(last_conv_activations[0, :, :, 32], cmap=\"viridis\")\n",
        "plt.show()"
      ],
      "metadata": {
        "colab": {
          "base_uri": "https://localhost:8080/",
          "height": 275
        },
        "id": "Dq0_K4SgGkgg",
        "outputId": "d53b1b39-44bb-4aa2-aae0-df053941e663"
      },
      "execution_count": 43,
      "outputs": [
        {
          "output_type": "display_data",
          "data": {
            "text/plain": [
              "<Figure size 288x288 with 1 Axes>"
            ],
            "image/png": "[encoded data removed]"
          },
          "metadata": {
            "needs_background": "light"
          }
        }
      ]
    }
  ]
}
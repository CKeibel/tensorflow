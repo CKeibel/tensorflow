{
  "nbformat": 4,
  "nbformat_minor": 0,
  "metadata": {
    "colab": {
      "name": "EXERCISE_use_pretrained_Efficientnet.ipynb",
      "provenance": [],
      "authorship_tag": "ABX9TyM5GfJe8pyLm8QCZBHRJ9uu"
    },
    "kernelspec": {
      "name": "python3",
      "display_name": "Python 3"
    },
    "language_info": {
      "name": "python"
    },
    "accelerator": "GPU",
    "gpuClass": "standard"
  },
  "cells": [
    {
      "cell_type": "code",
      "execution_count": null,
      "metadata": {
        "id": "5UIEV12--yPR"
      },
      "outputs": [],
      "source": [
        "from google.colab import files\n",
        "files.upload()"
      ]
    },
    {
      "cell_type": "code",
      "source": [
        "!mkdir ~/.kaggle\n",
        "!cp kaggle.json ~/.kaggle/\n",
        "!chmod 600 ~/.kaggle/kaggle.json"
      ],
      "metadata": {
        "id": "I-eTZ5hb--Qd"
      },
      "execution_count": 2,
      "outputs": []
    },
    {
      "cell_type": "code",
      "source": [
        "!kaggle competitions download -c dogs-vs-cats"
      ],
      "metadata": {
        "colab": {
          "base_uri": "https://localhost:8080/"
        },
        "id": "wv9IBZD-_NlY",
        "outputId": "cf1b84b7-903c-40d0-8c67-81d33c673258"
      },
      "execution_count": 3,
      "outputs": [
        {
          "output_type": "stream",
          "name": "stdout",
          "text": [
            "Downloading dogs-vs-cats.zip to /content\n",
            " 99% 801M/812M [00:16<00:00, 52.7MB/s]\n",
            "100% 812M/812M [00:16<00:00, 51.0MB/s]\n"
          ]
        }
      ]
    },
    {
      "cell_type": "code",
      "source": [
        "!unzip -qq dogs-vs-cats.zip\n",
        "!unzip -qq train.zip"
      ],
      "metadata": {
        "id": "yO5ppYWk_Smt"
      },
      "execution_count": 4,
      "outputs": []
    },
    {
      "cell_type": "code",
      "source": [
        "import os, pathlib, shutil\n",
        "\n",
        "n_path = pathlib.Path(\"dogs-vs-cats-small\")\n",
        "o_path = pathlib.Path(\"train\")\n",
        "\n",
        "def make_subsets(name, start, end):\n",
        "    for category in (\"dog\", \"cat\"):\n",
        "        dir = n_path / name / category\n",
        "        os.makedirs(dir)\n",
        "\n",
        "        fnames = [f\"{category}.{i}.jpg\" for i in range(start, end)]\n",
        "\n",
        "        for fname in fnames:\n",
        "            shutil.copyfile(src=o_path / fname, dst=dir / fname)\n",
        "\n",
        "make_subsets(\"train\", 0, 1_000)\n",
        "make_subsets(\"val\", 1_000, 1_500)\n",
        "make_subsets(\"test\", 1_500, 2_500)"
      ],
      "metadata": {
        "id": "wWqLQ8G-_VVw"
      },
      "execution_count": null,
      "outputs": []
    },
    {
      "cell_type": "code",
      "source": [
        "from tensorflow.keras.utils import image_dataset_from_directory\n",
        "\n",
        "train_data = image_dataset_from_directory(\n",
        "    n_path / \"train\",\n",
        "    image_size=(180, 180),\n",
        "    batch_size=32\n",
        ")\n",
        "\n",
        "val_data = image_dataset_from_directory(\n",
        "    n_path / \"val\",\n",
        "    image_size=(180, 180),\n",
        "    batch_size=32\n",
        ")\n",
        "\n",
        "test_data = image_dataset_from_directory(\n",
        "    n_path / \"test\",\n",
        "    image_size=(180, 180),\n",
        "    batch_size=32\n",
        ")"
      ],
      "metadata": {
        "colab": {
          "base_uri": "https://localhost:8080/"
        },
        "id": "z-V36dXFAlwd",
        "outputId": "339a4459-6154-4272-e02c-001bfde78b38"
      },
      "execution_count": 7,
      "outputs": [
        {
          "output_type": "stream",
          "name": "stdout",
          "text": [
            "Found 2000 files belonging to 2 classes.\n",
            "Found 1000 files belonging to 2 classes.\n",
            "Found 2000 files belonging to 2 classes.\n"
          ]
        }
      ]
    },
    {
      "cell_type": "code",
      "source": [
        "from tensorflow.keras.models import Sequential, Model\n",
        "from tensorflow.keras.layers import Input, RandomFlip, RandomRotation, RandomZoom, Dense, Flatten, Dropout\n",
        "from tensorflow.keras.applications import efficientnet_v2\n",
        "\n",
        "data_aug = Sequential([\n",
        "    RandomFlip(\"horizontal\"),\n",
        "    RandomRotation(0.1),\n",
        "    RandomZoom(0.2)\n",
        "])\n",
        "\n",
        "conv_base = efficientnet_v2.EfficientNetV2B2(\n",
        "    include_top=False,\n",
        "    weights=\"imagenet\"\n",
        ")\n",
        "\n",
        "conv_base.trainable = False\n",
        "\n",
        "inputs = Input(shape=(180, 180, 3))\n",
        "x = data_aug(inputs)\n",
        "x = conv_base(x)\n",
        "x = Flatten()(x)\n",
        "x = Dense(256, activation=\"relu\")(x)\n",
        "x = Dropout(0.5)(x)\n",
        "outputs = Dense(1, activation=\"sigmoid\")(x)\n",
        "\n",
        "model = Model(inputs=inputs, outputs=outputs)\n",
        "model.compile(optimizer=\"rmsprop\",\n",
        "              loss=\"binary_crossentropy\",\n",
        "              metrics=[\"accuracy\"])"
      ],
      "metadata": {
        "id": "4-iKMkqrBzij"
      },
      "execution_count": 14,
      "outputs": []
    },
    {
      "cell_type": "code",
      "source": [
        "from tensorflow.keras.callbacks import ModelCheckpoint\n",
        "\n",
        "callbacks=[\n",
        "    ModelCheckpoint(\n",
        "        filepath=\"effnet.keras\",\n",
        "        save_best_only=True,\n",
        "        monitor=\"val_loss\"\n",
        "    )\n",
        "]"
      ],
      "metadata": {
        "id": "riCyaCFLIUbi"
      },
      "execution_count": 12,
      "outputs": []
    },
    {
      "cell_type": "code",
      "source": [
        "res = model.fit(train_data,\n",
        "                epochs=20,\n",
        "                validation_data=val_data,\n",
        "                callbacks=callbacks\n",
        ")"
      ],
      "metadata": {
        "colab": {
          "base_uri": "https://localhost:8080/"
        },
        "id": "tDW1vsuqERpj",
        "outputId": "71aa9fbe-9444-4dcf-d1ad-6f2293ef73c2"
      },
      "execution_count": 15,
      "outputs": [
        {
          "output_type": "stream",
          "name": "stdout",
          "text": [
            "Epoch 1/20\n",
            "63/63 [==============================] - 17s 142ms/step - loss: 0.4151 - accuracy: 0.9595 - val_loss: 0.2666 - val_accuracy: 0.9790\n",
            "Epoch 2/20\n",
            "63/63 [==============================] - 7s 107ms/step - loss: 0.3219 - accuracy: 0.9695 - val_loss: 0.2795 - val_accuracy: 0.9830\n",
            "Epoch 3/20\n",
            "63/63 [==============================] - 7s 106ms/step - loss: 0.2549 - accuracy: 0.9830 - val_loss: 0.2674 - val_accuracy: 0.9860\n",
            "Epoch 4/20\n",
            "63/63 [==============================] - 7s 105ms/step - loss: 0.2317 - accuracy: 0.9840 - val_loss: 0.2657 - val_accuracy: 0.9910\n",
            "Epoch 5/20\n",
            "63/63 [==============================] - 7s 105ms/step - loss: 0.3010 - accuracy: 0.9850 - val_loss: 0.3340 - val_accuracy: 0.9840\n",
            "Epoch 6/20\n",
            "63/63 [==============================] - 7s 106ms/step - loss: 0.1119 - accuracy: 0.9900 - val_loss: 0.3620 - val_accuracy: 0.9850\n",
            "Epoch 7/20\n",
            "63/63 [==============================] - 7s 104ms/step - loss: 0.4033 - accuracy: 0.9840 - val_loss: 0.5852 - val_accuracy: 0.9850\n",
            "Epoch 8/20\n",
            "63/63 [==============================] - 7s 108ms/step - loss: 0.3036 - accuracy: 0.9880 - val_loss: 0.4629 - val_accuracy: 0.9870\n",
            "Epoch 9/20\n",
            "63/63 [==============================] - 7s 102ms/step - loss: 0.2007 - accuracy: 0.9870 - val_loss: 0.4109 - val_accuracy: 0.9830\n",
            "Epoch 10/20\n",
            "63/63 [==============================] - 7s 105ms/step - loss: 0.1612 - accuracy: 0.9905 - val_loss: 0.3691 - val_accuracy: 0.9890\n",
            "Epoch 11/20\n",
            "63/63 [==============================] - 7s 101ms/step - loss: 0.0858 - accuracy: 0.9940 - val_loss: 0.3255 - val_accuracy: 0.9910\n",
            "Epoch 12/20\n",
            "63/63 [==============================] - 7s 100ms/step - loss: 0.1687 - accuracy: 0.9900 - val_loss: 0.2512 - val_accuracy: 0.9920\n",
            "Epoch 13/20\n",
            "63/63 [==============================] - 7s 103ms/step - loss: 0.1280 - accuracy: 0.9915 - val_loss: 0.3340 - val_accuracy: 0.9920\n",
            "Epoch 14/20\n",
            "63/63 [==============================] - 7s 103ms/step - loss: 0.2509 - accuracy: 0.9925 - val_loss: 0.3069 - val_accuracy: 0.9890\n",
            "Epoch 15/20\n",
            "63/63 [==============================] - 7s 102ms/step - loss: 0.1592 - accuracy: 0.9890 - val_loss: 0.3072 - val_accuracy: 0.9890\n",
            "Epoch 16/20\n",
            "63/63 [==============================] - 7s 102ms/step - loss: 0.2629 - accuracy: 0.9935 - val_loss: 0.3832 - val_accuracy: 0.9890\n",
            "Epoch 17/20\n",
            "63/63 [==============================] - 7s 110ms/step - loss: 0.2822 - accuracy: 0.9890 - val_loss: 0.3938 - val_accuracy: 0.9890\n",
            "Epoch 18/20\n",
            "63/63 [==============================] - 7s 101ms/step - loss: 0.2454 - accuracy: 0.9885 - val_loss: 0.3210 - val_accuracy: 0.9850\n",
            "Epoch 19/20\n",
            "63/63 [==============================] - 7s 101ms/step - loss: 0.2126 - accuracy: 0.9875 - val_loss: 0.2971 - val_accuracy: 0.9890\n",
            "Epoch 20/20\n",
            "63/63 [==============================] - 7s 100ms/step - loss: 0.1770 - accuracy: 0.9915 - val_loss: 0.3421 - val_accuracy: 0.9890\n"
          ]
        }
      ]
    },
    {
      "cell_type": "code",
      "source": [
        "from tensorflow.keras.models import load_model\n",
        "\n",
        "test_model = load_model(\"effnet.keras\")\n",
        "\n",
        "loss, acc = test_model.evaluate(test_data)\n",
        "print(f\"Accuracy: {acc}\")"
      ],
      "metadata": {
        "colab": {
          "base_uri": "https://localhost:8080/"
        },
        "id": "W-dC26kgEoEo",
        "outputId": "e1f8384b-fd53-4f71-a7ca-882c29ca6609"
      },
      "execution_count": 16,
      "outputs": [
        {
          "output_type": "stream",
          "name": "stdout",
          "text": [
            "63/63 [==============================] - 6s 61ms/step - loss: 0.0880 - accuracy: 0.9865\n",
            "Accuracy: 0.9865000247955322\n"
          ]
        }
      ]
    },
    {
      "cell_type": "code",
      "source": [
        ""
      ],
      "metadata": {
        "id": "IBzfmbHKJi6A"
      },
      "execution_count": null,
      "outputs": []
    }
  ]
}
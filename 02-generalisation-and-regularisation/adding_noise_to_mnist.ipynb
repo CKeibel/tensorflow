{
  "nbformat": 4,
  "nbformat_minor": 0,
  "metadata": {
    "colab": {
      "name": "adding_noise.ipynb",
      "provenance": [],
      "authorship_tag": "ABX9TyO9RqYv7dXBTln74T6+tKAO"
    },
    "kernelspec": {
      "name": "python3",
      "display_name": "Python 3"
    },
    "language_info": {
      "name": "python"
    },
    "accelerator": "GPU"
  },
  "cells": [
    {
      "cell_type": "code",
      "execution_count": 1,
      "metadata": {
        "colab": {
          "base_uri": "https://localhost:8080/"
        },
        "id": "Jxexq5ZIxR1y",
        "outputId": "d58a3694-b551-4d05-bac0-923a7a25e69c"
      },
      "outputs": [
        {
          "output_type": "stream",
          "name": "stdout",
          "text": [
            "Downloading data from https://storage.googleapis.com/tensorflow/tf-keras-datasets/mnist.npz\n",
            "11493376/11490434 [==============================] - 0s 0us/step\n",
            "11501568/11490434 [==============================] - 0s 0us/step\n"
          ]
        }
      ],
      "source": [
        "from tensorflow.keras.datasets import mnist\n",
        "\n",
        "(x_train, y_train), (x_test, y_test) = mnist.load_data()"
      ]
    },
    {
      "cell_type": "code",
      "source": [
        "# reshape using dense not convolution\n",
        "x_train = x_train.reshape(x_train.shape[0], x_train.shape[1]**2)\n",
        "print(f\"New shape: {x_train.shape}\")"
      ],
      "metadata": {
        "colab": {
          "base_uri": "https://localhost:8080/"
        },
        "id": "vwTLS6Ixxvsc",
        "outputId": "d8f03a20-e092-439d-f3fa-9d8c2684f76e"
      },
      "execution_count": 2,
      "outputs": [
        {
          "output_type": "stream",
          "name": "stdout",
          "text": [
            "New shape: (60000, 784)\n"
          ]
        }
      ]
    },
    {
      "cell_type": "code",
      "source": [
        "x_train = x_train.astype(\"float32\") / 255 # values between 0 and 1"
      ],
      "metadata": {
        "id": "HWLHV-mKzF-Z"
      },
      "execution_count": 3,
      "outputs": []
    },
    {
      "cell_type": "code",
      "source": [
        "import numpy as np\n",
        "\n",
        "# adding white noise channels and all-zeros channels\n",
        "x_white_noise = np.concatenate([x_train, np.random.random(x_train.shape)], axis=1)\n",
        "x_zeros_noise = np.concatenate([x_train, np.zeros(x_train.shape)], axis=1)\n",
        "\n",
        "print(f\"White noise shape: {x_white_noise.shape}\")\n",
        "print(f\"Zeros noise shape: {x_zeros_noise.shape}\")"
      ],
      "metadata": {
        "colab": {
          "base_uri": "https://localhost:8080/"
        },
        "id": "ft7UZlGfyk7w",
        "outputId": "8c28e558-3c7d-4706-ba6e-df1f24f8749e"
      },
      "execution_count": 4,
      "outputs": [
        {
          "output_type": "stream",
          "name": "stdout",
          "text": [
            "White noise shape: (60000, 1568)\n",
            "Zeros noise shape: (60000, 1568)\n"
          ]
        }
      ]
    },
    {
      "cell_type": "code",
      "source": [
        "from tensorflow.keras.layers import Dense\n",
        "from tensorflow.keras.models import Sequential\n",
        "\n",
        "# model\n",
        "def get_model():\n",
        "    model = Sequential([\n",
        "        Dense(512, activation=\"relu\"),\n",
        "        Dense(10, activation=\"softmax\")\n",
        "    ])\n",
        "\n",
        "    model.compile(optimizer=\"rmsprop\",\n",
        "                  loss=\"sparse_categorical_crossentropy\",\n",
        "                  metrics=[\"accuracy\"])\n",
        "    \n",
        "    return model"
      ],
      "metadata": {
        "id": "NOw3YA7C0LEw"
      },
      "execution_count": 5,
      "outputs": []
    },
    {
      "cell_type": "code",
      "source": [
        "# white noise\n",
        "model = get_model()\n",
        "history_white = model.fit(\n",
        "    x_white_noise,\n",
        "    y_train,\n",
        "    epochs=10,\n",
        "    batch_size=128,\n",
        "    validation_split=0.2\n",
        ")\n",
        "\n",
        "# zeros noise\n",
        "model = get_model()\n",
        "history_zeros = model.fit(\n",
        "    x_zeros_noise,\n",
        "    y_train,\n",
        "    epochs=10,\n",
        "    batch_size=128,\n",
        "    validation_split=0.2\n",
        ")"
      ],
      "metadata": {
        "colab": {
          "base_uri": "https://localhost:8080/"
        },
        "id": "h0NoXHhQ1QsJ",
        "outputId": "b301aaab-c166-4cae-b956-d84812443fad"
      },
      "execution_count": 6,
      "outputs": [
        {
          "output_type": "stream",
          "name": "stdout",
          "text": [
            "Epoch 1/10\n",
            "375/375 [==============================] - 5s 4ms/step - loss: 0.6069 - accuracy: 0.8157 - val_loss: 0.2582 - val_accuracy: 0.9206\n",
            "Epoch 2/10\n",
            "375/375 [==============================] - 1s 3ms/step - loss: 0.2458 - accuracy: 0.9232 - val_loss: 0.2088 - val_accuracy: 0.9396\n",
            "Epoch 3/10\n",
            "375/375 [==============================] - 1s 3ms/step - loss: 0.1604 - accuracy: 0.9503 - val_loss: 0.1565 - val_accuracy: 0.9535\n",
            "Epoch 4/10\n",
            "375/375 [==============================] - 1s 3ms/step - loss: 0.1151 - accuracy: 0.9632 - val_loss: 0.1600 - val_accuracy: 0.9532\n",
            "Epoch 5/10\n",
            "375/375 [==============================] - 1s 3ms/step - loss: 0.0824 - accuracy: 0.9737 - val_loss: 0.1180 - val_accuracy: 0.9672\n",
            "Epoch 6/10\n",
            "375/375 [==============================] - 1s 3ms/step - loss: 0.0618 - accuracy: 0.9804 - val_loss: 0.1703 - val_accuracy: 0.9531\n",
            "Epoch 7/10\n",
            "375/375 [==============================] - 1s 3ms/step - loss: 0.0462 - accuracy: 0.9851 - val_loss: 0.1346 - val_accuracy: 0.9669\n",
            "Epoch 8/10\n",
            "375/375 [==============================] - 1s 3ms/step - loss: 0.0358 - accuracy: 0.9877 - val_loss: 0.1300 - val_accuracy: 0.9670\n",
            "Epoch 9/10\n",
            "375/375 [==============================] - 1s 3ms/step - loss: 0.0259 - accuracy: 0.9914 - val_loss: 0.1333 - val_accuracy: 0.9687\n",
            "Epoch 10/10\n",
            "375/375 [==============================] - 1s 3ms/step - loss: 0.0212 - accuracy: 0.9932 - val_loss: 0.1421 - val_accuracy: 0.9687\n",
            "Epoch 1/10\n",
            "375/375 [==============================] - 2s 4ms/step - loss: 0.2906 - accuracy: 0.9150 - val_loss: 0.1555 - val_accuracy: 0.9563\n",
            "Epoch 2/10\n",
            "375/375 [==============================] - 1s 3ms/step - loss: 0.1202 - accuracy: 0.9647 - val_loss: 0.1125 - val_accuracy: 0.9670\n",
            "Epoch 3/10\n",
            "375/375 [==============================] - 1s 3ms/step - loss: 0.0794 - accuracy: 0.9765 - val_loss: 0.0970 - val_accuracy: 0.9713\n",
            "Epoch 4/10\n",
            "375/375 [==============================] - 1s 3ms/step - loss: 0.0576 - accuracy: 0.9828 - val_loss: 0.0897 - val_accuracy: 0.9747\n",
            "Epoch 5/10\n",
            "375/375 [==============================] - 1s 3ms/step - loss: 0.0432 - accuracy: 0.9876 - val_loss: 0.0826 - val_accuracy: 0.9752\n",
            "Epoch 6/10\n",
            "375/375 [==============================] - 1s 3ms/step - loss: 0.0319 - accuracy: 0.9904 - val_loss: 0.0816 - val_accuracy: 0.9768\n",
            "Epoch 7/10\n",
            "375/375 [==============================] - 1s 3ms/step - loss: 0.0244 - accuracy: 0.9927 - val_loss: 0.0845 - val_accuracy: 0.9770\n",
            "Epoch 8/10\n",
            "375/375 [==============================] - 1s 3ms/step - loss: 0.0181 - accuracy: 0.9949 - val_loss: 0.0838 - val_accuracy: 0.9788\n",
            "Epoch 9/10\n",
            "375/375 [==============================] - 1s 3ms/step - loss: 0.0138 - accuracy: 0.9962 - val_loss: 0.0815 - val_accuracy: 0.9792\n",
            "Epoch 10/10\n",
            "375/375 [==============================] - 1s 3ms/step - loss: 0.0105 - accuracy: 0.9971 - val_loss: 0.0966 - val_accuracy: 0.9781\n"
          ]
        }
      ]
    },
    {
      "cell_type": "code",
      "source": [
        "white_acc = history_white.history[\"val_accuracy\"]\n",
        "zeros_acc = history_zeros.history[\"val_accuracy\"]\n",
        "\n",
        "import matplotlib.pyplot as plt\n",
        "x_range = range(1, len(white_acc) +1)\n",
        "plt.plot(x_range, white_acc, \"b-\", label=\"White noise\")\n",
        "plt.plot(x_range, zeros_acc, \"b--\", label=\"Zeros noise\")\n",
        "plt.xlabel(\"Epochs\")\n",
        "plt.ylabel(\"Accuracy\")\n",
        "plt.legend()\n",
        "plt.show()"
      ],
      "metadata": {
        "colab": {
          "base_uri": "https://localhost:8080/",
          "height": 279
        },
        "id": "JdkWRw6516Kn",
        "outputId": "1162c247-fd05-4a19-ee8b-0e963bcdf95c"
      },
      "execution_count": 7,
      "outputs": [
        {
          "output_type": "display_data",
          "data": {
            "text/plain": [
              "<Figure size 432x288 with 1 Axes>"
            ],
            "image/png": "[encoded data removed]"
          },
          "metadata": {
            "needs_background": "light"
          }
        }
      ]
    },
    {
      "cell_type": "markdown",
      "source": [
        "# comapre to model trained on original data"
      ],
      "metadata": {
        "id": "LKALVOP8OLlr"
      }
    },
    {
      "cell_type": "code",
      "source": [
        "(x_train, y_train), _ = mnist.load_data()\n",
        "x_train = x_train.reshape(x_train.shape[0], x_train.shape[1]**2)\n",
        "x_train = x_train.astype(\"float32\") / 255\n",
        "\n",
        "model = get_model()\n",
        "\n",
        "res = model.fit(x_train,\n",
        "                y_train,\n",
        "                epochs=10,\n",
        "                batch_size=128,\n",
        "                validation_split=0.2)"
      ],
      "metadata": {
        "colab": {
          "base_uri": "https://localhost:8080/"
        },
        "id": "zdnFV6Fk3Iqj",
        "outputId": "037e102b-55ff-4976-837f-3fe7afad45b5"
      },
      "execution_count": 14,
      "outputs": [
        {
          "output_type": "stream",
          "name": "stdout",
          "text": [
            "Epoch 1/10\n",
            "375/375 [==============================] - 2s 3ms/step - loss: 0.2866 - accuracy: 0.9153 - val_loss: 0.1407 - val_accuracy: 0.9600\n",
            "Epoch 2/10\n",
            "375/375 [==============================] - 1s 3ms/step - loss: 0.1181 - accuracy: 0.9642 - val_loss: 0.1129 - val_accuracy: 0.9672\n",
            "Epoch 3/10\n",
            "375/375 [==============================] - 1s 3ms/step - loss: 0.0767 - accuracy: 0.9772 - val_loss: 0.0866 - val_accuracy: 0.9729\n",
            "Epoch 4/10\n",
            "375/375 [==============================] - 1s 3ms/step - loss: 0.0559 - accuracy: 0.9835 - val_loss: 0.0926 - val_accuracy: 0.9728\n",
            "Epoch 5/10\n",
            "375/375 [==============================] - 1s 3ms/step - loss: 0.0411 - accuracy: 0.9877 - val_loss: 0.0811 - val_accuracy: 0.9772\n",
            "Epoch 6/10\n",
            "375/375 [==============================] - 1s 3ms/step - loss: 0.0313 - accuracy: 0.9911 - val_loss: 0.0804 - val_accuracy: 0.9777\n",
            "Epoch 7/10\n",
            "375/375 [==============================] - 1s 3ms/step - loss: 0.0230 - accuracy: 0.9930 - val_loss: 0.0811 - val_accuracy: 0.9788\n",
            "Epoch 8/10\n",
            "375/375 [==============================] - 1s 3ms/step - loss: 0.0177 - accuracy: 0.9949 - val_loss: 0.0863 - val_accuracy: 0.9772\n",
            "Epoch 9/10\n",
            "375/375 [==============================] - 1s 3ms/step - loss: 0.0132 - accuracy: 0.9960 - val_loss: 0.0883 - val_accuracy: 0.9777\n",
            "Epoch 10/10\n",
            "375/375 [==============================] - 1s 3ms/step - loss: 0.0106 - accuracy: 0.9972 - val_loss: 0.0965 - val_accuracy: 0.9794\n"
          ]
        }
      ]
    },
    {
      "cell_type": "code",
      "source": [
        "acc = res.history[\"val_accuracy\"]\n",
        "\n",
        "plt.plot(x_range, acc, \"r-\", label=\"Original data\")\n",
        "plt.plot(x_range, white_acc, \"b-\", label=\"White noise\")\n",
        "plt.plot(x_range, zeros_acc, \"b--\", label=\"Zeros noise\")\n",
        "plt.xlabel(\"Epochs\")\n",
        "plt.ylabel(\"Accuracy\")\n",
        "plt.legend()\n",
        "plt.show()"
      ],
      "metadata": {
        "colab": {
          "base_uri": "https://localhost:8080/",
          "height": 279
        },
        "id": "qrMnwtoROoUi",
        "outputId": "049b709d-0f62-4112-de87-83deb7d2a0a9"
      },
      "execution_count": 16,
      "outputs": [
        {
          "output_type": "display_data",
          "data": {
            "text/plain": [
              "<Figure size 432x288 with 1 Axes>"
            ],
            "image/png": "[encoded data removed]"
          },
          "metadata": {
            "needs_background": "light"
          }
        }
      ]
    },
    {
      "cell_type": "code",
      "source": [
        ""
      ],
      "metadata": {
        "id": "p_JEKfPHR_Yk"
      },
      "execution_count": null,
      "outputs": []
    }
  ]
}
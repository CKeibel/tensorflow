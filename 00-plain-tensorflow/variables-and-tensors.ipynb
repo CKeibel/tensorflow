{
  "nbformat": 4,
  "nbformat_minor": 0,
  "metadata": {
    "colab": {
      "name": "00.plain_tensorflow.ipynb",
      "provenance": [],
      "collapsed_sections": [],
      "authorship_tag": "ABX9TyNjsgTr9/QebmmLn6A2hIZF"
    },
    "kernelspec": {
      "name": "python3",
      "display_name": "Python 3"
    },
    "language_info": {
      "name": "python"
    }
  },
  "cells": [
    {
      "cell_type": "code",
      "execution_count": 1,
      "metadata": {
        "colab": {
          "base_uri": "https://localhost:8080/"
        },
        "id": "CzO445FgITBx",
        "outputId": "48b7fc67-ba8e-4ac1-f971-3edf189d950e"
      },
      "outputs": [
        {
          "output_type": "execute_result",
          "data": {
            "text/plain": [
              "<tf.Tensor: shape=(2, 1), dtype=float32, numpy=\n",
              "array([[1.],\n",
              "       [1.]], dtype=float32)>"
            ]
          },
          "metadata": {},
          "execution_count": 1
        }
      ],
      "source": [
        "import tensorflow as tf\n",
        "\n",
        "# ones\n",
        "x = tf.ones(shape=(2,1))\n",
        "x"
      ]
    },
    {
      "cell_type": "code",
      "source": [
        "# zeros\n",
        "x = tf.zeros(shape=(2,1))\n",
        "x"
      ],
      "metadata": {
        "colab": {
          "base_uri": "https://localhost:8080/"
        },
        "id": "jiI1CTldIokA",
        "outputId": "6ab8e33d-0bd1-4707-eec8-c849c4ed3bc6"
      },
      "execution_count": 3,
      "outputs": [
        {
          "output_type": "execute_result",
          "data": {
            "text/plain": [
              "<tf.Tensor: shape=(2, 1), dtype=float32, numpy=\n",
              "array([[0.],\n",
              "       [0.]], dtype=float32)>"
            ]
          },
          "metadata": {},
          "execution_count": 3
        }
      ]
    },
    {
      "cell_type": "code",
      "source": [
        "# random values from nomral distribution\n",
        "x = tf.random.normal(shape=(2,1), mean=0, stddev=1)\n",
        "x"
      ],
      "metadata": {
        "colab": {
          "base_uri": "https://localhost:8080/"
        },
        "id": "ec_6LmD0Iy3t",
        "outputId": "53c81ec8-d4c2-4009-fc73-66fecb6278b4"
      },
      "execution_count": 4,
      "outputs": [
        {
          "output_type": "execute_result",
          "data": {
            "text/plain": [
              "<tf.Tensor: shape=(2, 1), dtype=float32, numpy=\n",
              "array([[-0.15351917],\n",
              "       [ 0.35991177]], dtype=float32)>"
            ]
          },
          "metadata": {},
          "execution_count": 4
        }
      ]
    },
    {
      "cell_type": "code",
      "source": [
        "# radom values from uniform distribution\n",
        "x = tf.random.uniform(shape=(2,1), minval=-1, maxval=1)\n",
        "x"
      ],
      "metadata": {
        "colab": {
          "base_uri": "https://localhost:8080/"
        },
        "id": "_A5zSADuJJ8y",
        "outputId": "701b5657-6b27-4d18-a0ee-957a7322a08d"
      },
      "execution_count": 5,
      "outputs": [
        {
          "output_type": "execute_result",
          "data": {
            "text/plain": [
              "<tf.Tensor: shape=(2, 1), dtype=float32, numpy=\n",
              "array([[-0.20237708],\n",
              "       [ 0.29852366]], dtype=float32)>"
            ]
          },
          "metadata": {},
          "execution_count": 5
        }
      ]
    },
    {
      "cell_type": "code",
      "source": [
        "# difference to numpy tensors, tf-tensors are constant\n",
        "# for exampe:\n",
        "\n",
        "import numpy as np\n",
        "a = np.ones(shape=(2,2))\n",
        "b = tf.ones(shape=(2,2))\n",
        "\n",
        "a[0][0] = 5\n",
        "\n",
        "try:\n",
        "    b[0][0] = 5\n",
        "except:\n",
        "    print(\"not possible\")\n",
        "\n",
        "print(f\"numpy: {a}\\ntensorflow: {b}\")"
      ],
      "metadata": {
        "colab": {
          "base_uri": "https://localhost:8080/"
        },
        "id": "PfZwx23qJjF3",
        "outputId": "7c400015-ff93-4c9d-b222-29b21c520dfe"
      },
      "execution_count": 6,
      "outputs": [
        {
          "output_type": "stream",
          "name": "stdout",
          "text": [
            "not possible\n",
            "numpy: [[5. 1.]\n",
            " [1. 1.]]\n",
            "tensorflow: [[1. 1.]\n",
            " [1. 1.]]\n"
          ]
        }
      ]
    },
    {
      "cell_type": "code",
      "source": [
        ""
      ],
      "metadata": {
        "id": "AxWPhWq6Kf_y"
      },
      "execution_count": null,
      "outputs": []
    }
  ]
}
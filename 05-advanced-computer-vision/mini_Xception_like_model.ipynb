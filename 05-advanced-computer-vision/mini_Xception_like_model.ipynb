{
  "nbformat": 4,
  "nbformat_minor": 0,
  "metadata": {
    "colab": {
      "name": "mini_Xception-like_model.ipynb",
      "provenance": [],
      "collapsed_sections": [],
      "authorship_tag": "ABX9TyPNJkrShN69yf6Y3CyrykSI"
    },
    "kernelspec": {
      "name": "python3",
      "display_name": "Python 3"
    },
    "language_info": {
      "name": "python"
    },
    "accelerator": "GPU",
    "gpuClass": "standard"
  },
  "cells": [
    {
      "cell_type": "code",
      "execution_count": 1,
      "metadata": {
        "colab": {
          "resources": {
            "http://localhost:8080/nbextensions/google.colab/files.js": {
              "data": "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",
              "ok": true,
              "headers": [
                [
                  "content-type",
                  "application/javascript"
                ]
              ],
              "status": 200,
              "status_text": "OK"
            }
          },
          "base_uri": "https://localhost:8080/",
          "height": 95
        },
        "id": "cEMsgLWBobXO",
        "outputId": "25a70530-7a13-4998-ec68-0d87ca56ac2a"
      },
      "outputs": [
        {
          "output_type": "display_data",
          "data": {
            "text/plain": [
              "<IPython.core.display.HTML object>"
            ],
            "text/html": [
              "\n",
              "     <input type=\"file\" id=\"files-38b28667-3cf4-4cc7-8c05-186e7789ff0e\" name=\"files[]\" multiple disabled\n",
              "        style=\"border:none\" />\n",
              "     <output id=\"result-38b28667-3cf4-4cc7-8c05-186e7789ff0e\">\n",
              "      Upload widget is only available when the cell has been executed in the\n",
              "      current browser session. Please rerun this cell to enable.\n",
              "      </output>\n",
              "      <script src=\"/nbextensions/google.colab/files.js\"></script> "
            ]
          },
          "metadata": {}
        },
        {
          "output_type": "stream",
          "name": "stdout",
          "text": [
            "Saving kaggle.json to kaggle.json\n"
          ]
        },
        {
          "output_type": "execute_result",
          "data": {
            "text/plain": [
              "{'kaggle.json': b'{\"username\":\"christopherkeibel\",\"key\":\"3cfad0619d88b713dbe51f5399142891d9\"}'}"
            ]
          },
          "metadata": {},
          "execution_count": 1
        }
      ],
      "source": [
        "from google.colab import files\n",
        "files.upload()"
      ]
    },
    {
      "cell_type": "code",
      "source": [
        "!mkdir ~/.kaggle\n",
        "!cp kaggle.json ~/.kaggle/\n",
        "!chmod 600 ~/.kaggle/kaggle.json"
      ],
      "metadata": {
        "id": "795Xsh5eowaZ"
      },
      "execution_count": 2,
      "outputs": []
    },
    {
      "cell_type": "code",
      "source": [
        "# downloading dataset from kaggle\n",
        "!kaggle competitions download -c dogs-vs-cats"
      ],
      "metadata": {
        "colab": {
          "base_uri": "https://localhost:8080/"
        },
        "id": "Phu024JXo2mb",
        "outputId": "508b01d2-8edb-4be7-f108-52ea06d2999c"
      },
      "execution_count": 3,
      "outputs": [
        {
          "output_type": "stream",
          "name": "stdout",
          "text": [
            "Downloading dogs-vs-cats.zip to /content\n",
            " 98% 792M/812M [00:04<00:00, 217MB/s]\n",
            "100% 812M/812M [00:04<00:00, 202MB/s]\n"
          ]
        }
      ]
    },
    {
      "cell_type": "code",
      "source": [
        "!unzip -qq dogs-vs-cats.zip\n",
        "!unzip -qq train.zip"
      ],
      "metadata": {
        "id": "aXDiTUuCo6ND"
      },
      "execution_count": 4,
      "outputs": []
    },
    {
      "cell_type": "code",
      "source": [
        "import os, shutil, pathlib\n",
        "\n",
        "o_path = pathlib.Path(\"train\")\n",
        "new_path = pathlib.Path(\"dogs_vs_cats_small\")\n",
        "\n",
        "def make_subsets(name, start, end):\n",
        "    for category in (\"dog\", \"cat\"):\n",
        "        dir = new_path / name / category\n",
        "        os.makedirs(dir)\n",
        "\n",
        "        fnames = [f\"{category}.{i}.jpg\" for i in range(start, end)]\n",
        "        for fname in fnames:\n",
        "            shutil.copyfile(src=o_path / fname, dst= dir / fname)"
      ],
      "metadata": {
        "id": "ZctIYQsHo9QW"
      },
      "execution_count": 10,
      "outputs": []
    },
    {
      "cell_type": "code",
      "source": [
        "make_subsets(\"train\", 0, 1_000)\n",
        "make_subsets(\"validation\", 1_000, 1_500)\n",
        "make_subsets(\"test\", 1_500, 2_500)"
      ],
      "metadata": {
        "id": "vqPW5BmKp1k-"
      },
      "execution_count": 11,
      "outputs": []
    },
    {
      "cell_type": "code",
      "source": [
        "from tensorflow.keras.utils import image_dataset_from_directory\n",
        "\n",
        "train_data = image_dataset_from_directory(\n",
        "    new_path / \"train\",\n",
        "    image_size=(180, 180),\n",
        "    batch_size=32\n",
        ")\n",
        "\n",
        "val_data = image_dataset_from_directory(\n",
        "    new_path / \"validation\",\n",
        "    image_size=(180, 180),\n",
        "    batch_size=32\n",
        ")\n",
        "\n",
        "test_data = image_dataset_from_directory(\n",
        "    new_path / \"test\",\n",
        "    image_size=(180, 180),\n",
        "    batch_size=32\n",
        ")"
      ],
      "metadata": {
        "colab": {
          "base_uri": "https://localhost:8080/"
        },
        "id": "pTbm4vbPqIIY",
        "outputId": "a7902282-4c7a-491d-aaa8-69a1e98fbd0c"
      },
      "execution_count": 13,
      "outputs": [
        {
          "output_type": "stream",
          "name": "stdout",
          "text": [
            "Found 2000 files belonging to 2 classes.\n",
            "Found 1000 files belonging to 2 classes.\n",
            "Found 2000 files belonging to 2 classes.\n"
          ]
        }
      ]
    },
    {
      "cell_type": "markdown",
      "source": [
        "# Build the model"
      ],
      "metadata": {
        "id": "nMSgtP2prgqA"
      }
    },
    {
      "cell_type": "code",
      "source": [
        "from tensorflow.keras.models import Model, Sequential\n",
        "from tensorflow.keras.layers import (\n",
        "    Input, \n",
        "    Conv2D, \n",
        "    SeparableConv2D, \n",
        "    Activation, \n",
        "    Dense, \n",
        "    BatchNormalization, \n",
        "    MaxPooling2D, \n",
        "    RandomRotation, \n",
        "    RandomZoom, \n",
        "    RandomFlip, \n",
        "    Rescaling, \n",
        "    add,\n",
        "    GlobalAveragePooling2D,\n",
        "    Dropout\n",
        ")\n",
        "\n",
        "data_aug = Sequential([\n",
        "    RandomFlip(\"horizontal\"),\n",
        "    RandomRotation(0.1),\n",
        "    RandomZoom(0.2)\n",
        "])\n",
        "\n",
        "inputs = Input(shape=(180, 180, 3))\n",
        "x = data_aug(inputs)\n",
        "x = Rescaling(1./255)(x)\n",
        "x = Conv2D(filters=32, kernel_size=5, use_bias=False)(x)\n",
        "\n",
        "for size in [32, 64, 128, 256, 512]:\n",
        "    residual = x\n",
        "\n",
        "    x = BatchNormalization()(x)\n",
        "    x = Activation(\"relu\")(x)\n",
        "    x = SeparableConv2D(size, 3, padding=\"same\", use_bias=False)(x)\n",
        "\n",
        "    x = BatchNormalization()(x)\n",
        "    x = Activation(\"relu\")(x)\n",
        "    x = SeparableConv2D(size, 3, padding=\"same\", use_bias=False)(x)\n",
        "\n",
        "    x = MaxPooling2D(3, strides=2, padding=\"same\")(x)\n",
        "\n",
        "    residual = Conv2D(size, 1, strides=2, padding=\"same\", use_bias=False)(residual)\n",
        "    x = add([x, residual])\n",
        "\n",
        "x = GlobalAveragePooling2D()(x)\n",
        "x = Dropout(0.5)(x)\n",
        "outputs = Dense(1, activation=\"sigmoid\")(x)\n",
        "\n",
        "model = Model(inputs=inputs, outputs=outputs)\n",
        "model.compile(optimizer=\"rmsprop\",\n",
        "              loss=\"binary_crossentropy\",\n",
        "              metrics=[\"accuracy\"])"
      ],
      "metadata": {
        "id": "edIL3FemrZGY"
      },
      "execution_count": 16,
      "outputs": []
    },
    {
      "cell_type": "code",
      "source": [
        "res = model.fit(train_data,\n",
        "                epochs=100,\n",
        "                validation_data=val_data)"
      ],
      "metadata": {
        "colab": {
          "base_uri": "https://localhost:8080/"
        },
        "id": "J1sefqLtvHVS",
        "outputId": "99133802-c96d-4a45-b7e5-6a26b5980a66"
      },
      "execution_count": null,
      "outputs": [
        {
          "output_type": "stream",
          "name": "stdout",
          "text": [
            "Epoch 1/100\n",
            "63/63 [==============================] - 45s 463ms/step - loss: 0.6930 - accuracy: 0.5650 - val_loss: 0.7025 - val_accuracy: 0.5000\n",
            "Epoch 2/100\n",
            "63/63 [==============================] - 28s 438ms/step - loss: 0.6572 - accuracy: 0.6055 - val_loss: 0.6924 - val_accuracy: 0.5350\n",
            "Epoch 3/100\n",
            "63/63 [==============================] - 27s 427ms/step - loss: 0.6363 - accuracy: 0.6440 - val_loss: 0.7084 - val_accuracy: 0.5000\n",
            "Epoch 4/100\n",
            "63/63 [==============================] - 28s 437ms/step - loss: 0.6200 - accuracy: 0.6580 - val_loss: 0.7078 - val_accuracy: 0.5000\n",
            "Epoch 5/100\n",
            "63/63 [==============================] - 28s 434ms/step - loss: 0.5980 - accuracy: 0.6810 - val_loss: 0.7856 - val_accuracy: 0.5000\n",
            "Epoch 6/100\n",
            "63/63 [==============================] - 28s 438ms/step - loss: 0.5749 - accuracy: 0.7070 - val_loss: 0.7867 - val_accuracy: 0.5000\n",
            "Epoch 7/100\n",
            "63/63 [==============================] - 28s 441ms/step - loss: 0.5709 - accuracy: 0.7070 - val_loss: 1.0092 - val_accuracy: 0.5000\n",
            "Epoch 8/100\n",
            "63/63 [==============================] - 28s 439ms/step - loss: 0.5512 - accuracy: 0.7220 - val_loss: 0.8698 - val_accuracy: 0.5160\n",
            "Epoch 9/100\n",
            "63/63 [==============================] - 28s 444ms/step - loss: 0.5317 - accuracy: 0.7500 - val_loss: 1.0852 - val_accuracy: 0.5360\n",
            "Epoch 10/100\n",
            "63/63 [==============================] - 28s 438ms/step - loss: 0.5141 - accuracy: 0.7515 - val_loss: 0.5415 - val_accuracy: 0.7070\n",
            "Epoch 11/100\n",
            "63/63 [==============================] - 29s 451ms/step - loss: 0.4885 - accuracy: 0.7665 - val_loss: 0.5832 - val_accuracy: 0.7150\n",
            "Epoch 12/100\n",
            "63/63 [==============================] - 28s 438ms/step - loss: 0.4896 - accuracy: 0.7665 - val_loss: 0.9428 - val_accuracy: 0.5730\n",
            "Epoch 13/100\n",
            "63/63 [==============================] - 29s 450ms/step - loss: 0.4753 - accuracy: 0.7750 - val_loss: 0.5540 - val_accuracy: 0.7450\n",
            "Epoch 14/100\n",
            "63/63 [==============================] - 28s 438ms/step - loss: 0.4718 - accuracy: 0.7820 - val_loss: 1.0808 - val_accuracy: 0.6360\n",
            "Epoch 15/100\n",
            "63/63 [==============================] - 28s 433ms/step - loss: 0.4600 - accuracy: 0.7825 - val_loss: 0.5686 - val_accuracy: 0.7470\n",
            "Epoch 16/100\n",
            "63/63 [==============================] - 28s 435ms/step - loss: 0.4326 - accuracy: 0.8055 - val_loss: 0.5243 - val_accuracy: 0.7630\n",
            "Epoch 17/100\n",
            "63/63 [==============================] - 27s 430ms/step - loss: 0.4207 - accuracy: 0.8125 - val_loss: 1.8399 - val_accuracy: 0.5530\n",
            "Epoch 18/100\n",
            "63/63 [==============================] - 28s 436ms/step - loss: 0.3989 - accuracy: 0.8215 - val_loss: 0.5024 - val_accuracy: 0.7850\n",
            "Epoch 19/100\n",
            "63/63 [==============================] - 28s 439ms/step - loss: 0.3866 - accuracy: 0.8295 - val_loss: 0.5796 - val_accuracy: 0.7790\n",
            "Epoch 20/100\n",
            "63/63 [==============================] - 28s 437ms/step - loss: 0.3967 - accuracy: 0.8230 - val_loss: 0.4813 - val_accuracy: 0.7850\n",
            "Epoch 21/100\n",
            "63/63 [==============================] - 28s 437ms/step - loss: 0.3784 - accuracy: 0.8325 - val_loss: 1.8215 - val_accuracy: 0.6180\n",
            "Epoch 22/100\n",
            "63/63 [==============================] - 27s 430ms/step - loss: 0.3581 - accuracy: 0.8420 - val_loss: 0.9959 - val_accuracy: 0.6330\n",
            "Epoch 23/100\n",
            "63/63 [==============================] - 28s 437ms/step - loss: 0.3629 - accuracy: 0.8485 - val_loss: 0.7425 - val_accuracy: 0.7470\n",
            "Epoch 24/100\n",
            "63/63 [==============================] - 28s 443ms/step - loss: 0.3614 - accuracy: 0.8395 - val_loss: 0.9541 - val_accuracy: 0.6680\n",
            "Epoch 25/100\n",
            "63/63 [==============================] - 28s 439ms/step - loss: 0.3365 - accuracy: 0.8560 - val_loss: 0.7023 - val_accuracy: 0.7500\n",
            "Epoch 26/100\n",
            "63/63 [==============================] - 27s 430ms/step - loss: 0.3212 - accuracy: 0.8565 - val_loss: 0.8466 - val_accuracy: 0.7660\n",
            "Epoch 27/100\n",
            "63/63 [==============================] - 28s 439ms/step - loss: 0.3188 - accuracy: 0.8645 - val_loss: 0.3776 - val_accuracy: 0.8380\n",
            "Epoch 28/100\n",
            "63/63 [==============================] - 27s 428ms/step - loss: 0.3030 - accuracy: 0.8700 - val_loss: 0.4970 - val_accuracy: 0.8210\n",
            "Epoch 29/100\n",
            "63/63 [==============================] - 27s 431ms/step - loss: 0.3082 - accuracy: 0.8765 - val_loss: 1.8969 - val_accuracy: 0.5730\n",
            "Epoch 30/100\n",
            "63/63 [==============================] - 28s 443ms/step - loss: 0.2899 - accuracy: 0.8775 - val_loss: 0.7322 - val_accuracy: 0.7660\n",
            "Epoch 31/100\n",
            "63/63 [==============================] - 28s 435ms/step - loss: 0.2969 - accuracy: 0.8755 - val_loss: 0.9747 - val_accuracy: 0.7110\n",
            "Epoch 32/100\n",
            "63/63 [==============================] - 28s 435ms/step - loss: 0.2896 - accuracy: 0.8765 - val_loss: 1.4421 - val_accuracy: 0.6590\n",
            "Epoch 33/100\n",
            "63/63 [==============================] - 27s 430ms/step - loss: 0.2804 - accuracy: 0.8800 - val_loss: 0.5370 - val_accuracy: 0.8320\n",
            "Epoch 34/100\n",
            "63/63 [==============================] - 28s 433ms/step - loss: 0.2794 - accuracy: 0.8810 - val_loss: 0.4797 - val_accuracy: 0.8030\n"
          ]
        }
      ]
    },
    {
      "cell_type": "code",
      "source": [
        "loss = res.history[\"loss\"]\n",
        "acc = res.history[\"accuracy\"]\n",
        "val_loss = res.history[\"val_loss\"]\n",
        "vall_acc = res.history[\"val_accuracy\"]\n",
        "\n",
        "x_range = range(0, len(loss) + 1)\n",
        "\n",
        "import matplotlib.pyplot as plt\n",
        "\n",
        "f, (ax1, ax2) = plt.subplots(1, 2, figsize=(10, 8))\n",
        "ax1.plot(x_range, acc, \"b\", label=\"Train acc\")\n",
        "ax1.plot(x_range, val_acc, \"r\", label=\"Val acc\")\n",
        "ax1.set_xlabel(\"Epochs\")\n",
        "ax1.set_ylabel(\"Accuracy\")\n",
        "ax1.set_title(\"Accuracy\")\n",
        "ax1.legend()\n",
        "ax2.plot(x_range, loss, \"b\", label=\"Train loss\")\n",
        "ax2.plot(x_range, val_loss, \"r\", label=\"Val loss\")\n",
        "ax2.set_xlabel(\"Epochs\")\n",
        "ax2.set_ylabel(\"Loss\")\n",
        "ax2.legend()\n",
        "ax2.set_title(\"Loss\")\n",
        "plt.show()"
      ],
      "metadata": {
        "id": "NC6tl6l-vau0"
      },
      "execution_count": null,
      "outputs": []
    }
  ]
}

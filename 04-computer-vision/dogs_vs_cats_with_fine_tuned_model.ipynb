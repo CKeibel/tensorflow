{
  "nbformat": 4,
  "nbformat_minor": 0,
  "metadata": {
    "colab": {
      "name": "dogs_vs_cats_with_fine-tuned_model.ipynb",
      "provenance": [],
      "collapsed_sections": [],
      "authorship_tag": "ABX9TyOj6d+93pGAa0eq7I1sQqCx"
    },
    "kernelspec": {
      "name": "python3",
      "display_name": "Python 3"
    },
    "language_info": {
      "name": "python"
    },
    "accelerator": "GPU",
    "gpuClass": "standard"
  },
  "cells": [
    {
      "cell_type": "markdown",
      "source": [
        "# Prepare data"
      ],
      "metadata": {
        "id": "RbBqhKO_Oxp1"
      }
    },
    {
      "cell_type": "code",
      "execution_count": null,
      "metadata": {
        "id": "_afwBuvROile"
      },
      "outputs": [],
      "source": [
        "from google.colab import files\n",
        "files.upload()"
      ]
    },
    {
      "cell_type": "code",
      "source": [
        "!mkdir ~/.kaggle\n",
        "!cp kaggle.json ~/.kaggle/\n",
        "!chmod 600 ~/.kaggle/kaggle.json"
      ],
      "metadata": {
        "id": "7z_OL0suO4tE"
      },
      "execution_count": 2,
      "outputs": []
    },
    {
      "cell_type": "code",
      "source": [
        "# downloading dataset from kaggle\n",
        "!kaggle competitions download -c dogs-vs-cats"
      ],
      "metadata": {
        "colab": {
          "base_uri": "https://localhost:8080/"
        },
        "id": "ZDp4z-YzO_D-",
        "outputId": "c27d5b7e-1e8e-433e-b243-a1559efbd329"
      },
      "execution_count": 3,
      "outputs": [
        {
          "output_type": "stream",
          "name": "stdout",
          "text": [
            "Downloading dogs-vs-cats.zip to /content\n",
            " 98% 796M/812M [00:04<00:00, 150MB/s]\n",
            "100% 812M/812M [00:04<00:00, 176MB/s]\n"
          ]
        }
      ]
    },
    {
      "cell_type": "code",
      "source": [
        "!unzip -qq dogs-vs-cats.zip\n",
        "!unzip -qq train.zip"
      ],
      "metadata": {
        "id": "eWQMcJ8GPCaO"
      },
      "execution_count": 4,
      "outputs": []
    },
    {
      "cell_type": "code",
      "source": [
        "import os, shutil, pathlib\n",
        "\n",
        "original_dir = pathlib.Path(\"train\")\n",
        "new_base_dir = pathlib.Path(\"dogs_vs_cats_small\")\n",
        "\n",
        "def make_subset(name:str, start:int, end:int):\n",
        "    for category in (\"dog\", \"cat\"):\n",
        "        dir = new_base_dir / name / category\n",
        "        os.makedirs(dir)\n",
        "\n",
        "        # create list of filename - first all dogs then all cats (category)\n",
        "        fnames = [f\"{category}.{i}.jpg\" for i in range(start, end)]\n",
        "\n",
        "        for fname in fnames:\n",
        "            shutil.copyfile(src=original_dir / fname, dst=dir / fname)"
      ],
      "metadata": {
        "id": "IHzzT6QQPGQL"
      },
      "execution_count": 5,
      "outputs": []
    },
    {
      "cell_type": "code",
      "source": [
        "make_subset(\"train\", start=0, end=1_000)\n",
        "make_subset(\"validation\", start=1_000, end=1_500)\n",
        "make_subset(\"test\", start=1_500, end=2_500)"
      ],
      "metadata": {
        "id": "lxZvUdhxPGzH"
      },
      "execution_count": 6,
      "outputs": []
    },
    {
      "cell_type": "code",
      "source": [
        "from tensorflow.keras.utils import image_dataset_from_directory\n",
        "\n",
        "train_data = image_dataset_from_directory(\n",
        "    new_base_dir / \"train\",\n",
        "    image_size=(180, 180),\n",
        "    batch_size=32\n",
        ")\n",
        "\n",
        "val_data = image_dataset_from_directory(\n",
        "    new_base_dir / \"validation\",\n",
        "    image_size=(180, 180),\n",
        "    batch_size=32\n",
        ")\n",
        "\n",
        "test_data = image_dataset_from_directory(\n",
        "    new_base_dir / \"test\",\n",
        "    image_size=(180, 180),\n",
        "    batch_size=32\n",
        ")"
      ],
      "metadata": {
        "id": "5nzLV-IwPJTE",
        "colab": {
          "base_uri": "https://localhost:8080/"
        },
        "outputId": "4271b089-2159-497f-d5a5-85fcedcf502e"
      },
      "execution_count": 7,
      "outputs": [
        {
          "output_type": "stream",
          "name": "stdout",
          "text": [
            "Found 2000 files belonging to 2 classes.\n",
            "Found 1000 files belonging to 2 classes.\n",
            "Found 2000 files belonging to 2 classes.\n"
          ]
        }
      ]
    },
    {
      "cell_type": "markdown",
      "source": [
        "# Build model and train classifier"
      ],
      "metadata": {
        "id": "0qXkq2ujPOQj"
      }
    },
    {
      "cell_type": "code",
      "source": [
        "from tensorflow.keras.applications import vgg16\n",
        "\n",
        "conv_base = vgg16.VGG16(\n",
        "    weights=\"imagenet\",\n",
        "    include_top=False\n",
        ")\n",
        "conv_base.trainable = False"
      ],
      "metadata": {
        "id": "mVv9w0eTPNcs",
        "colab": {
          "base_uri": "https://localhost:8080/"
        },
        "outputId": "ac6d1fb5-21d4-4964-c695-69dc3d3ba317"
      },
      "execution_count": 8,
      "outputs": [
        {
          "output_type": "stream",
          "name": "stdout",
          "text": [
            "Downloading data from https://storage.googleapis.com/tensorflow/keras-applications/vgg16/vgg16_weights_tf_dim_ordering_tf_kernels_notop.h5\n",
            "58892288/58889256 [==============================] - 0s 0us/step\n",
            "58900480/58889256 [==============================] - 0s 0us/step\n"
          ]
        }
      ]
    },
    {
      "cell_type": "code",
      "source": [
        "conv_base.summary()"
      ],
      "metadata": {
        "id": "ISo9eOiXPbzJ",
        "colab": {
          "base_uri": "https://localhost:8080/"
        },
        "outputId": "96a0c8d2-56fa-4c0a-a963-0cc481dceaba"
      },
      "execution_count": 9,
      "outputs": [
        {
          "output_type": "stream",
          "name": "stdout",
          "text": [
            "Model: \"vgg16\"\n",
            "_________________________________________________________________\n",
            " Layer (type)                Output Shape              Param #   \n",
            "=================================================================\n",
            " input_1 (InputLayer)        [(None, None, None, 3)]   0         \n",
            "                                                                 \n",
            " block1_conv1 (Conv2D)       (None, None, None, 64)    1792      \n",
            "                                                                 \n",
            " block1_conv2 (Conv2D)       (None, None, None, 64)    36928     \n",
            "                                                                 \n",
            " block1_pool (MaxPooling2D)  (None, None, None, 64)    0         \n",
            "                                                                 \n",
            " block2_conv1 (Conv2D)       (None, None, None, 128)   73856     \n",
            "                                                                 \n",
            " block2_conv2 (Conv2D)       (None, None, None, 128)   147584    \n",
            "                                                                 \n",
            " block2_pool (MaxPooling2D)  (None, None, None, 128)   0         \n",
            "                                                                 \n",
            " block3_conv1 (Conv2D)       (None, None, None, 256)   295168    \n",
            "                                                                 \n",
            " block3_conv2 (Conv2D)       (None, None, None, 256)   590080    \n",
            "                                                                 \n",
            " block3_conv3 (Conv2D)       (None, None, None, 256)   590080    \n",
            "                                                                 \n",
            " block3_pool (MaxPooling2D)  (None, None, None, 256)   0         \n",
            "                                                                 \n",
            " block4_conv1 (Conv2D)       (None, None, None, 512)   1180160   \n",
            "                                                                 \n",
            " block4_conv2 (Conv2D)       (None, None, None, 512)   2359808   \n",
            "                                                                 \n",
            " block4_conv3 (Conv2D)       (None, None, None, 512)   2359808   \n",
            "                                                                 \n",
            " block4_pool (MaxPooling2D)  (None, None, None, 512)   0         \n",
            "                                                                 \n",
            " block5_conv1 (Conv2D)       (None, None, None, 512)   2359808   \n",
            "                                                                 \n",
            " block5_conv2 (Conv2D)       (None, None, None, 512)   2359808   \n",
            "                                                                 \n",
            " block5_conv3 (Conv2D)       (None, None, None, 512)   2359808   \n",
            "                                                                 \n",
            " block5_pool (MaxPooling2D)  (None, None, None, 512)   0         \n",
            "                                                                 \n",
            "=================================================================\n",
            "Total params: 14,714,688\n",
            "Trainable params: 0\n",
            "Non-trainable params: 14,714,688\n",
            "_________________________________________________________________\n"
          ]
        }
      ]
    },
    {
      "cell_type": "code",
      "source": [
        "# data augmentation\n",
        "from tensorflow.keras.layers import RandomFlip, RandomRotation, RandomZoom\n",
        "from tensorflow.keras.models import Sequential\n",
        "\n",
        "data_aug = Sequential([\n",
        "    RandomFlip(\"horizontal\"),\n",
        "    RandomRotation(0.1),\n",
        "    RandomZoom(0.2)\n",
        "])"
      ],
      "metadata": {
        "id": "AllGJJ-cP8KV"
      },
      "execution_count": 10,
      "outputs": []
    },
    {
      "cell_type": "code",
      "source": [
        "# stacking model\n",
        "from tensorflow.keras.models import Model\n",
        "from tensorflow.keras.layers import Input, Dense, Flatten, Dropout\n",
        "\n",
        "inputs = Input(shape=(180, 180, 3))\n",
        "x = data_aug(inputs) # data augementation\n",
        "x = vgg16.preprocess_input(x) # vgg16 value scaling\n",
        "x = conv_base(x) # vgg16 features\n",
        "x = Flatten()(x)\n",
        "x = Dense(256, activation=\"relu\")(x)\n",
        "x = Dropout(0.5)(x)\n",
        "outputs = Dense(1, activation=\"sigmoid\")(x)\n",
        "\n",
        "model = Model(inputs=inputs, outputs=outputs)\n",
        "\n",
        "model.compile(optimizer=\"rmsprop\",\n",
        "              loss=\"binary_crossentropy\",\n",
        "              metrics=[\"accuracy\"])"
      ],
      "metadata": {
        "id": "ewxmjtbZQ8OF"
      },
      "execution_count": 11,
      "outputs": []
    },
    {
      "cell_type": "code",
      "source": [
        "model.fit(train_data,\n",
        "          epochs=50,\n",
        "          validation_data=val_data\n",
        ")"
      ],
      "metadata": {
        "id": "qzTQyUYPTd7a",
        "colab": {
          "base_uri": "https://localhost:8080/"
        },
        "outputId": "96943923-cf04-4c8a-aeab-2440e5a1cec1"
      },
      "execution_count": 12,
      "outputs": [
        {
          "output_type": "stream",
          "name": "stdout",
          "text": [
            "Epoch 1/50\n",
            "63/63 [==============================] - 28s 198ms/step - loss: 4.0034 - accuracy: 0.8920 - val_loss: 0.5972 - val_accuracy: 0.9670\n",
            "Epoch 2/50\n",
            "63/63 [==============================] - 11s 167ms/step - loss: 1.0258 - accuracy: 0.9330 - val_loss: 0.9266 - val_accuracy: 0.9520\n",
            "Epoch 3/50\n",
            "63/63 [==============================] - 11s 168ms/step - loss: 0.6223 - accuracy: 0.9455 - val_loss: 0.2447 - val_accuracy: 0.9780\n",
            "Epoch 4/50\n",
            "63/63 [==============================] - 11s 168ms/step - loss: 0.5371 - accuracy: 0.9540 - val_loss: 0.2929 - val_accuracy: 0.9770\n",
            "Epoch 5/50\n",
            "63/63 [==============================] - 11s 168ms/step - loss: 0.3619 - accuracy: 0.9710 - val_loss: 0.3214 - val_accuracy: 0.9780\n",
            "Epoch 6/50\n",
            "63/63 [==============================] - 11s 169ms/step - loss: 0.4853 - accuracy: 0.9600 - val_loss: 0.4811 - val_accuracy: 0.9700\n",
            "Epoch 7/50\n",
            "63/63 [==============================] - 11s 170ms/step - loss: 0.3475 - accuracy: 0.9640 - val_loss: 1.3309 - val_accuracy: 0.9470\n",
            "Epoch 8/50\n",
            "63/63 [==============================] - 11s 170ms/step - loss: 0.4141 - accuracy: 0.9615 - val_loss: 0.1948 - val_accuracy: 0.9780\n",
            "Epoch 9/50\n",
            "63/63 [==============================] - 11s 171ms/step - loss: 0.3448 - accuracy: 0.9650 - val_loss: 0.3069 - val_accuracy: 0.9760\n",
            "Epoch 10/50\n",
            "63/63 [==============================] - 11s 172ms/step - loss: 0.4015 - accuracy: 0.9730 - val_loss: 0.2887 - val_accuracy: 0.9790\n",
            "Epoch 11/50\n",
            "63/63 [==============================] - 11s 172ms/step - loss: 0.3336 - accuracy: 0.9735 - val_loss: 0.7771 - val_accuracy: 0.9650\n",
            "Epoch 12/50\n",
            "63/63 [==============================] - 11s 178ms/step - loss: 0.3198 - accuracy: 0.9700 - val_loss: 0.2436 - val_accuracy: 0.9810\n",
            "Epoch 13/50\n",
            "63/63 [==============================] - 11s 173ms/step - loss: 0.2931 - accuracy: 0.9775 - val_loss: 0.3729 - val_accuracy: 0.9780\n",
            "Epoch 14/50\n",
            "63/63 [==============================] - 11s 172ms/step - loss: 0.3138 - accuracy: 0.9745 - val_loss: 0.3115 - val_accuracy: 0.9780\n",
            "Epoch 15/50\n",
            "63/63 [==============================] - 11s 172ms/step - loss: 0.3595 - accuracy: 0.9765 - val_loss: 0.4269 - val_accuracy: 0.9810\n",
            "Epoch 16/50\n",
            "63/63 [==============================] - 11s 172ms/step - loss: 0.2017 - accuracy: 0.9815 - val_loss: 0.4571 - val_accuracy: 0.9770\n",
            "Epoch 17/50\n",
            "63/63 [==============================] - 11s 174ms/step - loss: 0.2606 - accuracy: 0.9825 - val_loss: 0.4436 - val_accuracy: 0.9710\n",
            "Epoch 18/50\n",
            "63/63 [==============================] - 11s 173ms/step - loss: 0.1658 - accuracy: 0.9835 - val_loss: 0.3444 - val_accuracy: 0.9740\n",
            "Epoch 19/50\n",
            "63/63 [==============================] - 11s 173ms/step - loss: 0.1557 - accuracy: 0.9830 - val_loss: 0.2276 - val_accuracy: 0.9800\n",
            "Epoch 20/50\n",
            "63/63 [==============================] - 11s 174ms/step - loss: 0.1476 - accuracy: 0.9860 - val_loss: 0.2833 - val_accuracy: 0.9820\n",
            "Epoch 21/50\n",
            "63/63 [==============================] - 11s 174ms/step - loss: 0.2123 - accuracy: 0.9810 - val_loss: 0.3725 - val_accuracy: 0.9740\n",
            "Epoch 22/50\n",
            "63/63 [==============================] - 11s 174ms/step - loss: 0.1298 - accuracy: 0.9870 - val_loss: 0.3544 - val_accuracy: 0.9730\n",
            "Epoch 23/50\n",
            "63/63 [==============================] - 11s 174ms/step - loss: 0.1149 - accuracy: 0.9885 - val_loss: 0.2767 - val_accuracy: 0.9780\n",
            "Epoch 24/50\n",
            "63/63 [==============================] - 11s 173ms/step - loss: 0.1313 - accuracy: 0.9855 - val_loss: 0.3226 - val_accuracy: 0.9820\n",
            "Epoch 25/50\n",
            "63/63 [==============================] - 11s 174ms/step - loss: 0.1957 - accuracy: 0.9865 - val_loss: 0.3609 - val_accuracy: 0.9800\n",
            "Epoch 26/50\n",
            "63/63 [==============================] - 11s 175ms/step - loss: 0.1378 - accuracy: 0.9880 - val_loss: 0.4054 - val_accuracy: 0.9780\n",
            "Epoch 27/50\n",
            "63/63 [==============================] - 11s 175ms/step - loss: 0.1834 - accuracy: 0.9865 - val_loss: 0.2859 - val_accuracy: 0.9780\n",
            "Epoch 28/50\n",
            "63/63 [==============================] - 11s 175ms/step - loss: 0.1510 - accuracy: 0.9870 - val_loss: 0.3379 - val_accuracy: 0.9800\n",
            "Epoch 29/50\n",
            "63/63 [==============================] - 11s 176ms/step - loss: 0.1118 - accuracy: 0.9900 - val_loss: 0.2725 - val_accuracy: 0.9800\n",
            "Epoch 30/50\n",
            "63/63 [==============================] - 11s 177ms/step - loss: 0.0590 - accuracy: 0.9925 - val_loss: 0.3096 - val_accuracy: 0.9820\n",
            "Epoch 31/50\n",
            "63/63 [==============================] - 11s 176ms/step - loss: 0.1395 - accuracy: 0.9855 - val_loss: 0.3717 - val_accuracy: 0.9810\n",
            "Epoch 32/50\n",
            "63/63 [==============================] - 11s 177ms/step - loss: 0.1238 - accuracy: 0.9895 - val_loss: 0.2790 - val_accuracy: 0.9840\n",
            "Epoch 33/50\n",
            "63/63 [==============================] - 11s 177ms/step - loss: 0.0929 - accuracy: 0.9905 - val_loss: 0.3104 - val_accuracy: 0.9870\n",
            "Epoch 34/50\n",
            "63/63 [==============================] - 11s 178ms/step - loss: 0.1445 - accuracy: 0.9890 - val_loss: 0.5704 - val_accuracy: 0.9810\n",
            "Epoch 35/50\n",
            "63/63 [==============================] - 12s 180ms/step - loss: 0.1517 - accuracy: 0.9875 - val_loss: 0.5417 - val_accuracy: 0.9790\n",
            "Epoch 36/50\n",
            "63/63 [==============================] - 11s 177ms/step - loss: 0.1755 - accuracy: 0.9885 - val_loss: 0.3629 - val_accuracy: 0.9800\n",
            "Epoch 37/50\n",
            "63/63 [==============================] - 11s 178ms/step - loss: 0.0807 - accuracy: 0.9935 - val_loss: 0.5094 - val_accuracy: 0.9800\n",
            "Epoch 38/50\n",
            "63/63 [==============================] - 11s 177ms/step - loss: 0.1942 - accuracy: 0.9865 - val_loss: 0.4549 - val_accuracy: 0.9790\n",
            "Epoch 39/50\n",
            "63/63 [==============================] - 11s 176ms/step - loss: 0.0907 - accuracy: 0.9900 - val_loss: 0.4804 - val_accuracy: 0.9820\n",
            "Epoch 40/50\n",
            "63/63 [==============================] - 11s 175ms/step - loss: 0.0989 - accuracy: 0.9925 - val_loss: 0.4462 - val_accuracy: 0.9800\n",
            "Epoch 41/50\n",
            "63/63 [==============================] - 11s 176ms/step - loss: 0.0848 - accuracy: 0.9905 - val_loss: 0.4029 - val_accuracy: 0.9790\n",
            "Epoch 42/50\n",
            "63/63 [==============================] - 11s 177ms/step - loss: 0.0651 - accuracy: 0.9935 - val_loss: 0.4310 - val_accuracy: 0.9810\n",
            "Epoch 43/50\n",
            "63/63 [==============================] - 11s 176ms/step - loss: 0.1499 - accuracy: 0.9895 - val_loss: 0.5354 - val_accuracy: 0.9830\n",
            "Epoch 44/50\n",
            "63/63 [==============================] - 11s 175ms/step - loss: 0.0951 - accuracy: 0.9925 - val_loss: 0.4719 - val_accuracy: 0.9800\n",
            "Epoch 45/50\n",
            "63/63 [==============================] - 11s 176ms/step - loss: 0.0814 - accuracy: 0.9935 - val_loss: 0.4681 - val_accuracy: 0.9820\n",
            "Epoch 46/50\n",
            "63/63 [==============================] - 11s 177ms/step - loss: 0.0866 - accuracy: 0.9915 - val_loss: 0.4133 - val_accuracy: 0.9830\n",
            "Epoch 47/50\n",
            "63/63 [==============================] - 11s 176ms/step - loss: 0.1199 - accuracy: 0.9890 - val_loss: 0.4905 - val_accuracy: 0.9810\n",
            "Epoch 48/50\n",
            "63/63 [==============================] - 12s 176ms/step - loss: 0.0858 - accuracy: 0.9925 - val_loss: 0.4888 - val_accuracy: 0.9810\n",
            "Epoch 49/50\n",
            "63/63 [==============================] - 11s 175ms/step - loss: 0.0914 - accuracy: 0.9910 - val_loss: 0.3440 - val_accuracy: 0.9830\n",
            "Epoch 50/50\n",
            "63/63 [==============================] - 11s 176ms/step - loss: 0.0810 - accuracy: 0.9915 - val_loss: 0.3132 - val_accuracy: 0.9810\n"
          ]
        },
        {
          "output_type": "execute_result",
          "data": {
            "text/plain": [
              "<keras.callbacks.History at 0x7fac40eb7b90>"
            ]
          },
          "metadata": {},
          "execution_count": 12
        }
      ]
    },
    {
      "cell_type": "markdown",
      "source": [
        "# Fine-tune the model"
      ],
      "metadata": {
        "id": "nmvCmVRiX8q4"
      }
    },
    {
      "cell_type": "code",
      "source": [
        "# freeze all layers until the foruth from last\n",
        "conv_base.trainable = True\n",
        "for layer in conv_base.layers[:-4]:\n",
        "    layer.trainable = False"
      ],
      "metadata": {
        "id": "IOLmSGkqTqRi"
      },
      "execution_count": 13,
      "outputs": []
    },
    {
      "cell_type": "code",
      "source": [
        "from tensorflow.keras.callbacks import ModelCheckpoint\n",
        "\n",
        "MODEL_PATH = \"fine-tuned-model.keras\"\n",
        "\n",
        "callbacks = [\n",
        "    ModelCheckpoint(\n",
        "        filepath=MODEL_PATH,\n",
        "        save_best_only=True,\n",
        "        monitor=\"val_loss\"\n",
        "    )\n",
        "]"
      ],
      "metadata": {
        "id": "98wPwntkYIQv"
      },
      "execution_count": 14,
      "outputs": []
    },
    {
      "cell_type": "code",
      "source": [
        "from tensorflow.keras.optimizers import RMSprop\n",
        "\n",
        "model.compile(optimizer=RMSprop(learning_rate=1e-5),\n",
        "              loss=\"binary_crossentropy\",\n",
        "              metrics=[\"accuracy\"])"
      ],
      "metadata": {
        "id": "1lWiewuHYSxe"
      },
      "execution_count": 17,
      "outputs": []
    },
    {
      "cell_type": "code",
      "source": [
        "model.fit(train_data, \n",
        "          epochs=30,\n",
        "          validation_data=val_data,\n",
        "          callbacks=callbacks)"
      ],
      "metadata": {
        "id": "d23TlzzHYz3H",
        "colab": {
          "base_uri": "https://localhost:8080/"
        },
        "outputId": "b9f75d7e-0a23-4612-b9b2-c49123dd22bd"
      },
      "execution_count": 19,
      "outputs": [
        {
          "output_type": "stream",
          "name": "stdout",
          "text": [
            "Epoch 1/30\n",
            "63/63 [==============================] - 13s 196ms/step - loss: 0.0305 - accuracy: 0.9960 - val_loss: 0.3045 - val_accuracy: 0.9860\n",
            "Epoch 2/30\n",
            "63/63 [==============================] - 12s 189ms/step - loss: 0.0783 - accuracy: 0.9960 - val_loss: 0.3102 - val_accuracy: 0.9810\n",
            "Epoch 3/30\n",
            "63/63 [==============================] - 12s 190ms/step - loss: 0.0520 - accuracy: 0.9950 - val_loss: 0.4198 - val_accuracy: 0.9800\n",
            "Epoch 4/30\n",
            "63/63 [==============================] - 12s 194ms/step - loss: 0.0563 - accuracy: 0.9945 - val_loss: 0.2815 - val_accuracy: 0.9830\n",
            "Epoch 5/30\n",
            "63/63 [==============================] - 12s 190ms/step - loss: 0.0685 - accuracy: 0.9945 - val_loss: 0.3106 - val_accuracy: 0.9820\n",
            "Epoch 6/30\n",
            "63/63 [==============================] - 13s 197ms/step - loss: 0.0425 - accuracy: 0.9970 - val_loss: 0.3847 - val_accuracy: 0.9840\n",
            "Epoch 7/30\n",
            "63/63 [==============================] - 12s 191ms/step - loss: 0.0602 - accuracy: 0.9970 - val_loss: 0.4149 - val_accuracy: 0.9800\n",
            "Epoch 8/30\n",
            "63/63 [==============================] - 12s 192ms/step - loss: 0.0313 - accuracy: 0.9945 - val_loss: 0.3290 - val_accuracy: 0.9820\n",
            "Epoch 9/30\n",
            "63/63 [==============================] - 12s 192ms/step - loss: 0.0254 - accuracy: 0.9955 - val_loss: 0.3680 - val_accuracy: 0.9860\n",
            "Epoch 10/30\n",
            "63/63 [==============================] - 12s 190ms/step - loss: 0.0411 - accuracy: 0.9960 - val_loss: 0.3661 - val_accuracy: 0.9800\n",
            "Epoch 11/30\n",
            "63/63 [==============================] - 12s 192ms/step - loss: 0.0068 - accuracy: 0.9985 - val_loss: 0.3502 - val_accuracy: 0.9800\n",
            "Epoch 12/30\n",
            "63/63 [==============================] - 12s 191ms/step - loss: 0.0678 - accuracy: 0.9935 - val_loss: 0.4054 - val_accuracy: 0.9810\n",
            "Epoch 13/30\n",
            "63/63 [==============================] - 12s 191ms/step - loss: 0.0180 - accuracy: 0.9965 - val_loss: 0.3926 - val_accuracy: 0.9780\n",
            "Epoch 14/30\n",
            "63/63 [==============================] - 12s 192ms/step - loss: 0.0456 - accuracy: 0.9945 - val_loss: 0.3313 - val_accuracy: 0.9820\n",
            "Epoch 15/30\n",
            "63/63 [==============================] - 12s 194ms/step - loss: 0.0483 - accuracy: 0.9955 - val_loss: 0.3334 - val_accuracy: 0.9840\n",
            "Epoch 16/30\n",
            "63/63 [==============================] - 12s 194ms/step - loss: 0.0455 - accuracy: 0.9945 - val_loss: 0.3596 - val_accuracy: 0.9840\n",
            "Epoch 17/30\n",
            "63/63 [==============================] - 12s 193ms/step - loss: 0.0485 - accuracy: 0.9955 - val_loss: 0.3797 - val_accuracy: 0.9820\n",
            "Epoch 18/30\n",
            "63/63 [==============================] - 13s 198ms/step - loss: 0.0117 - accuracy: 0.9965 - val_loss: 0.3464 - val_accuracy: 0.9810\n",
            "Epoch 19/30\n",
            "63/63 [==============================] - 13s 196ms/step - loss: 0.0264 - accuracy: 0.9955 - val_loss: 0.3763 - val_accuracy: 0.9810\n",
            "Epoch 20/30\n",
            "63/63 [==============================] - 12s 194ms/step - loss: 0.0171 - accuracy: 0.9980 - val_loss: 0.3968 - val_accuracy: 0.9780\n",
            "Epoch 21/30\n",
            "63/63 [==============================] - 12s 195ms/step - loss: 0.0211 - accuracy: 0.9965 - val_loss: 0.4063 - val_accuracy: 0.9790\n",
            "Epoch 22/30\n",
            "63/63 [==============================] - 12s 195ms/step - loss: 0.0185 - accuracy: 0.9970 - val_loss: 0.7177 - val_accuracy: 0.9740\n",
            "Epoch 23/30\n",
            "63/63 [==============================] - 12s 194ms/step - loss: 0.0222 - accuracy: 0.9970 - val_loss: 0.4168 - val_accuracy: 0.9810\n",
            "Epoch 24/30\n",
            "63/63 [==============================] - 13s 196ms/step - loss: 0.0423 - accuracy: 0.9965 - val_loss: 0.3628 - val_accuracy: 0.9790\n",
            "Epoch 25/30\n",
            "63/63 [==============================] - 13s 196ms/step - loss: 0.0327 - accuracy: 0.9965 - val_loss: 0.3620 - val_accuracy: 0.9830\n",
            "Epoch 26/30\n",
            "63/63 [==============================] - 12s 193ms/step - loss: 0.0025 - accuracy: 0.9990 - val_loss: 0.3335 - val_accuracy: 0.9840\n",
            "Epoch 27/30\n",
            "63/63 [==============================] - 12s 192ms/step - loss: 0.0194 - accuracy: 0.9980 - val_loss: 0.3239 - val_accuracy: 0.9820\n",
            "Epoch 28/30\n",
            "63/63 [==============================] - 12s 191ms/step - loss: 0.0103 - accuracy: 0.9975 - val_loss: 0.3895 - val_accuracy: 0.9840\n",
            "Epoch 29/30\n",
            "63/63 [==============================] - 12s 194ms/step - loss: 0.0190 - accuracy: 0.9980 - val_loss: 0.4298 - val_accuracy: 0.9840\n",
            "Epoch 30/30\n",
            "63/63 [==============================] - 12s 192ms/step - loss: 0.0318 - accuracy: 0.9980 - val_loss: 0.5416 - val_accuracy: 0.9790\n"
          ]
        },
        {
          "output_type": "execute_result",
          "data": {
            "text/plain": [
              "<keras.callbacks.History at 0x7faba45c0650>"
            ]
          },
          "metadata": {},
          "execution_count": 19
        }
      ]
    },
    {
      "cell_type": "code",
      "source": [
        "from tensorflow.keras.models import load_model\n",
        "\n",
        "test_model = load_model(MODEL_PATH)\n",
        "test_loss, test_acc = test_model.evaluate(test_data)\n",
        "\n",
        "print(f\"Test accuracy: {test_acc}\")"
      ],
      "metadata": {
        "colab": {
          "base_uri": "https://localhost:8080/"
        },
        "id": "baYdDjMOADnM",
        "outputId": "4b110f07-ec7c-4bea-cb26-27ad9cc2e0a2"
      },
      "execution_count": 20,
      "outputs": [
        {
          "output_type": "stream",
          "name": "stdout",
          "text": [
            "63/63 [==============================] - 7s 111ms/step - loss: 0.5339 - accuracy: 0.9770\n",
            "Test accuracy: 0.9769999980926514\n"
          ]
        }
      ]
    },
    {
      "cell_type": "code",
      "source": [
        ""
      ],
      "metadata": {
        "id": "X-hDlGESBlWH"
      },
      "execution_count": null,
      "outputs": []
    }
  ]
}
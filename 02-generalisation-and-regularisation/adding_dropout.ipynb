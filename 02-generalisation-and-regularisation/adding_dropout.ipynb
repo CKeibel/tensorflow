{
  "nbformat": 4,
  "nbformat_minor": 0,
  "metadata": {
    "colab": {
      "name": "adding_dropout.ipynb",
      "provenance": [],
      "authorship_tag": "ABX9TyMlcmVC+8JS/GIYdG/VXP7f"
    },
    "kernelspec": {
      "name": "python3",
      "display_name": "Python 3"
    },
    "language_info": {
      "name": "python"
    }
  },
  "cells": [
    {
      "cell_type": "code",
      "execution_count": 1,
      "metadata": {
        "colab": {
          "base_uri": "https://localhost:8080/"
        },
        "id": "hCwdxtbEXpyY",
        "outputId": "a57c93c4-4553-42d9-88dd-0ec5bf9eb5fc"
      },
      "outputs": [
        {
          "output_type": "stream",
          "name": "stdout",
          "text": [
            "Downloading data from https://storage.googleapis.com/tensorflow/tf-keras-datasets/imdb.npz\n",
            "17465344/17464789 [==============================] - 0s 0us/step\n",
            "17473536/17464789 [==============================] - 0s 0us/step\n"
          ]
        }
      ],
      "source": [
        "from tensorflow.keras.datasets import imdb\n",
        "\n",
        "(x_train, y_train), (x_test, y_test) = imdb.load_data(num_words=10_000)"
      ]
    },
    {
      "cell_type": "code",
      "source": [
        "import numpy as np\n",
        "\n",
        "def vectorize_seq(sequences, dimensions=10_000):\n",
        "    results = np.zeros(shape=(len(sequences), dimensions))\n",
        "    for i, sequence in enumerate(sequences):\n",
        "        results[i, sequence] = 1\n",
        "    return results"
      ],
      "metadata": {
        "id": "i511AT5nYGFU"
      },
      "execution_count": 2,
      "outputs": []
    },
    {
      "cell_type": "code",
      "source": [
        "x_train = vectorize_seq(x_train)\n",
        "x_test = vectorize_seq(x_test)"
      ],
      "metadata": {
        "id": "CTLPTvK-Yl4h"
      },
      "execution_count": 3,
      "outputs": []
    },
    {
      "cell_type": "code",
      "source": [
        "print(f\"Shape: {x_train.shape}\")\n",
        "print(f\"Datapoint: {x_train[0]}\")"
      ],
      "metadata": {
        "colab": {
          "base_uri": "https://localhost:8080/"
        },
        "id": "98t7f2TGYuMG",
        "outputId": "6f16c6c2-9309-4e8e-f3f9-9851986a5a70"
      },
      "execution_count": 4,
      "outputs": [
        {
          "output_type": "stream",
          "name": "stdout",
          "text": [
            "Shape: (25000, 10000)\n",
            "Datapoint: [0. 1. 1. ... 0. 0. 0.]\n"
          ]
        }
      ]
    },
    {
      "cell_type": "code",
      "source": [
        "# model without dropout\n",
        "from tensorflow.keras.layers import Dense\n",
        "from tensorflow.keras.models import Sequential\n",
        "\n",
        "model = Sequential([\n",
        "    Dense(16, activation=\"relu\"),\n",
        "    Dense(16, activation=\"relu\"),\n",
        "    Dense(1, activation=\"sigmoid\")\n",
        "    ])\n",
        "\n",
        "model.compile(optimizer=\"rmsprop\",\n",
        "              loss=\"binary_crossentropy\",\n",
        "              metrics=[\"accuracy\"])"
      ],
      "metadata": {
        "id": "tJaJPFkdY4mg"
      },
      "execution_count": 5,
      "outputs": []
    },
    {
      "cell_type": "code",
      "source": [
        "res = model.fit(x_train,\n",
        "                y_train,\n",
        "                epochs=20,\n",
        "                batch_size=512,\n",
        "                validation_split=0.2)"
      ],
      "metadata": {
        "colab": {
          "base_uri": "https://localhost:8080/"
        },
        "id": "SUCq-dVAZm5A",
        "outputId": "ce196198-5e8f-4ae4-87ff-7c18cb105aaf"
      },
      "execution_count": 6,
      "outputs": [
        {
          "output_type": "stream",
          "name": "stdout",
          "text": [
            "Epoch 1/20\n",
            "40/40 [==============================] - 3s 40ms/step - loss: 0.4588 - accuracy: 0.8142 - val_loss: 0.3322 - val_accuracy: 0.8856\n",
            "Epoch 2/20\n",
            "40/40 [==============================] - 1s 32ms/step - loss: 0.2651 - accuracy: 0.9073 - val_loss: 0.2788 - val_accuracy: 0.8934\n",
            "Epoch 3/20\n",
            "40/40 [==============================] - 1s 32ms/step - loss: 0.1998 - accuracy: 0.9298 - val_loss: 0.3171 - val_accuracy: 0.8774\n",
            "Epoch 4/20\n",
            "40/40 [==============================] - 1s 32ms/step - loss: 0.1644 - accuracy: 0.9431 - val_loss: 0.2791 - val_accuracy: 0.8902\n",
            "Epoch 5/20\n",
            "40/40 [==============================] - 1s 32ms/step - loss: 0.1333 - accuracy: 0.9548 - val_loss: 0.2986 - val_accuracy: 0.8882\n",
            "Epoch 6/20\n",
            "40/40 [==============================] - 1s 32ms/step - loss: 0.1142 - accuracy: 0.9618 - val_loss: 0.3145 - val_accuracy: 0.8862\n",
            "Epoch 7/20\n",
            "40/40 [==============================] - 1s 31ms/step - loss: 0.0988 - accuracy: 0.9688 - val_loss: 0.3348 - val_accuracy: 0.8860\n",
            "Epoch 8/20\n",
            "40/40 [==============================] - 1s 33ms/step - loss: 0.0810 - accuracy: 0.9750 - val_loss: 0.4094 - val_accuracy: 0.8706\n",
            "Epoch 9/20\n",
            "40/40 [==============================] - 1s 32ms/step - loss: 0.0717 - accuracy: 0.9780 - val_loss: 0.4454 - val_accuracy: 0.8682\n",
            "Epoch 10/20\n",
            "40/40 [==============================] - 1s 32ms/step - loss: 0.0591 - accuracy: 0.9827 - val_loss: 0.4136 - val_accuracy: 0.8774\n",
            "Epoch 11/20\n",
            "40/40 [==============================] - 1s 31ms/step - loss: 0.0456 - accuracy: 0.9886 - val_loss: 0.4519 - val_accuracy: 0.8748\n",
            "Epoch 12/20\n",
            "40/40 [==============================] - 1s 32ms/step - loss: 0.0400 - accuracy: 0.9888 - val_loss: 0.4757 - val_accuracy: 0.8718\n",
            "Epoch 13/20\n",
            "40/40 [==============================] - 1s 32ms/step - loss: 0.0327 - accuracy: 0.9924 - val_loss: 0.5105 - val_accuracy: 0.8742\n",
            "Epoch 14/20\n",
            "40/40 [==============================] - 1s 31ms/step - loss: 0.0261 - accuracy: 0.9936 - val_loss: 0.5623 - val_accuracy: 0.8692\n",
            "Epoch 15/20\n",
            "40/40 [==============================] - 1s 31ms/step - loss: 0.0216 - accuracy: 0.9948 - val_loss: 0.5737 - val_accuracy: 0.8698\n",
            "Epoch 16/20\n",
            "40/40 [==============================] - 1s 31ms/step - loss: 0.0157 - accuracy: 0.9970 - val_loss: 0.6028 - val_accuracy: 0.8702\n",
            "Epoch 17/20\n",
            "40/40 [==============================] - 1s 32ms/step - loss: 0.0135 - accuracy: 0.9970 - val_loss: 0.6313 - val_accuracy: 0.8702\n",
            "Epoch 18/20\n",
            "40/40 [==============================] - 1s 31ms/step - loss: 0.0110 - accuracy: 0.9979 - val_loss: 0.6638 - val_accuracy: 0.8692\n",
            "Epoch 19/20\n",
            "40/40 [==============================] - 1s 31ms/step - loss: 0.0100 - accuracy: 0.9975 - val_loss: 0.6971 - val_accuracy: 0.8674\n",
            "Epoch 20/20\n",
            "40/40 [==============================] - 1s 31ms/step - loss: 0.0040 - accuracy: 0.9998 - val_loss: 0.9188 - val_accuracy: 0.8474\n"
          ]
        }
      ]
    },
    {
      "cell_type": "code",
      "source": [
        "eval = model.evaluate(x_test,\n",
        "                      y_test,\n",
        "                      batch_size=512)"
      ],
      "metadata": {
        "colab": {
          "base_uri": "https://localhost:8080/"
        },
        "id": "z-9ECUnfaPiz",
        "outputId": "e85b0d2b-7289-49d7-dbc8-0149454ee753"
      },
      "execution_count": 7,
      "outputs": [
        {
          "output_type": "stream",
          "name": "stdout",
          "text": [
            "49/49 [==============================] - 1s 12ms/step - loss: 0.9548 - accuracy: 0.8369\n"
          ]
        }
      ]
    },
    {
      "cell_type": "code",
      "source": [
        "eval"
      ],
      "metadata": {
        "colab": {
          "base_uri": "https://localhost:8080/"
        },
        "id": "zW018QKLbAQM",
        "outputId": "db4e2a0b-a4ec-4d3e-8a59-22c9bf2cca09"
      },
      "execution_count": 9,
      "outputs": [
        {
          "output_type": "execute_result",
          "data": {
            "text/plain": [
              "[0.9548240900039673, 0.8369200229644775]"
            ]
          },
          "metadata": {},
          "execution_count": 9
        }
      ]
    },
    {
      "cell_type": "code",
      "source": [
        "val_loss = res.history[\"val_loss\"]\n",
        "\n",
        "x_range= range(1, len(val_loss) +1)\n",
        "\n",
        "import matplotlib.pyplot as plt\n",
        "plt.plot(x_range, val_loss, \"b\", label=\"Validation loss\")\n",
        "plt.scatter(20, eval[1], label=\"Evaluation loss\")\n",
        "plt.xlabel(\"Epochs\")\n",
        "plt.ylabel(\"Loss\")\n",
        "plt.legend()\n",
        "plt.show()"
      ],
      "metadata": {
        "colab": {
          "base_uri": "https://localhost:8080/",
          "height": 279
        },
        "id": "rp42A6ghZxhG",
        "outputId": "d25e880f-24b8-4862-9d04-96d9bf17c804"
      },
      "execution_count": 11,
      "outputs": [
        {
          "output_type": "display_data",
          "data": {
            "text/plain": [
              "<Figure size 432x288 with 1 Axes>"
            ],
            "image/png": "[encoded data removed]"
          },
          "metadata": {
            "needs_background": "light"
          }
        }
      ]
    },
    {
      "cell_type": "code",
      "source": [
        "# train model with dropout\n",
        "from tensorflow.keras.layers import Dropout\n",
        "\n",
        "model = Sequential([\n",
        "    Dense(16, activation=\"relu\"),\n",
        "    Dropout(0.5),\n",
        "    Dense(16, activation=\"relu\"),\n",
        "    Dropout(0.5),\n",
        "    Dense(1, activation=\"sigmoid\")\n",
        "])\n",
        "\n",
        "model.compile(optimizer=\"rmsprop\",\n",
        "              loss=\"binary_crossentropy\",\n",
        "              metrics=[\"accuracy\"])"
      ],
      "metadata": {
        "id": "7OKb26EBbhst"
      },
      "execution_count": 12,
      "outputs": []
    },
    {
      "cell_type": "code",
      "source": [
        "res_dr = model.fit(x_train,\n",
        "                   y_train,\n",
        "                   epochs=20,\n",
        "                   batch_size=512,\n",
        "                   validation_split=0.2)"
      ],
      "metadata": {
        "colab": {
          "base_uri": "https://localhost:8080/"
        },
        "id": "u75Jlq9Wccsu",
        "outputId": "a063237e-5488-4eb6-850f-4c592ebf8296"
      },
      "execution_count": 13,
      "outputs": [
        {
          "output_type": "stream",
          "name": "stdout",
          "text": [
            "Epoch 1/20\n",
            "40/40 [==============================] - 4s 56ms/step - loss: 0.6027 - accuracy: 0.6718 - val_loss: 0.4465 - val_accuracy: 0.8624\n",
            "Epoch 2/20\n",
            "40/40 [==============================] - 2s 46ms/step - loss: 0.4576 - accuracy: 0.8088 - val_loss: 0.3491 - val_accuracy: 0.8844\n",
            "Epoch 3/20\n",
            "40/40 [==============================] - 2s 48ms/step - loss: 0.3706 - accuracy: 0.8597 - val_loss: 0.3041 - val_accuracy: 0.8836\n",
            "Epoch 4/20\n",
            "40/40 [==============================] - 1s 33ms/step - loss: 0.3166 - accuracy: 0.8879 - val_loss: 0.2788 - val_accuracy: 0.8934\n",
            "Epoch 5/20\n",
            "40/40 [==============================] - 1s 33ms/step - loss: 0.2772 - accuracy: 0.9026 - val_loss: 0.2722 - val_accuracy: 0.8950\n",
            "Epoch 6/20\n",
            "40/40 [==============================] - 1s 33ms/step - loss: 0.2348 - accuracy: 0.9175 - val_loss: 0.2765 - val_accuracy: 0.8934\n",
            "Epoch 7/20\n",
            "40/40 [==============================] - 1s 36ms/step - loss: 0.2118 - accuracy: 0.9285 - val_loss: 0.2968 - val_accuracy: 0.8916\n",
            "Epoch 8/20\n",
            "40/40 [==============================] - 2s 42ms/step - loss: 0.1908 - accuracy: 0.9366 - val_loss: 0.3100 - val_accuracy: 0.8908\n",
            "Epoch 9/20\n",
            "40/40 [==============================] - 2s 43ms/step - loss: 0.1739 - accuracy: 0.9431 - val_loss: 0.3336 - val_accuracy: 0.8920\n",
            "Epoch 10/20\n",
            "40/40 [==============================] - 2s 41ms/step - loss: 0.1573 - accuracy: 0.9477 - val_loss: 0.3450 - val_accuracy: 0.8882\n",
            "Epoch 11/20\n",
            "40/40 [==============================] - 2s 39ms/step - loss: 0.1426 - accuracy: 0.9528 - val_loss: 0.3784 - val_accuracy: 0.8918\n",
            "Epoch 12/20\n",
            "40/40 [==============================] - 2s 42ms/step - loss: 0.1314 - accuracy: 0.9550 - val_loss: 0.4158 - val_accuracy: 0.8882\n",
            "Epoch 13/20\n",
            "40/40 [==============================] - 2s 58ms/step - loss: 0.1267 - accuracy: 0.9570 - val_loss: 0.4265 - val_accuracy: 0.8896\n",
            "Epoch 14/20\n",
            "40/40 [==============================] - 2s 47ms/step - loss: 0.1196 - accuracy: 0.9607 - val_loss: 0.4442 - val_accuracy: 0.8906\n",
            "Epoch 15/20\n",
            "40/40 [==============================] - 2s 41ms/step - loss: 0.1106 - accuracy: 0.9646 - val_loss: 0.4901 - val_accuracy: 0.8884\n",
            "Epoch 16/20\n",
            "40/40 [==============================] - 2s 40ms/step - loss: 0.1055 - accuracy: 0.9654 - val_loss: 0.5292 - val_accuracy: 0.8890\n",
            "Epoch 17/20\n",
            "40/40 [==============================] - 2s 49ms/step - loss: 0.1032 - accuracy: 0.9654 - val_loss: 0.5428 - val_accuracy: 0.8862\n",
            "Epoch 18/20\n",
            "40/40 [==============================] - 2s 47ms/step - loss: 0.1012 - accuracy: 0.9669 - val_loss: 0.5687 - val_accuracy: 0.8904\n",
            "Epoch 19/20\n",
            "40/40 [==============================] - 2s 49ms/step - loss: 0.0957 - accuracy: 0.9673 - val_loss: 0.5763 - val_accuracy: 0.8878\n",
            "Epoch 20/20\n",
            "40/40 [==============================] - 2s 51ms/step - loss: 0.0918 - accuracy: 0.9693 - val_loss: 0.6174 - val_accuracy: 0.8890\n"
          ]
        }
      ]
    },
    {
      "cell_type": "code",
      "source": [
        "eval_dr = model.evaluate(x_test, y_test, batch_size=512)"
      ],
      "metadata": {
        "colab": {
          "base_uri": "https://localhost:8080/"
        },
        "id": "5niyWaW0crBS",
        "outputId": "5554b915-60d6-4ee3-83be-d510f9eedb1c"
      },
      "execution_count": 14,
      "outputs": [
        {
          "output_type": "stream",
          "name": "stdout",
          "text": [
            "49/49 [==============================] - 1s 12ms/step - loss: 0.6401 - accuracy: 0.8735\n"
          ]
        }
      ]
    },
    {
      "cell_type": "code",
      "source": [
        "val_loss_dr = res_dr.history[\"val_loss\"]\n",
        "\n",
        "plt.plot(x_range, val_loss_dr, \"r\", label=\"Validation w dropout\")\n",
        "plt.scatter(20, eval_dr[1], c=\"r\", label=\"Evaluation w dropout\")\n",
        "plt.plot(x_range, val_loss, \"b\", label=\"Validation wo dropout\")\n",
        "plt.scatter(20, eval[1], c=\"b\", label=\"Evaluation wo dropout\")\n",
        "plt.xlabel(\"Epochs\")\n",
        "plt.ylabel(\"Loss\")\n",
        "plt.title(\"Comparision Loss with and without dropout\")\n",
        "plt.legend()\n",
        "plt.show()"
      ],
      "metadata": {
        "colab": {
          "base_uri": "https://localhost:8080/",
          "height": 313
        },
        "id": "ulLvzlgLc3rG",
        "outputId": "4fa2b806-ddbf-4768-f876-3679b138cd97"
      },
      "execution_count": 15,
      "outputs": [
        {
          "output_type": "execute_result",
          "data": {
            "text/plain": [
              "<function matplotlib.pyplot.show>"
            ]
          },
          "metadata": {},
          "execution_count": 15
        },
        {
          "output_type": "display_data",
          "data": {
            "text/plain": [
              "<Figure size 432x288 with 1 Axes>"
            ],
            "image/png": "[encoded data removed]"
          },
          "metadata": {
            "needs_background": "light"
          }
        }
      ]
    },
    {
      "cell_type": "code",
      "source": [
        ""
      ],
      "metadata": {
        "id": "CeRBrHS3eBGJ"
      },
      "execution_count": null,
      "outputs": []
    }
  ]
}
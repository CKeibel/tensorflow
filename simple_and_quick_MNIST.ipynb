{
  "cells": [
    {
      "cell_type": "code",
      "execution_count": null,
      "metadata": {
        "id": "osx29M-hYazp"
      },
      "outputs": [],
      "source": [
        "from tensorflow.keras.datasets.mnist import load_data"
      ]
    },
    {
      "cell_type": "code",
      "execution_count": null,
      "metadata": {
        "colab": {
          "base_uri": "https://localhost:8080/"
        },
        "id": "ihJ4AbyIYoxP",
        "outputId": "779b580b-aa73-4cbd-dc6c-55c44d50bb96"
      },
      "outputs": [
        {
          "name": "stdout",
          "output_type": "stream",
          "text": [
            "Downloading data from https://storage.googleapis.com/tensorflow/tf-keras-datasets/mnist.npz\n",
            "11493376/11490434 [==============================] - 0s 0us/step\n",
            "11501568/11490434 [==============================] - 0s 0us/step\n"
          ]
        }
      ],
      "source": [
        "((x_train, y_train), (x_test, y_test)) = load_data()"
      ]
    },
    {
      "cell_type": "code",
      "execution_count": null,
      "metadata": {
        "colab": {
          "base_uri": "https://localhost:8080/"
        },
        "id": "TZT0k3NZY3Sm",
        "outputId": "6ded6a61-00fa-4a6c-8b81-41fcf8972f64"
      },
      "outputs": [
        {
          "name": "stdout",
          "output_type": "stream",
          "text": [
            "Train: (60000, 28, 28, 1) \n",
            "Test: (10000, 28, 28, 1)\n"
          ]
        }
      ],
      "source": [
        "import numpy as np\n",
        "x_train = np.expand_dims(x_train, axis=-1)\n",
        "x_test = np.expand_dims(x_test, axis=-1)\n",
        "print(f\"Train: {x_train.shape} \\nTest: {x_test.shape}\")"
      ]
    },
    {
      "cell_type": "code",
      "execution_count": null,
      "metadata": {
        "colab": {
          "base_uri": "https://localhost:8080/"
        },
        "id": "wWvMhcCxdAUQ",
        "outputId": "2876cb04-42c2-49a1-ffcf-c72890bb89bd"
      },
      "outputs": [
        {
          "name": "stdout",
          "output_type": "stream",
          "text": [
            "Train: 1.0\n",
            "Test: 1.0\n"
          ]
        }
      ],
      "source": [
        "max = np.max(x_train)\n",
        "x_train = x_train.astype(\"float32\") / max\n",
        "x_test = x_test.astype(\"float32\") / max\n",
        "print(f\"Train: {np.max(x_train)}\\nTest: {np.max(x_test)}\")"
      ]
    },
    {
      "cell_type": "code",
      "execution_count": null,
      "metadata": {
        "colab": {
          "base_uri": "https://localhost:8080/"
        },
        "id": "w3RqBLY9aNZG",
        "outputId": "d7297517-dd13-4999-c76f-66bf4303bdc3"
      },
      "outputs": [
        {
          "name": "stdout",
          "output_type": "stream",
          "text": [
            "Train: (60000, 10) \n",
            "Test: (10000, 10)\n"
          ]
        }
      ],
      "source": [
        "from tensorflow.keras.utils import to_categorical\n",
        "y_train = to_categorical(y_train)\n",
        "y_test = to_categorical(y_test)\n",
        "\n",
        "print(f\"Train: {y_train.shape} \\nTest: {y_test.shape}\")"
      ]
    },
    {
      "cell_type": "code",
      "execution_count": null,
      "metadata": {
        "id": "ezhbBPuxceG0"
      },
      "outputs": [],
      "source": [
        "from tensorflow.keras.models import Model\n",
        "from tensorflow.keras.layers import Conv2D, Dense, Flatten, Input, MaxPool2D"
      ]
    },
    {
      "cell_type": "code",
      "execution_count": null,
      "metadata": {
        "id": "DOw08kTliXcH"
      },
      "outputs": [],
      "source": [
        "input = Input(shape=x_train.shape[1:])\n",
        "x = Conv2D(filters=8, kernel_size=(4, 4), activation=\"relu\", padding=\"same\")(input)\n",
        "x = Conv2D(filters=16, kernel_size=(2, 2), activation=\"relu\", padding=\"same\")(x)\n",
        "x = Conv2D(filters=8, kernel_size=(2, 2), activation=\"relu\")(x)\n",
        "x = MaxPool2D()(x)\n",
        "x = Flatten()(x)\n",
        "output = Dense(units=y_train.shape[1], activation=\"softmax\")(x)\n",
        "\n",
        "model = Model(inputs=input, outputs=output)\n",
        "model.compile(optimizer=\"adam\", loss=\"categorical_crossentropy\", metrics=[\"accuracy\"])"
      ]
    },
    {
      "cell_type": "code",
      "execution_count": null,
      "metadata": {
        "colab": {
          "background_save": true,
          "base_uri": "https://localhost:8080/"
        },
        "id": "wa5XEJZXldy5",
        "outputId": "75942744-bab7-4237-aa5d-a6117aadb7a0"
      },
      "outputs": [
        {
          "name": "stdout",
          "output_type": "stream",
          "text": [
            "Epoch 1/10\n",
            "1875/1875 [==============================] - 58s 31ms/step - loss: 0.2198 - accuracy: 0.9340\n",
            "Epoch 2/10\n",
            "1875/1875 [==============================] - 56s 30ms/step - loss: 0.0768 - accuracy: 0.9766\n",
            "Epoch 3/10\n",
            "1875/1875 [==============================] - 56s 30ms/step - loss: 0.0605 - accuracy: 0.9812\n",
            "Epoch 4/10\n",
            "1875/1875 [==============================] - 57s 31ms/step - loss: 0.0515 - accuracy: 0.9844\n",
            "Epoch 5/10\n",
            "1875/1875 [==============================] - 58s 31ms/step - loss: 0.0453 - accuracy: 0.9863\n",
            "Epoch 6/10\n",
            "1875/1875 [==============================] - 59s 32ms/step - loss: 0.0398 - accuracy: 0.9878\n",
            "Epoch 7/10\n",
            "1875/1875 [==============================] - 57s 31ms/step - loss: 0.0348 - accuracy: 0.9888\n",
            "Epoch 8/10\n",
            "1875/1875 [==============================] - 57s 31ms/step - loss: 0.0320 - accuracy: 0.9897\n",
            "Epoch 9/10\n",
            "1875/1875 [==============================] - 56s 30ms/step - loss: 0.0280 - accuracy: 0.9911\n",
            "Epoch 10/10\n",
            "1875/1875 [==============================] - 57s 30ms/step - loss: 0.0257 - accuracy: 0.9915\n"
          ]
        },
        {
          "data": {
            "text/plain": [
              "<keras.callbacks.History at 0x7f569635c890>"
            ]
          },
          "execution_count": null,
          "metadata": {},
          "output_type": "execute_result"
        }
      ],
      "source": [
        "model.fit(x=x_train, y=y_train, epochs=10, batch_size=128)"
      ]
    },
    {
      "cell_type": "code",
      "execution_count": null,
      "metadata": {
        "colab": {
          "base_uri": "https://localhost:8080/"
        },
        "id": "AZZ2kjTTlu2v",
        "outputId": "e2d5f4cc-b64a-4e1a-a6bf-6ea07daf6c30"
      },
      "outputs": [
        {
          "name": "stdout",
          "output_type": "stream",
          "text": [
            "313/313 [==============================] - 1s 3ms/step - loss: 0.0459 - accuracy: 0.9875\n"
          ]
        },
        {
          "data": {
            "text/plain": [
              "[0.04587263613939285, 0.987500011920929]"
            ]
          },
          "execution_count": 9,
          "metadata": {},
          "output_type": "execute_result"
        }
      ],
      "source": [
        "model.evaluate(x=x_test, y=y_test)"
      ]
    },
    {
      "cell_type": "code",
      "execution_count": null,
      "metadata": {
        "colab": {
          "base_uri": "https://localhost:8080/"
        },
        "id": "heCSXUDwm19l",
        "outputId": "f6a23bbe-00f2-4392-b0c0-77788da95e3d"
      },
      "outputs": [
        {
          "data": {
            "text/plain": [
              "(1, 28, 28, 1)"
            ]
          },
          "execution_count": 13,
          "metadata": {},
          "output_type": "execute_result"
        }
      ],
      "source": [
        "num = x_test[0]\n",
        "num = np.expand_dims(num, axis=0)\n",
        "num.shape"
      ]
    },
    {
      "cell_type": "code",
      "execution_count": null,
      "metadata": {
        "colab": {
          "base_uri": "https://localhost:8080/"
        },
        "id": "KeFoEb9FmkPw",
        "outputId": "8a1aaf59-61cc-4a12-9086-11a7dce2aa71"
      },
      "outputs": [
        {
          "name": "stdout",
          "output_type": "stream",
          "text": [
            "pred: 7\n",
            "ground_truth: 7\n"
          ]
        }
      ],
      "source": [
        "y_pred = model.predict(num)\n",
        "print(f\"pred: {np.argmax(y_pred)}\\nground_truth: {np.argmax(y_test[0])}\")"
      ]
    }
  ],
  "metadata": {
    "accelerator": "GPU",
    "colab": {
      "collapsed_sections": [],
      "name": "simple_and_quick_MNIST.ipynb",
      "provenance": [],
      "authorship_tag": "ABX9TyPefV3NbCFQXGy8fOep4N/J"
    },
    "kernelspec": {
      "display_name": "Python 3",
      "name": "python3"
    },
    "language_info": {
      "name": "python"
    }
  },
  "nbformat": 4,
  "nbformat_minor": 0
}
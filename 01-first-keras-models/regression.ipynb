{
  "nbformat": 4,
  "nbformat_minor": 0,
  "metadata": {
    "colab": {
      "name": "regression.ipynb",
      "provenance": [],
      "authorship_tag": "ABX9TyPftcqsZ2B8B6z/xbvFXvR7"
    },
    "kernelspec": {
      "name": "python3",
      "display_name": "Python 3"
    },
    "language_info": {
      "name": "python"
    }
  },
  "cells": [
    {
      "cell_type": "code",
      "execution_count": 2,
      "metadata": {
        "colab": {
          "base_uri": "https://localhost:8080/"
        },
        "id": "OLH4vPFlempJ",
        "outputId": "05932d5b-6a5c-4829-bf78-d18e653446e7"
      },
      "outputs": [
        {
          "output_type": "stream",
          "name": "stdout",
          "text": [
            "data shape: (404, 13)\n",
            "label shape: (404,)\n"
          ]
        }
      ],
      "source": [
        "# load data\n",
        "from tensorflow.keras.datasets import boston_housing\n",
        "(x_train, y_train), (x_test, y_test) = boston_housing.load_data()\n",
        "\n",
        "print(f\"data shape: {x_train.shape}\\nlabel shape: {y_train.shape}\")"
      ]
    },
    {
      "cell_type": "code",
      "source": [
        "print(f\"first datapoint: {x_train[0]}\")"
      ],
      "metadata": {
        "colab": {
          "base_uri": "https://localhost:8080/"
        },
        "id": "WMe_SmKKg_WK",
        "outputId": "253ed493-2485-453e-e144-b708461e7e18"
      },
      "execution_count": 3,
      "outputs": [
        {
          "output_type": "stream",
          "name": "stdout",
          "text": [
            "first datapoint: [  1.23247   0.        8.14      0.        0.538     6.142    91.7\n",
            "   3.9769    4.      307.       21.      396.9      18.72   ]\n"
          ]
        }
      ]
    },
    {
      "cell_type": "code",
      "source": [
        "# the features have different ranges, so it will be better to normalize the data of every feature\n",
        "mean = x_train.mean(axis=0)\n",
        "std = x_train.std(axis=0)\n",
        "\n",
        "x_train -= mean\n",
        "x_train /= std\n",
        "x_test -= mean\n",
        "x_test /= std\n",
        "\n",
        "print(f\"transformed first datapoint: {x_train[0]}\")"
      ],
      "metadata": {
        "colab": {
          "base_uri": "https://localhost:8080/"
        },
        "id": "gmaKjnQqhrJP",
        "outputId": "49b63d69-dc1a-4fe1-a4b5-a73dd8b6c7ef"
      },
      "execution_count": 4,
      "outputs": [
        {
          "output_type": "stream",
          "name": "stdout",
          "text": [
            "transformed first datapoint: [-0.27224633 -0.48361547 -0.43576161 -0.25683275 -0.1652266  -0.1764426\n",
            "  0.81306188  0.1166983  -0.62624905 -0.59517003  1.14850044  0.44807713\n",
            "  0.8252202 ]\n"
          ]
        }
      ]
    },
    {
      "cell_type": "code",
      "source": [
        "# model\n",
        "from tensorflow.keras.layers import Dense\n",
        "from tensorflow.keras.models import Sequential\n",
        "\n",
        "\n",
        "def build_model():\n",
        "    model = Sequential([\n",
        "        Dense(64, activation=\"relu\"),\n",
        "        Dense(64, activation=\"relu\"),\n",
        "        Dense(1)\n",
        "    ])\n",
        "\n",
        "    model.compile(optimizer=\"rmsprop\", loss=\"mse\", metrics=[\"mae\"])\n",
        "    return model"
      ],
      "metadata": {
        "id": "Put5M1nhimCO"
      },
      "execution_count": 5,
      "outputs": []
    },
    {
      "cell_type": "code",
      "source": [
        "# because of few datapoints in the dataset, we use k-fold cross-validation\n",
        "# to evaluate the model\n",
        "import numpy as np\n",
        "\n",
        "k = 4\n",
        "num_val_samples = len(x_train) // k\n",
        "num_epochs = 500 #100\n",
        "all_mae_histories = []\n",
        "\n",
        "for i in range(k):\n",
        "    print(f\"Processing fold #{i}\")\n",
        "    \n",
        "    # extract validation data\n",
        "    val_data = x_train[(i * num_val_samples):((i+1) * num_val_samples)]\n",
        "    val_targets = y_train[(i * num_val_samples): ((i+1) * num_val_samples)]\n",
        "    \n",
        "    # get remaining data for training\n",
        "    partial_train_data = np.concatenate(\n",
        "        [x_train[: i * num_val_samples],\n",
        "         x_train[(i+1)* num_val_samples:]]\n",
        "    )\n",
        "\n",
        "    partial_train_targets = np.concatenate(\n",
        "        [y_train[: i * num_val_samples],\n",
        "         y_train[(i+1)*num_val_samples:]]\n",
        "    )\n",
        "\n",
        "    model = build_model()\n",
        "    history = model.fit(partial_train_data, \n",
        "                        partial_train_targets, \n",
        "                        epochs=num_epochs, \n",
        "                        batch_size=16, \n",
        "                        verbose=0,\n",
        "                        validation_data=(val_data, val_targets))\n",
        "    #val_mse, val_mae = model.evaluate(val_data, val_targets, verbose=0)\n",
        "    mae_history = history.history[\"val_mae\"]\n",
        "    all_mae_histories.append(mae_history)"
      ],
      "metadata": {
        "colab": {
          "base_uri": "https://localhost:8080/"
        },
        "id": "7cFUNC_rkDNt",
        "outputId": "5e4604a1-0803-4b6c-fdc3-12fa56ad3fa5"
      },
      "execution_count": 11,
      "outputs": [
        {
          "output_type": "stream",
          "name": "stdout",
          "text": [
            "Processing fold #0\n",
            "Processing fold #1\n",
            "Processing fold #2\n",
            "Processing fold #3\n"
          ]
        }
      ]
    },
    {
      "cell_type": "code",
      "source": [
        "average_mae_history = [\n",
        "    np.mean([x[i] for x in all_mae_histories]) for i in range(num_epochs)\n",
        "]"
      ],
      "metadata": {
        "id": "lC6NyY2kqn50"
      },
      "execution_count": 12,
      "outputs": []
    },
    {
      "cell_type": "code",
      "source": [
        "import matplotlib.pyplot as plt\n",
        "\n",
        "plt.plot(range(1, len(average_mae_history)+1), average_mae_history)\n",
        "plt.xlabel(\"Epochs\")\n",
        "plt.ylabel(\"Validation MAE\")\n",
        "plt.show()"
      ],
      "metadata": {
        "colab": {
          "base_uri": "https://localhost:8080/",
          "height": 281
        },
        "id": "RtVVH_pYq6lf",
        "outputId": "6391d6d9-a4b3-4aaf-ba18-61f76a4dafb6"
      },
      "execution_count": 14,
      "outputs": [
        {
          "output_type": "display_data",
          "data": {
            "text/plain": [
              "<Figure size 432x288 with 1 Axes>"
            ],
            "image/png": "[encoded data removed]"
          },
          "metadata": {
            "needs_background": "light"
          }
        }
      ]
    },
    {
      "cell_type": "code",
      "source": [
        "# truncate history\n",
        "truncated_history = average_mae_history[10:]\n",
        "plt.plot(range(1, len(truncated_history) +1), truncated_history)\n",
        "plt.xlabel(\"Epochs\")\n",
        "plt.ylabel(\"Validation MAE\")\n",
        "plt.show()"
      ],
      "metadata": {
        "colab": {
          "base_uri": "https://localhost:8080/",
          "height": 279
        },
        "id": "0Wn4WVozq_Cz",
        "outputId": "ae64c006-eee0-4e14-efa6-bb4f767052db"
      },
      "execution_count": 15,
      "outputs": [
        {
          "output_type": "display_data",
          "data": {
            "text/plain": [
              "<Figure size 432x288 with 1 Axes>"
            ],
            "image/png": "[encoded data removed]"
          },
          "metadata": {
            "needs_background": "light"
          }
        }
      ]
    }
  ]
}
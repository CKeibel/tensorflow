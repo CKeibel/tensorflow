{
  "nbformat": 4,
  "nbformat_minor": 0,
  "metadata": {
    "colab": {
      "name": "model_subclassing.ipynb",
      "provenance": [],
      "authorship_tag": "ABX9TyPdpIRz7u1R1aTvp0FSoqoA"
    },
    "kernelspec": {
      "name": "python3",
      "display_name": "Python 3"
    },
    "language_info": {
      "name": "python"
    },
    "accelerator": "GPU"
  },
  "cells": [
    {
      "cell_type": "markdown",
      "source": [
        "# Simple subclassing model\n",
        "* *__init__()* will define the layers we use\n",
        "* *call()* defines the forward pass of the model"
      ],
      "metadata": {
        "id": "gi3sGAXOWary"
      }
    },
    {
      "cell_type": "code",
      "execution_count": 1,
      "metadata": {
        "id": "m7yqRzHkyr6k"
      },
      "outputs": [],
      "source": [
        "from tensorflow.keras.models import Model\n",
        "from tensorflow.keras.layers import Dense, Concatenate\n",
        "\n",
        "class MyModel(Model):\n",
        "    def __init__(self, num_departments):\n",
        "        super().__init__()\n",
        "        self.concat_layer = Concatenate()\n",
        "        self.mixing_layer = Dense(64, activation=\"relu\")\n",
        "        self.priority_scorer = Dense(1, activation=\"sigmoid\", name=\"priority\")\n",
        "        self.department_classifier = Dense(num_departments, activation=\"softmax\", name=\"department\")\n",
        "\n",
        "    def call(self, inputs):\n",
        "        title = inputs[\"title\"]\n",
        "        text_body = inputs[\"text_body\"]\n",
        "        tags = inputs[\"tags\"]\n",
        "\n",
        "        # forward pass\n",
        "        features = self.concat_layer([title, text_body, tags])\n",
        "        features = self.mixing_layer(features)\n",
        "        priority = self.priority_scorer(features)\n",
        "        department = self.department_classifier(features)\n",
        "\n",
        "        return priority, department"
      ]
    },
    {
      "cell_type": "code",
      "source": [
        "import numpy as np\n",
        "\n",
        "# create random data\n",
        "num_samples = 1280\n",
        "num_departments = 4\n",
        "vocabulary_size = 10_000\n",
        "num_tags = 100\n",
        "\n",
        "# input data -> X\n",
        "title_data = np.random.randint(0, 2, size=(num_samples, vocabulary_size)) # size (batch, data-shape)\n",
        "text_body_data = np.random.randint(0, 2, size=(num_samples, vocabulary_size))\n",
        "tags_data = np.random.randint(0, 2, size=(num_samples, num_tags))\n",
        "\n",
        "# targets -> y\n",
        "priority_targets = np.random.random(size=(num_samples,1))\n",
        "department_targets = np.random.random(size=(num_samples, num_departments))"
      ],
      "metadata": {
        "id": "K6Fnb1jlYyRf"
      },
      "execution_count": 2,
      "outputs": []
    },
    {
      "cell_type": "code",
      "source": [
        "model = MyModel(num_departments=num_departments)"
      ],
      "metadata": {
        "id": "wxK7tJJQZY0o"
      },
      "execution_count": 3,
      "outputs": []
    },
    {
      "cell_type": "code",
      "source": [
        "# built its weights\n",
        "model({\"title\": title_data, \"text_body\": text_body_data, \"tags\": tags_data})"
      ],
      "metadata": {
        "colab": {
          "base_uri": "https://localhost:8080/"
        },
        "id": "4tUrQPVNZ1Qi",
        "outputId": "8ecbd01a-d0c4-4463-fd8f-26879e6d644a"
      },
      "execution_count": 4,
      "outputs": [
        {
          "output_type": "execute_result",
          "data": {
            "text/plain": [
              "(<tf.Tensor: shape=(1280, 1), dtype=float32, numpy=\n",
              " array([[0.11610715],\n",
              "        [0.3059407 ],\n",
              "        [0.41626173],\n",
              "        ...,\n",
              "        [0.2263044 ],\n",
              "        [0.2861188 ],\n",
              "        [0.51231235]], dtype=float32)>,\n",
              " <tf.Tensor: shape=(1280, 4), dtype=float32, numpy=\n",
              " array([[0.20962095, 0.24272539, 0.3691065 , 0.17854716],\n",
              "        [0.09454552, 0.0857659 , 0.5417931 , 0.27789545],\n",
              "        [0.3094408 , 0.09544255, 0.32890728, 0.26620936],\n",
              "        ...,\n",
              "        [0.14091545, 0.21534704, 0.5043391 , 0.13939841],\n",
              "        [0.13843128, 0.3396377 , 0.34319004, 0.17874096],\n",
              "        [0.31407478, 0.08921625, 0.2914976 , 0.30521145]], dtype=float32)>)"
            ]
          },
          "metadata": {},
          "execution_count": 4
        }
      ]
    },
    {
      "cell_type": "code",
      "source": [
        "model.compile(optimizer=\"rmsprop\",\n",
        "              loss=[\"mean_squared_error\", \"categorical_crossentropy\"],\n",
        "              metrics=[[\"mean_absolute_error\"], [\"accuracy\"]])"
      ],
      "metadata": {
        "id": "lHHQGtEqaiya"
      },
      "execution_count": 9,
      "outputs": []
    },
    {
      "cell_type": "code",
      "source": [
        "model.fit(\n",
        "    {\"title\": title_data, \"text_body\": text_body_data, \"tags\": tags_data},\n",
        "    [priority_targets, department_targets],\n",
        "    epochs=1\n",
        ")"
      ],
      "metadata": {
        "colab": {
          "base_uri": "https://localhost:8080/"
        },
        "id": "XECkkYeccHKS",
        "outputId": "e6464a00-1b49-4c90-f0f0-7d4af642d497"
      },
      "execution_count": 10,
      "outputs": [
        {
          "output_type": "stream",
          "name": "stdout",
          "text": [
            "40/40 [==============================] - 2s 6ms/step - loss: 35.0853 - output_1_loss: 0.3163 - output_2_loss: 34.7690 - output_1_mean_absolute_error: 0.4818 - output_2_accuracy: 0.2688\n"
          ]
        },
        {
          "output_type": "execute_result",
          "data": {
            "text/plain": [
              "<keras.callbacks.History at 0x7f43b4686050>"
            ]
          },
          "metadata": {},
          "execution_count": 10
        }
      ]
    },
    {
      "cell_type": "markdown",
      "source": [
        "# Functional model that includes a subclassed Model"
      ],
      "metadata": {
        "id": "s_RxlyuniqkO"
      }
    },
    {
      "cell_type": "code",
      "source": [
        "class Classifier(Model):\n",
        "    def __init__(self, num_classes):\n",
        "        super().__init__()\n",
        "        if num_classes == 2:\n",
        "            activation = \"sigmoid\"\n",
        "            units = 1\n",
        "        else:\n",
        "            activation = \"softmax\"\n",
        "            units = num_classes\n",
        "        self.dense = Dense(units=units, activation=activation)\n",
        "\n",
        "    def call(self, inputs):\n",
        "        return self.dense(inputs)"
      ],
      "metadata": {
        "id": "wRxeAlmpcmwV"
      },
      "execution_count": 13,
      "outputs": []
    },
    {
      "cell_type": "code",
      "source": [
        "# Functional model with subclassed model as layer in it\n",
        "from tensorflow.keras.layers import Input\n",
        "\n",
        "input = Input(shape=(3,))\n",
        "features = Dense(64, activation=\"relu\")(input)\n",
        "output = Classifier(num_classes=10)(features)\n",
        "\n",
        "model = Model(inputs=input, outputs=output)"
      ],
      "metadata": {
        "id": "4p8Dw-IMj1L8"
      },
      "execution_count": 14,
      "outputs": []
    },
    {
      "cell_type": "code",
      "source": [
        "model.compile(optimizer=\"rmsprop\",\n",
        "              loss=\"categorical_crossentropy\",\n",
        "              metrics=[\"accuracy\"])"
      ],
      "metadata": {
        "id": "wXiMEH7Fkgk_"
      },
      "execution_count": 15,
      "outputs": []
    },
    {
      "cell_type": "code",
      "source": [
        ""
      ],
      "metadata": {
        "id": "_Y3p4r8EkyeZ"
      },
      "execution_count": null,
      "outputs": []
    }
  ]
}
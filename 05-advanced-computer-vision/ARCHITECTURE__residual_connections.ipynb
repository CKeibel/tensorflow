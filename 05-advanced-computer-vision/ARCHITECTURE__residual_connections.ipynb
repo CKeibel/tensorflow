{
  "nbformat": 4,
  "nbformat_minor": 0,
  "metadata": {
    "colab": {
      "name": "residual_connections.ipynb",
      "provenance": [],
      "collapsed_sections": [],
      "authorship_tag": "ABX9TyMkx9fGmovvwtRTpw65Mj1t"
    },
    "kernelspec": {
      "name": "python3",
      "display_name": "Python 3"
    },
    "language_info": {
      "name": "python"
    }
  },
  "cells": [
    {
      "cell_type": "code",
      "execution_count": 1,
      "metadata": {
        "id": "ZOqonbLFr9cb"
      },
      "outputs": [],
      "source": [
        "from tensorflow.keras.models import Model\n",
        "from tensorflow.keras.layers import MaxPooling2D, Conv2D, add\n",
        "\n",
        "def residual_block(x, filters, pooling=False):\n",
        "    # input pointer\n",
        "    residual = x\n",
        "    x = Conv2D(filters, kernel_size=3, activation=\"relu\", padding=\"same\")(x)\n",
        "    x = Conv2D(filters, kernel_size=3, activation=\"relu\", padding=\"same\")(x)\n",
        "\n",
        "    if pooling:\n",
        "        x = MaxPooling2D(2, padding=\"same\")(x)\n",
        "        # project to expected shape via strides convolution\n",
        "        residual = Conv2D(filters, kernel_size=1, strides=2)(residual)\n",
        "    elif filters != residual.shape[-1]:\n",
        "        # if number of channels has changed\n",
        "        residual = Conv2D(filters, kernel_size=1)(residual)\n",
        "    \n",
        "    x = add([x, residual])\n",
        "    return x"
      ]
    },
    {
      "cell_type": "code",
      "source": [
        "from tensorflow.keras.layers import Input, Rescaling, Dense, GlobalAveragePooling2D, Flatten\n",
        "\n",
        "inputs = Input(shape=(28, 28, 1))\n",
        "x = Rescaling(1. /255)(inputs)\n",
        "\n",
        "x = residual_block(x, filters=32, pooling=True)\n",
        "x = residual_block(x, filters=64, pooling=True)\n",
        "x = residual_block(x, filters=128, pooling=False)\n",
        "\n",
        "x = GlobalAveragePooling2D()(x)\n",
        "x = Flatten()(x)\n",
        "outputs = Dense(1, activation=\"sigmoid\")(x)\n",
        "\n",
        "model = Model(inputs=inputs, outputs=outputs)"
      ],
      "metadata": {
        "id": "fHFcP2Txu7BN"
      },
      "execution_count": 2,
      "outputs": []
    },
    {
      "cell_type": "code",
      "source": [
        ""
      ],
      "metadata": {
        "id": "Atq9LEibwE5P"
      },
      "execution_count": 2,
      "outputs": []
    }
  ]
}
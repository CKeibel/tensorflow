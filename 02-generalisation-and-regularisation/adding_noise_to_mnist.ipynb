{
  "nbformat": 4,
  "nbformat_minor": 0,
  "metadata": {
    "colab": {
      "name": "adding_noise.ipynb",
      "provenance": [],
      "authorship_tag": "ABX9TyMKiLIc5Jdn9jZLq/YZEq9z"
    },
    "kernelspec": {
      "name": "python3",
      "display_name": "Python 3"
    },
    "language_info": {
      "name": "python"
    },
    "accelerator": "GPU"
  },
  "cells": [
    {
      "cell_type": "code",
      "execution_count": 1,
      "metadata": {
        "colab": {
          "base_uri": "https://localhost:8080/"
        },
        "id": "Jxexq5ZIxR1y",
        "outputId": "37df549e-c159-493c-ea76-2eb48843ad9b"
      },
      "outputs": [
        {
          "output_type": "stream",
          "name": "stdout",
          "text": [
            "Downloading data from https://storage.googleapis.com/tensorflow/tf-keras-datasets/mnist.npz\n",
            "11493376/11490434 [==============================] - 0s 0us/step\n",
            "11501568/11490434 [==============================] - 0s 0us/step\n"
          ]
        }
      ],
      "source": [
        "from tensorflow.keras.datasets import mnist\n",
        "\n",
        "(x_train, y_train), (x_test, y_test) = mnist.load_data()"
      ]
    },
    {
      "cell_type": "code",
      "source": [
        "# reshape using dense not convolution\n",
        "x_train = x_train.reshape(x_train.shape[0], x_train.shape[1]**2)\n",
        "print(f\"New shape: {x_train.shape}\")"
      ],
      "metadata": {
        "colab": {
          "base_uri": "https://localhost:8080/"
        },
        "id": "vwTLS6Ixxvsc",
        "outputId": "47380bde-fdba-4ff5-f0f3-342a1b36d4b1"
      },
      "execution_count": 3,
      "outputs": [
        {
          "output_type": "stream",
          "name": "stdout",
          "text": [
            "New shape: (60000, 784)\n"
          ]
        }
      ]
    },
    {
      "cell_type": "code",
      "source": [
        "x_train = x_train.astype(\"float32\") / 255 # values between 0 and 1"
      ],
      "metadata": {
        "id": "HWLHV-mKzF-Z"
      },
      "execution_count": 5,
      "outputs": []
    },
    {
      "cell_type": "code",
      "source": [
        "import numpy as np\n",
        "\n",
        "# adding white noise channels and all-zeros channels\n",
        "x_white_noise = np.concatenate([x_train, np.random.random(x_train.shape)], axis=1)\n",
        "x_zeros_noise = np.concatenate([x_train, np.zeros(x_train.shape)], axis=1)\n",
        "\n",
        "print(f\"White noise shape: {x_white_noise.shape}\")\n",
        "print(f\"Zeros noise shape: {x_zeros_noise.shape}\")"
      ],
      "metadata": {
        "colab": {
          "base_uri": "https://localhost:8080/"
        },
        "id": "ft7UZlGfyk7w",
        "outputId": "14e7b747-ed45-401b-b6a8-b6992b1ba6a6"
      },
      "execution_count": 6,
      "outputs": [
        {
          "output_type": "stream",
          "name": "stdout",
          "text": [
            "White noise shape: (60000, 1568)\n",
            "Zeros noise shape: (60000, 1568)\n"
          ]
        }
      ]
    },
    {
      "cell_type": "code",
      "source": [
        "from tensorflow.keras.layers import Dense\n",
        "from tensorflow.keras.models import Sequential\n",
        "\n",
        "# model\n",
        "def get_model():\n",
        "    model = Sequential([\n",
        "        Dense(512, activation=\"relu\"),\n",
        "        Dense(10, activation=\"softmax\")\n",
        "    ])\n",
        "\n",
        "    model.compile(optimizer=\"rmsprop\",\n",
        "                  loss=\"sparse_categorical_crossentropy\",\n",
        "                  metrics=[\"accuracy\"])\n",
        "    \n",
        "    return model"
      ],
      "metadata": {
        "id": "NOw3YA7C0LEw"
      },
      "execution_count": 10,
      "outputs": []
    },
    {
      "cell_type": "code",
      "source": [
        "# white noise\n",
        "model = get_model()\n",
        "history_white = model.fit(\n",
        "    x_white_noise,\n",
        "    y_train,\n",
        "    epochs=10,\n",
        "    batch_size=128,\n",
        "    validation_split=0.2\n",
        ")\n",
        "\n",
        "# zeros noise\n",
        "model = get_model()\n",
        "history_zeros = model.fit(\n",
        "    x_zeros_noise,\n",
        "    y_train,\n",
        "    epochs=10,\n",
        "    batch_size=128,\n",
        "    validation_split=0.2\n",
        ")"
      ],
      "metadata": {
        "colab": {
          "base_uri": "https://localhost:8080/"
        },
        "id": "h0NoXHhQ1QsJ",
        "outputId": "33711063-85e2-4015-ce83-214bed177bfb"
      },
      "execution_count": 11,
      "outputs": [
        {
          "output_type": "stream",
          "name": "stdout",
          "text": [
            "Epoch 1/10\n",
            "375/375 [==============================] - 4s 4ms/step - loss: 0.6055 - accuracy: 0.8147 - val_loss: 0.3135 - val_accuracy: 0.9013\n",
            "Epoch 2/10\n",
            "375/375 [==============================] - 1s 3ms/step - loss: 0.2417 - accuracy: 0.9245 - val_loss: 0.1740 - val_accuracy: 0.9483\n",
            "Epoch 3/10\n",
            "375/375 [==============================] - 1s 3ms/step - loss: 0.1591 - accuracy: 0.9507 - val_loss: 0.1528 - val_accuracy: 0.9542\n",
            "Epoch 4/10\n",
            "375/375 [==============================] - 1s 3ms/step - loss: 0.1137 - accuracy: 0.9648 - val_loss: 0.1335 - val_accuracy: 0.9614\n",
            "Epoch 5/10\n",
            "375/375 [==============================] - 1s 3ms/step - loss: 0.0830 - accuracy: 0.9736 - val_loss: 0.1210 - val_accuracy: 0.9651\n",
            "Epoch 6/10\n",
            "375/375 [==============================] - 1s 3ms/step - loss: 0.0615 - accuracy: 0.9803 - val_loss: 0.1344 - val_accuracy: 0.9630\n",
            "Epoch 7/10\n",
            "375/375 [==============================] - 1s 3ms/step - loss: 0.0484 - accuracy: 0.9849 - val_loss: 0.1553 - val_accuracy: 0.9554\n",
            "Epoch 8/10\n",
            "375/375 [==============================] - 1s 3ms/step - loss: 0.0343 - accuracy: 0.9889 - val_loss: 0.1417 - val_accuracy: 0.9647\n",
            "Epoch 9/10\n",
            "375/375 [==============================] - 1s 3ms/step - loss: 0.0246 - accuracy: 0.9923 - val_loss: 0.1477 - val_accuracy: 0.9647\n",
            "Epoch 10/10\n",
            "375/375 [==============================] - 1s 3ms/step - loss: 0.0204 - accuracy: 0.9931 - val_loss: 0.1454 - val_accuracy: 0.9643\n",
            "Epoch 1/10\n",
            "375/375 [==============================] - 2s 3ms/step - loss: 0.2873 - accuracy: 0.9167 - val_loss: 0.1386 - val_accuracy: 0.9599\n",
            "Epoch 2/10\n",
            "375/375 [==============================] - 1s 3ms/step - loss: 0.1179 - accuracy: 0.9642 - val_loss: 0.1036 - val_accuracy: 0.9698\n",
            "Epoch 3/10\n",
            "375/375 [==============================] - 1s 3ms/step - loss: 0.0775 - accuracy: 0.9776 - val_loss: 0.1093 - val_accuracy: 0.9680\n",
            "Epoch 4/10\n",
            "375/375 [==============================] - 1s 3ms/step - loss: 0.0557 - accuracy: 0.9831 - val_loss: 0.0827 - val_accuracy: 0.9756\n",
            "Epoch 5/10\n",
            "375/375 [==============================] - 1s 3ms/step - loss: 0.0412 - accuracy: 0.9880 - val_loss: 0.0819 - val_accuracy: 0.9747\n",
            "Epoch 6/10\n",
            "375/375 [==============================] - 1s 3ms/step - loss: 0.0308 - accuracy: 0.9907 - val_loss: 0.0844 - val_accuracy: 0.9754\n",
            "Epoch 7/10\n",
            "375/375 [==============================] - 1s 3ms/step - loss: 0.0230 - accuracy: 0.9932 - val_loss: 0.0781 - val_accuracy: 0.9788\n",
            "Epoch 8/10\n",
            "375/375 [==============================] - 1s 3ms/step - loss: 0.0183 - accuracy: 0.9945 - val_loss: 0.0959 - val_accuracy: 0.9741\n",
            "Epoch 9/10\n",
            "375/375 [==============================] - 1s 3ms/step - loss: 0.0134 - accuracy: 0.9963 - val_loss: 0.0913 - val_accuracy: 0.9769\n",
            "Epoch 10/10\n",
            "375/375 [==============================] - 1s 3ms/step - loss: 0.0105 - accuracy: 0.9969 - val_loss: 0.0900 - val_accuracy: 0.9781\n"
          ]
        }
      ]
    },
    {
      "cell_type": "code",
      "source": [
        "white_acc = history_white.history[\"val_accuracy\"]\n",
        "zeros_acc = history_zeros.history[\"val_accuracy\"]\n",
        "\n",
        "import matplotlib.pyplot as plt\n",
        "x_range = range(1, len(white_acc) +1)\n",
        "plt.plot(x_range, white_acc, \"b-\", label=\"White noise\")\n",
        "plt.plot(x_range, zeros_acc, \"b--\", label=\"Zeros noise\")\n",
        "plt.xlabel(\"Epochs\")\n",
        "plt.ylabel(\"Accuracy\")\n",
        "plt.legend()\n",
        "plt.show()"
      ],
      "metadata": {
        "colab": {
          "base_uri": "https://localhost:8080/",
          "height": 279
        },
        "id": "JdkWRw6516Kn",
        "outputId": "3b853ab1-aec0-43cb-f966-8f7f6be8362d"
      },
      "execution_count": 15,
      "outputs": [
        {
          "output_type": "display_data",
          "data": {
            "text/plain": [
              "<Figure size 432x288 with 1 Axes>"
            ],
            "image/png": "[encoded data removed]"
          },
          "metadata": {
            "needs_background": "light"
          }
        }
      ]
    },
    {
      "cell_type": "code",
      "source": [
        ""
      ],
      "metadata": {
        "id": "zdnFV6Fk3Iqj"
      },
      "execution_count": null,
      "outputs": []
    }
  ]
}
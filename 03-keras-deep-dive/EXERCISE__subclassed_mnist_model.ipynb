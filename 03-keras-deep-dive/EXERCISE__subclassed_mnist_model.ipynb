{
  "nbformat": 4,
  "nbformat_minor": 0,
  "metadata": {
    "colab": {
      "name": "subclassed-mnist-model.ipynb",
      "provenance": [],
      "authorship_tag": "ABX9TyMo7wQa/4FB14fPeL66vKI7"
    },
    "kernelspec": {
      "name": "python3",
      "display_name": "Python 3"
    },
    "language_info": {
      "name": "python"
    },
    "accelerator": "GPU",
    "gpuClass": "standard"
  },
  "cells": [
    {
      "cell_type": "code",
      "execution_count": 6,
      "metadata": {
        "id": "s9if55TOYDqM"
      },
      "outputs": [],
      "source": [
        "from tensorflow.keras.datasets import mnist\n",
        "\n",
        "(x_train, y_train), (x_test, y_test) = mnist.load_data()"
      ]
    },
    {
      "cell_type": "code",
      "source": [
        "import numpy as np\n",
        "x_train = np.reshape(x_train, (x_train.shape[0], x_train.shape[1]**2))\n",
        "x_test = np.reshape(x_test, (x_test.shape[0], x_test.shape[1]**2))\n",
        "\n",
        "print(f\"train shape: {x_train.shape}\")\n",
        "print(f\"test shape: {x_test.shape}\")"
      ],
      "metadata": {
        "colab": {
          "base_uri": "https://localhost:8080/"
        },
        "id": "bDnlyfxSYU4g",
        "outputId": "bc70bad1-de73-4526-a8c9-e4604123ffd2"
      },
      "execution_count": 7,
      "outputs": [
        {
          "output_type": "stream",
          "name": "stdout",
          "text": [
            "train shape: (60000, 784)\n",
            "test shape: (10000, 784)\n"
          ]
        }
      ]
    },
    {
      "cell_type": "code",
      "source": [
        "x_train = x_train.astype(\"float32\") / 255\n",
        "x_test = x_test.astype(\"float32\") / 255\n",
        "\n",
        "print(f\"MAX: {np.max(x_train)} \\tMIN: {np.min(x_train)}\")"
      ],
      "metadata": {
        "colab": {
          "base_uri": "https://localhost:8080/"
        },
        "id": "UVI4baKTZd1F",
        "outputId": "42654b36-d185-4c5f-9995-1e5082764a7c"
      },
      "execution_count": 8,
      "outputs": [
        {
          "output_type": "stream",
          "name": "stdout",
          "text": [
            "MAX: 1.0 \tMIN: 0.0\n"
          ]
        }
      ]
    },
    {
      "cell_type": "code",
      "source": [
        "from tensorflow.keras.models import Model\n",
        "from tensorflow.keras.layers import Dense\n",
        "\n",
        "class MnistClassifier(Model):\n",
        "    def __init__(self):\n",
        "        super().__init__()\n",
        "        num_classes = 10\n",
        "        self.first_dense = Dense(32, activation=\"relu\")\n",
        "        self.second_dense = Dense(32, activation=\"relu\")\n",
        "        self.classifier = Dense(num_classes, activation=\"softmax\")\n",
        "\n",
        "    def call(self, inputs):\n",
        "        x = self.first_dense(inputs)\n",
        "        x = self.second_dense(x)\n",
        "        result = self.classifier(x)\n",
        "        return result"
      ],
      "metadata": {
        "id": "ulPSnibNaFSv"
      },
      "execution_count": 9,
      "outputs": []
    },
    {
      "cell_type": "code",
      "source": [
        "model = MnistClassifier()\n",
        "\n",
        "model.compile(optimizer=\"rmsprop\",\n",
        "              loss=\"sparse_categorical_crossentropy\",\n",
        "              metrics=[\"accuracy\"])"
      ],
      "metadata": {
        "id": "2iAKH89obyoI"
      },
      "execution_count": 10,
      "outputs": []
    },
    {
      "cell_type": "code",
      "source": [
        "res = model.fit(x_train,\n",
        "                y_train,\n",
        "                epochs=10, \n",
        "                batch_size=128,\n",
        "                validation_split=(0.2))"
      ],
      "metadata": {
        "colab": {
          "base_uri": "https://localhost:8080/"
        },
        "id": "b9nCP0GIcFMx",
        "outputId": "225f66bd-6f12-487c-de19-40cfddab1e9a"
      },
      "execution_count": 11,
      "outputs": [
        {
          "output_type": "stream",
          "name": "stdout",
          "text": [
            "Epoch 1/10\n",
            "375/375 [==============================] - 5s 4ms/step - loss: 0.4959 - accuracy: 0.8659 - val_loss: 0.2513 - val_accuracy: 0.9271\n",
            "Epoch 2/10\n",
            "375/375 [==============================] - 1s 3ms/step - loss: 0.2372 - accuracy: 0.9320 - val_loss: 0.1988 - val_accuracy: 0.9427\n",
            "Epoch 3/10\n",
            "375/375 [==============================] - 1s 3ms/step - loss: 0.1909 - accuracy: 0.9444 - val_loss: 0.1824 - val_accuracy: 0.9465\n",
            "Epoch 4/10\n",
            "375/375 [==============================] - 1s 3ms/step - loss: 0.1638 - accuracy: 0.9523 - val_loss: 0.1623 - val_accuracy: 0.9541\n",
            "Epoch 5/10\n",
            "375/375 [==============================] - 1s 3ms/step - loss: 0.1450 - accuracy: 0.9577 - val_loss: 0.1603 - val_accuracy: 0.9509\n",
            "Epoch 6/10\n",
            "375/375 [==============================] - 1s 3ms/step - loss: 0.1308 - accuracy: 0.9616 - val_loss: 0.1457 - val_accuracy: 0.9561\n",
            "Epoch 7/10\n",
            "375/375 [==============================] - 1s 4ms/step - loss: 0.1190 - accuracy: 0.9647 - val_loss: 0.1398 - val_accuracy: 0.9597\n",
            "Epoch 8/10\n",
            "375/375 [==============================] - 1s 4ms/step - loss: 0.1108 - accuracy: 0.9673 - val_loss: 0.1326 - val_accuracy: 0.9607\n",
            "Epoch 9/10\n",
            "375/375 [==============================] - 1s 3ms/step - loss: 0.1023 - accuracy: 0.9697 - val_loss: 0.1363 - val_accuracy: 0.9582\n",
            "Epoch 10/10\n",
            "375/375 [==============================] - 1s 3ms/step - loss: 0.0951 - accuracy: 0.9722 - val_loss: 0.1315 - val_accuracy: 0.9612\n"
          ]
        }
      ]
    },
    {
      "cell_type": "code",
      "source": [
        "loss = res.history[\"loss\"]\n",
        "acc = res.history[\"accuracy\"]\n",
        "val_loss = res.history[\"val_loss\"]\n",
        "val_acc = res.history[\"val_accuracy\"]"
      ],
      "metadata": {
        "id": "0-LhJz8Wcb33"
      },
      "execution_count": 12,
      "outputs": []
    },
    {
      "cell_type": "code",
      "source": [
        "import matplotlib.pyplot as plt\n",
        "\n",
        "x_range = range(1, len(loss) +1)\n",
        "\n",
        "plt.plot(x_range, loss, \"b\", label=\"Train loss\")\n",
        "plt.plot(x_range, val_loss, \"b--\", label=\"Validation loss\")\n",
        "plt.xlabel(\"Epochs\")\n",
        "plt.ylabel(\"Loss\")\n",
        "plt.title(\"Train and val loss\")\n",
        "plt.legend()\n",
        "plt.show()"
      ],
      "metadata": {
        "colab": {
          "base_uri": "https://localhost:8080/",
          "height": 295
        },
        "id": "B0L6rjWzcz4Z",
        "outputId": "05763185-9329-457f-bf1e-1e4cb44e79a8"
      },
      "execution_count": 13,
      "outputs": [
        {
          "output_type": "display_data",
          "data": {
            "text/plain": [
              "<Figure size 432x288 with 1 Axes>"
            ],
            "image/png": "[encoded data removed]"
          },
          "metadata": {
            "needs_background": "light"
          }
        }
      ]
    },
    {
      "cell_type": "code",
      "source": [
        "plt.plot(x_range, acc, \"b\", label=\"Train accuracy\")\n",
        "plt.plot(x_range, val_acc, \"b--\", label=\"Val accuracy\")\n",
        "plt.xlabel(\"Epochs\")\n",
        "plt.ylabel(\"Accuracy\")\n",
        "plt.title(\"Train and val accuracy\")\n",
        "plt.legend()\n",
        "plt.show()"
      ],
      "metadata": {
        "colab": {
          "base_uri": "https://localhost:8080/",
          "height": 295
        },
        "id": "ItwTWze0daIe",
        "outputId": "d10b8066-2952-4be1-92e9-d10828c91411"
      },
      "execution_count": 14,
      "outputs": [
        {
          "output_type": "display_data",
          "data": {
            "text/plain": [
              "<Figure size 432x288 with 1 Axes>"
            ],
            "image/png": "[encoded data removed]"
          },
          "metadata": {
            "needs_background": "light"
          }
        }
      ]
    },
    {
      "cell_type": "code",
      "source": [
        ""
      ],
      "metadata": {
        "id": "xBQaMhLGeAOP"
      },
      "execution_count": null,
      "outputs": []
    }
  ]
}
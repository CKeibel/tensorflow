{
  "nbformat": 4,
  "nbformat_minor": 0,
  "metadata": {
    "colab": {
      "name": "00.plain_tensorflow.ipynb",
      "provenance": [],
      "collapsed_sections": [],
      "authorship_tag": "ABX9TyOzPHOKpmxu+CuuhYZkr8Uc"
    },
    "kernelspec": {
      "name": "python3",
      "display_name": "Python 3"
    },
    "language_info": {
      "name": "python"
    }
  },
  "cells": [
    {
      "cell_type": "markdown",
      "source": [
        "# Tensors"
      ],
      "metadata": {
        "id": "-pCzY5MVSMRx"
      }
    },
    {
      "cell_type": "code",
      "execution_count": 1,
      "metadata": {
        "colab": {
          "base_uri": "https://localhost:8080/"
        },
        "id": "CzO445FgITBx",
        "outputId": "48b7fc67-ba8e-4ac1-f971-3edf189d950e"
      },
      "outputs": [
        {
          "output_type": "execute_result",
          "data": {
            "text/plain": [
              "<tf.Tensor: shape=(2, 1), dtype=float32, numpy=\n",
              "array([[1.],\n",
              "       [1.]], dtype=float32)>"
            ]
          },
          "metadata": {},
          "execution_count": 1
        }
      ],
      "source": [
        "import tensorflow as tf\n",
        "\n",
        "# ones\n",
        "x = tf.ones(shape=(2,1))\n",
        "x"
      ]
    },
    {
      "cell_type": "code",
      "source": [
        "# zeros\n",
        "x = tf.zeros(shape=(2,1))\n",
        "x"
      ],
      "metadata": {
        "colab": {
          "base_uri": "https://localhost:8080/"
        },
        "id": "jiI1CTldIokA",
        "outputId": "6ab8e33d-0bd1-4707-eec8-c849c4ed3bc6"
      },
      "execution_count": 3,
      "outputs": [
        {
          "output_type": "execute_result",
          "data": {
            "text/plain": [
              "<tf.Tensor: shape=(2, 1), dtype=float32, numpy=\n",
              "array([[0.],\n",
              "       [0.]], dtype=float32)>"
            ]
          },
          "metadata": {},
          "execution_count": 3
        }
      ]
    },
    {
      "cell_type": "code",
      "source": [
        "# random values from nomral distribution\n",
        "x = tf.random.normal(shape=(2,1), mean=0, stddev=1)\n",
        "x"
      ],
      "metadata": {
        "colab": {
          "base_uri": "https://localhost:8080/"
        },
        "id": "ec_6LmD0Iy3t",
        "outputId": "53c81ec8-d4c2-4009-fc73-66fecb6278b4"
      },
      "execution_count": 4,
      "outputs": [
        {
          "output_type": "execute_result",
          "data": {
            "text/plain": [
              "<tf.Tensor: shape=(2, 1), dtype=float32, numpy=\n",
              "array([[-0.15351917],\n",
              "       [ 0.35991177]], dtype=float32)>"
            ]
          },
          "metadata": {},
          "execution_count": 4
        }
      ]
    },
    {
      "cell_type": "code",
      "source": [
        "# radom values from uniform distribution\n",
        "x = tf.random.uniform(shape=(2,1), minval=-1, maxval=1)\n",
        "x"
      ],
      "metadata": {
        "colab": {
          "base_uri": "https://localhost:8080/"
        },
        "id": "_A5zSADuJJ8y",
        "outputId": "701b5657-6b27-4d18-a0ee-957a7322a08d"
      },
      "execution_count": 5,
      "outputs": [
        {
          "output_type": "execute_result",
          "data": {
            "text/plain": [
              "<tf.Tensor: shape=(2, 1), dtype=float32, numpy=\n",
              "array([[-0.20237708],\n",
              "       [ 0.29852366]], dtype=float32)>"
            ]
          },
          "metadata": {},
          "execution_count": 5
        }
      ]
    },
    {
      "cell_type": "code",
      "source": [
        "# difference to numpy tensors, tf-tensors are constant\n",
        "# for exampe:\n",
        "\n",
        "import numpy as np\n",
        "a = np.ones(shape=(2,2))\n",
        "b = tf.ones(shape=(2,2))\n",
        "\n",
        "a[0][0] = 5\n",
        "\n",
        "try:\n",
        "    b[0][0] = 5\n",
        "except:\n",
        "    print(\"not possible\")\n",
        "\n",
        "print(f\"numpy: {a}\\ntensorflow: {b}\")"
      ],
      "metadata": {
        "colab": {
          "base_uri": "https://localhost:8080/"
        },
        "id": "PfZwx23qJjF3",
        "outputId": "7c400015-ff93-4c9d-b222-29b21c520dfe"
      },
      "execution_count": 6,
      "outputs": [
        {
          "output_type": "stream",
          "name": "stdout",
          "text": [
            "not possible\n",
            "numpy: [[5. 1.]\n",
            " [1. 1.]]\n",
            "tensorflow: [[1. 1.]\n",
            " [1. 1.]]\n"
          ]
        }
      ]
    },
    {
      "cell_type": "markdown",
      "source": [
        "# Variables"
      ],
      "metadata": {
        "id": "sX6hs2QNSQyl"
      }
    },
    {
      "cell_type": "code",
      "source": [
        "v = tf.Variable(initial_value=tf.random.normal(shape=(3,1), mean=5, stddev=1))\n",
        "v"
      ],
      "metadata": {
        "colab": {
          "base_uri": "https://localhost:8080/"
        },
        "id": "AxWPhWq6Kf_y",
        "outputId": "44beeca6-8a7d-409a-905f-015cadd65d6e"
      },
      "execution_count": 8,
      "outputs": [
        {
          "output_type": "execute_result",
          "data": {
            "text/plain": [
              "<tf.Variable 'Variable:0' shape=(3, 1) dtype=float32, numpy=\n",
              "array([[5.923983 ],\n",
              "       [5.1465592],\n",
              "       [4.4586024]], dtype=float32)>"
            ]
          },
          "metadata": {},
          "execution_count": 8
        }
      ]
    },
    {
      "cell_type": "code",
      "source": [
        "# variables are reassignable\n",
        "v = v.assign(tf.ones(shape=(3,1)))\n",
        "v"
      ],
      "metadata": {
        "colab": {
          "base_uri": "https://localhost:8080/"
        },
        "id": "Q1eDR7ZCSqPw",
        "outputId": "165c6072-a353-4a84-b8d3-306a09b0b91a"
      },
      "execution_count": 9,
      "outputs": [
        {
          "output_type": "execute_result",
          "data": {
            "text/plain": [
              "<tf.Variable 'UnreadVariable' shape=(3, 1) dtype=float32, numpy=\n",
              "array([[1.],\n",
              "       [1.],\n",
              "       [1.]], dtype=float32)>"
            ]
          },
          "metadata": {},
          "execution_count": 9
        }
      ]
    },
    {
      "cell_type": "code",
      "source": [
        "v[0, 0].assign(3)\n",
        "v"
      ],
      "metadata": {
        "colab": {
          "base_uri": "https://localhost:8080/"
        },
        "id": "-XXoYuLoS2hU",
        "outputId": "e650933d-dff3-4c50-9a88-bebfae9eed33"
      },
      "execution_count": 12,
      "outputs": [
        {
          "output_type": "execute_result",
          "data": {
            "text/plain": [
              "<tf.Variable 'UnreadVariable' shape=(3, 1) dtype=float32, numpy=\n",
              "array([[3.],\n",
              "       [1.],\n",
              "       [1.]], dtype=float32)>"
            ]
          },
          "metadata": {},
          "execution_count": 12
        }
      ]
    },
    {
      "cell_type": "code",
      "source": [
        "# add\n",
        "v.assign_add(tf.ones(shape=(3,1)))\n",
        "v"
      ],
      "metadata": {
        "colab": {
          "base_uri": "https://localhost:8080/"
        },
        "id": "sXdQvmwlTHxm",
        "outputId": "64108d6c-ca1f-45a2-db44-7791c0c2539d"
      },
      "execution_count": 13,
      "outputs": [
        {
          "output_type": "execute_result",
          "data": {
            "text/plain": [
              "<tf.Variable 'UnreadVariable' shape=(3, 1) dtype=float32, numpy=\n",
              "array([[4.],\n",
              "       [2.],\n",
              "       [2.]], dtype=float32)>"
            ]
          },
          "metadata": {},
          "execution_count": 13
        }
      ]
    },
    {
      "cell_type": "markdown",
      "source": [
        "# Mathmatical operations"
      ],
      "metadata": {
        "id": "hsuOWTByTgws"
      }
    },
    {
      "cell_type": "code",
      "source": [
        "a = tf.Variable(initial_value=tf.ones((2, 2)))\n",
        "a"
      ],
      "metadata": {
        "colab": {
          "base_uri": "https://localhost:8080/"
        },
        "id": "mfj519CjTb5C",
        "outputId": "d274220c-821e-4e3e-f5c6-874131cdcca2"
      },
      "execution_count": 58,
      "outputs": [
        {
          "output_type": "execute_result",
          "data": {
            "text/plain": [
              "<tf.Variable 'Variable:0' shape=(2, 2) dtype=float32, numpy=\n",
              "array([[1., 1.],\n",
              "       [1., 1.]], dtype=float32)>"
            ]
          },
          "metadata": {},
          "execution_count": 58
        }
      ]
    },
    {
      "cell_type": "code",
      "source": [
        "a.assign_add(tf.ones((2,2)))\n",
        "a"
      ],
      "metadata": {
        "colab": {
          "base_uri": "https://localhost:8080/"
        },
        "id": "JETfKBHGT324",
        "outputId": "42043d2f-68cb-4aef-930c-7452c3f315ad"
      },
      "execution_count": 59,
      "outputs": [
        {
          "output_type": "execute_result",
          "data": {
            "text/plain": [
              "<tf.Variable 'Variable:0' shape=(2, 2) dtype=float32, numpy=\n",
              "array([[2., 2.],\n",
              "       [2., 2.]], dtype=float32)>"
            ]
          },
          "metadata": {},
          "execution_count": 59
        }
      ]
    },
    {
      "cell_type": "code",
      "source": [
        "a = tf.square(a)\n",
        "a"
      ],
      "metadata": {
        "colab": {
          "base_uri": "https://localhost:8080/"
        },
        "id": "ST5lUrqjTsxy",
        "outputId": "a0ea698a-a9cb-4024-9376-197ef375c6e7"
      },
      "execution_count": 60,
      "outputs": [
        {
          "output_type": "execute_result",
          "data": {
            "text/plain": [
              "<tf.Tensor: shape=(2, 2), dtype=float32, numpy=\n",
              "array([[4., 4.],\n",
              "       [4., 4.]], dtype=float32)>"
            ]
          },
          "metadata": {},
          "execution_count": 60
        }
      ]
    },
    {
      "cell_type": "code",
      "source": [
        "a = tf.sqrt(a)\n",
        "a"
      ],
      "metadata": {
        "colab": {
          "base_uri": "https://localhost:8080/"
        },
        "id": "ec7c1ha5Txe5",
        "outputId": "1d296aac-f96b-4b76-84df-4ae863136b52"
      },
      "execution_count": 61,
      "outputs": [
        {
          "output_type": "execute_result",
          "data": {
            "text/plain": [
              "<tf.Tensor: shape=(2, 2), dtype=float32, numpy=\n",
              "array([[2., 2.],\n",
              "       [2., 2.]], dtype=float32)>"
            ]
          },
          "metadata": {},
          "execution_count": 61
        }
      ]
    },
    {
      "cell_type": "code",
      "source": [
        "a = tf.matmul(a, tf.constant([[1, 1,1 ], [1, 1, 1],], dtype=\"float32\"))\n",
        "a"
      ],
      "metadata": {
        "colab": {
          "base_uri": "https://localhost:8080/"
        },
        "id": "syVUq5k0VGcM",
        "outputId": "2faa333a-d204-4fda-8ea8-356d42e99f64"
      },
      "execution_count": 62,
      "outputs": [
        {
          "output_type": "execute_result",
          "data": {
            "text/plain": [
              "<tf.Tensor: shape=(2, 3), dtype=float32, numpy=\n",
              "array([[4., 4., 4.],\n",
              "       [4., 4., 4.]], dtype=float32)>"
            ]
          },
          "metadata": {},
          "execution_count": 62
        }
      ]
    },
    {
      "cell_type": "markdown",
      "source": [
        "# Calculate gradient of diff. expression"
      ],
      "metadata": {
        "id": "lIH73YP_WwgV"
      }
    },
    {
      "cell_type": "code",
      "source": [
        "input_var = tf.Variable(initial_value=3.)\n",
        "\n",
        "with tf.GradientTape() as tape:\n",
        "    tape.watch(input_var)\n",
        "    result = tf.square(input_var) # x*x\n",
        "dy_dx = tape.gradient(result, input_var) # 2*x\n",
        "\n",
        "print(dy_dx)"
      ],
      "metadata": {
        "colab": {
          "base_uri": "https://localhost:8080/"
        },
        "id": "vXDa9ZFhVqH_",
        "outputId": "dfb88ebb-038c-4b38-fa25-410ecad6b5eb"
      },
      "execution_count": 71,
      "outputs": [
        {
          "output_type": "stream",
          "name": "stdout",
          "text": [
            "tf.Tensor(6.0, shape=(), dtype=float32)\n"
          ]
        }
      ]
    },
    {
      "cell_type": "code",
      "source": [
        "with tf.GradientTape() as tape_1:\n",
        "    tape_1.watch(input_var)\n",
        "    \n",
        "    with tf.GradientTape() as tape_2:\n",
        "        tape_2.watch(input_var)\n",
        "        y = tf.square(input_var) # x*x\n",
        "    dy_dx = tape_2.gradient(y, input_var) # 2*x\n",
        "    print(f\"dy_dx: {dy_dx}\")\n",
        "\n",
        "d2y_d2x = tape_1.gradient(dy_dx, input_var) # 2\n",
        "print(f\"d2y_dx2: {d2y_d2x}\")"
      ],
      "metadata": {
        "colab": {
          "base_uri": "https://localhost:8080/"
        },
        "id": "mKmOpdMeXM8x",
        "outputId": "93045138-725b-4587-cb38-8506b2856b00"
      },
      "execution_count": 70,
      "outputs": [
        {
          "output_type": "stream",
          "name": "stdout",
          "text": [
            "dy_dx: 6.0\n",
            "d2y_dx2: 2.0\n"
          ]
        }
      ]
    }
  ]
}